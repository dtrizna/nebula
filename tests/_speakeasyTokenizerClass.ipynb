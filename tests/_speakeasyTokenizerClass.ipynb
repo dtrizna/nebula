{
 "cells": [
  {
   "cell_type": "code",
   "execution_count": 1,
   "metadata": {},
   "outputs": [
    {
     "name": "stdout",
     "output_type": "stream",
     "text": [
      "     report_backdoor: 10/10                               \n",
      "        report_clean: 10/10                               \n",
      "    report_coinminer: 10/10                               \n",
      "      report_dropper: 10/10                               \n",
      "    report_keylogger: 10/10                               \n",
      "   report_ransomware: 10/10                               \n",
      "          report_rat: 10/10                               \n",
      "       report_trojan: 10/10                               \n",
      "report_windows_syswow64: 10/10                               \n"
     ]
    }
   ],
   "source": [
    "import os\n",
    "import sys\n",
    "sys.path.extend([\".\", \"..\"])\n",
    "import orjson\n",
    "from nebula import JSONTokenizer, PEDynamicFeatureExtractor\n",
    "from nebula.misc import getRealPath, flattenList\n",
    "\n",
    "PATH = getRealPath(type=\"notebook\")\n",
    "ROOT = PATH + r\"\\..\"\n",
    "TRAINSET = ROOT + r\"\\data\\data_raw\\windows_emulationDataset\"\n",
    "#TRAINSET = ROOT + r\"\\data\\data_filtered\\speakeasy_trainset\"\n",
    "\n",
    "subFolders = [x for x in os.listdir(TRAINSET) if x.startswith(\"report_\")]\n",
    "benignFolders = [\"report_clean\", \"report_windows_syswow64\"]\n",
    "\n",
    "LIMIT = 100\n",
    "\n",
    "speakeasyConfig = r\"C:\\Users\\dtrizna\\Code\\nebula\\emulation\\_speakeasyConfig.json\"\n",
    "extractor = PEDynamicFeatureExtractor(speakeasyConfig=speakeasyConfig)\n",
    "\n",
    "events = []\n",
    "for subFolder in subFolders:\n",
    "    fullPath = f\"{TRAINSET}\\\\{subFolder}\"\n",
    "    files = [f\"{fullPath}\\\\{x}\" for x in os.listdir(fullPath) if x.endswith(\".json\")][:LIMIT]\n",
    "    \n",
    "    l = len(files)\n",
    "    for i,file in enumerate(files):\n",
    "        print(f\"{subFolder:>20}: {i+1}/{l} {' '*30}\", end=\"\\r\")\n",
    "        with open(file, \"r\") as f:\n",
    "            #reportEntryPoints = orjson.loads(f.read())\n",
    "            jsonEventRecords = orjson.loads(f.read())\n",
    "\n",
    "        # for PE path or PE bytes you can use\n",
    "        #jsonEventRecords = extractor.emulate(path=path)\n",
    "        #jsonEventRecords = extractor.emulate(data=bytez)\n",
    "\n",
    "        # for entry_points from json report use\n",
    "        # ~1 sec for 100 events\n",
    "        jsonEventRecords = extractor.parseReportEntryPoints(jsonEventRecords)\n",
    "        \n",
    "        events.append(jsonEventRecords)\n",
    "    print()"
   ]
  },
  {
   "cell_type": "code",
   "execution_count": 9,
   "metadata": {},
   "outputs": [
    {
     "data": {
      "text/plain": [
       "0      <ret_val>\n",
       "1      <ret_val>\n",
       "2      <ret_val>\n",
       "3      0x5265c14\n",
       "4            0x1\n",
       "         ...    \n",
       "485    <ret_val>\n",
       "486    <ret_val>\n",
       "487    <ret_val>\n",
       "488          0x1\n",
       "489    <ret_val>\n",
       "Name: ret_val, Length: 490, dtype: object"
      ]
     },
     "execution_count": 9,
     "metadata": {},
     "output_type": "execute_result"
    }
   ],
   "source": [
    "recordDict = events[0]\n",
    "RETURN_VALUES_TOKEEP = ['0x1', '0x0', '0xfeee0001', '0x46f0', '0x77000000', '0x4690', '0x90', '0x100', '0xfeee0004', '0x6', '0x10c', '-0x1', '0xfeee0002', '0xfeee0000', '0x54', '0x3', '0x10', '0xfeee0005', '0x2', '0xfeee0003', '0x7d90', '0xfeee0006', '0x4610', '0x45f0', '0x20', '0xffffffff', '0x4e4', '0x8810', '0x7e70', '0x7', '0x7000', '0xc000', '0xfeee0007', '0xcd', '0xf002', '0xf001', '0xf003', '0xfeee0008', '0xfeee0009', '0xfeee000b', '0xfeee000a', '0xfeee000c', '0xfeee0014', '0x47b0', '0xfeee000e', '0xfeee000d', '0xfeee000f', '0xfeee0015', '0xfeee0016', '0xfeee0010', '0xfeee0011', '0xfeee0013', '0xfeee0012', '0x4', '0xfeee0017', '0xfeee0018', '0xfeee0019', '0x8000', '0x7ec0', '0x400000', '0x1db10106', '0xfeee001a', '0xfeee001c', '0xfeee001b', '0x102', '0x5', '0xfeee0071', '0x8', '0x5265c14', '0x9000', '0x7de0', '0xc', '0x14', '0xfeee001d', '0x46d0', '0xfeee001e', '0xfeee001f', '0xfeee0020', '0x50000', '0xe', '0x8cc0', '0x4012ac', '0x12', '0xfeee0040', '0xfeee0022', '0xfeee0021', '0xfeee0023', '0xfeee0024', '0xfeee0025', '0x77d10000', '0xfeee0027', '0x2a', '0xfeee0026', '0x2c', '0xfeee007e', '0xfeee005d', '0xfeee0028', '0x78000000', '0x2e', '0xfeee007c']\n",
    "recordDict['apis']['ret_val'][~recordDict['apis']['ret_val'].isin(RETURN_VALUES_TOKEEP)] = \"<ret_val>\"\n",
    "recordDict['apis']['ret_val']"
   ]
  },
  {
   "cell_type": "code",
   "execution_count": 18,
   "metadata": {},
   "outputs": [],
   "source": [
    "VOCAB_SIZE = 1000\n",
    "\n",
    "tokenizer = JSONTokenizer()\n",
    "\n",
    "# takes ~50s for 91k events\n",
    "eventsTokenized = tokenizer.tokenize(events)\n",
    "tokenizer.buildVocab(eventsTokenized, vocabSize=VOCAB_SIZE)\n",
    "\n",
    "if not LIMIT:\n",
    "    file = f\"speakeasyVocabTrainset_{VOCAB_SIZE}.pkl\"\n",
    "    print(\"Dumping vocab to {}\".format(file))\n",
    "    tokenizer.dumpVocab(file)\n",
    "_ = tokenizer.convertTokenListToIds(eventsTokenized[0:3])"
   ]
  },
  {
   "cell_type": "code",
   "execution_count": 19,
   "metadata": {},
   "outputs": [
    {
     "name": "stdout",
     "output_type": "stream",
     "text": [
      "1000\n",
      "1000\n",
      "1000\n"
     ]
    }
   ],
   "source": [
    "#print(tokenizer.vocab)\n",
    "print(len(tokenizer.vocab))\n",
    "print(tokenizer.vocabSize)\n",
    "print(VOCAB_SIZE)"
   ]
  },
  {
   "cell_type": "code",
   "execution_count": 20,
   "metadata": {},
   "outputs": [
    {
     "data": {
      "text/plain": [
       "[('0xfeee00cc', 86),\n",
       " ('0xfeee00cd', 86),\n",
       " ('0xfeee00ce', 86),\n",
       " ('0xfeee00cf', 86),\n",
       " ('kernel32.getwindowsdirectorya', 86),\n",
       " ('user32.getclassinfoa', 86),\n",
       " ('0x4960', 86),\n",
       " ('0xcb000', 86),\n",
       " ('0x76500000', 86),\n",
       " ('kernel32.getconsolewindow', 85),\n",
       " ('0x400', 85),\n",
       " ('0x7ee8', 85),\n",
       " ('0x7eed', 85),\n",
       " ('0x104', 84),\n",
       " ('shell32.shellexecutea', 84),\n",
       " ('ntdll.ldrgetprocedureaddress', 84),\n",
       " ('0x4093e9', 84),\n",
       " ('0x4093ea', 84),\n",
       " ('0x4093eb', 84),\n",
       " ('0x4093ec', 84),\n",
       " ('0x7540', 83),\n",
       " ('0x1b', 83),\n",
       " ('0x61', 83),\n",
       " ('0xf', 83),\n",
       " ('kernel32.interlockedcompareexchange', 83),\n",
       " ('0x4a40', 82),\n",
       " ('0xb0', 82),\n",
       " ('api-ms-win-crt-heap-l1-1-0.malloc', 82),\n",
       " ('0x3fb000', 82),\n",
       " ('msvcrt.exit', 81),\n",
       " ('kernel32.initializeconditionvariable', 81),\n",
       " ('msvcrt._ismbblead', 81),\n",
       " ('0x4275a0', 80),\n",
       " ('0x4254f0', 80),\n",
       " ('0x4a80', 80),\n",
       " ('kernel32.arefileapisansi', 79),\n",
       " ('0x3f5000', 79),\n",
       " ('kernel32.heapdestroy', 79),\n",
       " ('0x16000', 78),\n",
       " ('0x437117', 78),\n",
       " ('0x3f7000', 78),\n",
       " ('0x3f8000', 78),\n",
       " ('0x3f9000', 78),\n",
       " ('0x3fa000', 78),\n",
       " ('0x7e3000', 78),\n",
       " ('0x7e4000', 78),\n",
       " ('msvcrt.strlen', 77),\n",
       " ('0x54000', 76),\n",
       " ('0x7e50', 76),\n",
       " ('user32.findwindoww', 76)]"
      ]
     },
     "execution_count": 20,
     "metadata": {},
     "output_type": "execute_result"
    }
   ],
   "source": [
    "tokenizer.counter.most_common(tokenizer.vocabSize)[-50:]"
   ]
  },
  {
   "cell_type": "code",
   "execution_count": 21,
   "metadata": {},
   "outputs": [
    {
     "data": {
      "image/png": "[encoded data removed]",
      "text/plain": [
       "<Figure size 864x432 with 1 Axes>"
      ]
     },
     "metadata": {
      "needs_background": "light"
     },
     "output_type": "display_data"
    }
   ],
   "source": [
    "def plotCounterCountsLineplot(counter):\n",
    "    import matplotlib.pyplot as plt\n",
    "    import numpy as np\n",
    "    counts = [x[1] for x in counter.most_common()]\n",
    "    \n",
    "    plt.figure(figsize=(12,6))\n",
    "    plt.plot(np.arange(len(counts)), counts)\n",
    "    plt.yscale(\"log\")\n",
    "    # add ticks and grid to plot\n",
    "    plt.grid(which=\"both\")\n",
    "    plt.show()\n",
    "plotCounterCountsLineplot(tokenizer.counter)"
   ]
  },
  {
   "cell_type": "code",
   "execution_count": 22,
   "metadata": {},
   "outputs": [
    {
     "data": {
      "text/plain": [
       "852"
      ]
     },
     "execution_count": 22,
     "metadata": {},
     "output_type": "execute_result"
    }
   ],
   "source": [
    "registry_events = [x for x in eventsTokenized if \"registry_access\" in x]\n",
    "len(registry_events)"
   ]
  },
  {
   "cell_type": "code",
   "execution_count": 23,
   "metadata": {},
   "outputs": [
    {
     "data": {
      "text/plain": [
       "(8300, 2048)"
      ]
     },
     "execution_count": 23,
     "metadata": {},
     "output_type": "execute_result"
    }
   ],
   "source": [
    "MAX_SEQ_LEN = 2048\n",
    "\n",
    "# encode raw events\n",
    "eventsEncodedPadded = tokenizer.encode(events, maxLen=MAX_SEQ_LEN)\n",
    "eventsEncodedPadded.shape"
   ]
  },
  {
   "cell_type": "code",
   "execution_count": 24,
   "metadata": {},
   "outputs": [
    {
     "data": {
      "text/plain": [
       "(8300, 2048)"
      ]
     },
     "execution_count": 24,
     "metadata": {},
     "output_type": "execute_result"
    }
   ],
   "source": [
    "# if already tokenized\n",
    "eventsEncoded = tokenizer.convertTokenListToIds(eventsTokenized)\n",
    "eventsEncodedPadded = tokenizer.padSequenceList(eventsEncoded, maxLen=MAX_SEQ_LEN)\n",
    "eventsEncodedPadded.shape"
   ]
  },
  {
   "cell_type": "code",
   "execution_count": 25,
   "metadata": {},
   "outputs": [
    {
     "name": "stdout",
     "output_type": "stream",
     "text": [
      "['0x1', '0x0', '0xfeee0001', '0x46f0', '0x77000000', '0x4690', '0x90', '0x100', '0xfeee0004', '0x6', '0x10c', '-0x1', '0xfeee0002', '0xfeee0000', '0x54', '0x3', '0x10', '0xfeee0005', '0x2', '0xfeee0003', '0x7d90', '0xfeee0006', '0x4610', '0x45f0', '0x20', '0xffffffff', '0x4e4', '0x8810', '0x7e70', '0x7', '0x7000', '0xc000', '0xfeee0007', '0xcd', '0xf002', '0xf001', '0xf003', '0xfeee0008', '0xfeee0009', '0xfeee000b', '0xfeee000a', '0xfeee000c', '0xfeee0014', '0x47b0', '0xfeee000e', '0xfeee000d', '0xfeee000f', '0xfeee0015', '0xfeee0016', '0xfeee0010', '0xfeee0011', '0xfeee0013', '0xfeee0012', '0x4', '0xfeee0017', '0xfeee0018', '0xfeee0019', '0x8000', '0x7ec0', '0x400000', '0x1db10106', '0xfeee001a', '0xfeee001c', '0xfeee001b', '0x102', '0x5', '0xfeee0071', '0x8', '0x5265c14', '0x9000', '0x7de0', '0xc', '0x14', '0xfeee001d', '0x46d0', '0xfeee001e', '0xfeee001f', '0xfeee0020', '0x50000', '0xe', '0x8cc0', '0x4012ac', '0x12', '0xfeee0040', '0xfeee0022', '0xfeee0021', '0xfeee0023', '0xfeee0024', '0xfeee0025', '0x77d10000', '0xfeee0027', '0x2a', '0xfeee0026', '0x2c', '0xfeee007e', '0xfeee005d', '0xfeee0028', '0x78000000', '0x2e', '0xfeee007c']\n"
     ]
    }
   ],
   "source": [
    "TOP_RET_VALS = 100\n",
    "print([x[0] for x in sorted([(x,tokenizer.counter[x]) for x in tokenizer.counter if \"0x\" in x], key=lambda x: x[1], reverse=True)[0:TOP_RET_VALS]])"
   ]
  },
  {
   "cell_type": "code",
   "execution_count": null,
   "metadata": {},
   "outputs": [],
   "source": []
  }
 ],
 "metadata": {
  "kernelspec": {
   "display_name": "Python 3",
   "language": "python",
   "name": "python3"
  },
  "language_info": {
   "codemirror_mode": {
    "name": "ipython",
    "version": 3
   },
   "file_extension": ".py",
   "mimetype": "text/x-python",
   "name": "python",
   "nbconvert_exporter": "python",
   "pygments_lexer": "ipython3",
   "version": "3.9.13"
  },
  "orig_nbformat": 4,
  "vscode": {
   "interpreter": {
    "hash": "4e123ac7eba4d44924a894b1be2fc564282b1d2645e9d64ed33bc5003b6c2a87"
   }
  }
 },
 "nbformat": 4,
 "nbformat_minor": 2
}
