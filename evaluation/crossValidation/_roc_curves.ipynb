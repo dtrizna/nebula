{
 "cells": [
  {
   "cell_type": "code",
   "execution_count": 64,
   "metadata": {},
   "outputs": [],
   "source": [
    "import os\n",
    "import torch\n",
    "import numpy as np\n",
    "from tqdm import tqdm\n",
    "import matplotlib.pyplot as plt \n",
    "from sklearn.metrics import roc_curve, auc\n",
    "\n",
    "import sys\n",
    "REPO_ROOT = r\"..\\..\"\n",
    "sys.path.append(REPO_ROOT)\n",
    "from nebula.neurlux.model import NeurLuxModel\n",
    "from nebula.attention import TransformerEncoderWithChunking\n",
    "from nebula.models import Cnn1DLinear\n",
    "from collections import defaultdict\n",
    "\n",
    "XLIM = [-0.001, 0.006]\n",
    "YLIM = [0.3, 1]\n",
    "\n",
    "def get_roc_curve_from_folder(inFolder, model, name=None, fileIdx=0):\n",
    "    # loading model\n",
    "    objectFolder = os.path.join(inFolder, \"training_files\")\n",
    "    modelFiles = [os.path.join(objectFolder, x) for x in os.listdir(objectFolder) if x.endswith(\".torch\")]\n",
    "    modelDict = torch.load(modelFiles[fileIdx])\n",
    "    model.load_state_dict(modelDict)\n",
    "\n",
    "    device = torch.device(\"cuda:0\" if torch.cuda.is_available() else \"cpu\")\n",
    "    model.to(device).eval()\n",
    "\n",
    "    # loading data\n",
    "    timestamp = modelFiles[fileIdx].split(\"\\\\\")[-1].split(\"-\")[0]\n",
    "    dataset_file = os.path.join(inFolder, f\"dataset_splits_{timestamp}.npz\")\n",
    "    data_npz = np.load(dataset_file)\n",
    "    \n",
    "    X_test = data_npz[\"X_test\"]\n",
    "    y_test = data_npz[\"y_test\"]\n",
    "    X_test = torch.from_numpy(X_test).long().to(device)\n",
    "    y_test = torch.from_numpy(y_test).float().to(device)\n",
    "\n",
    "    # getting predictions\n",
    "    testLoader = torch.utils.data.DataLoader(\n",
    "        torch.utils.data.TensorDataset(X_test, y_test),\n",
    "        batch_size=64,\n",
    "        shuffle=True)\n",
    "\n",
    "    with torch.no_grad():\n",
    "        y_pred = []\n",
    "        y_true = []\n",
    "        if name:\n",
    "            print(f\"Evaluating {name}...\")\n",
    "        else:\n",
    "            print(\"Evaluating model...\")\n",
    "        for X, y in tqdm(testLoader):\n",
    "            y_hat = model(X)\n",
    "            y_pred.append(y_hat.cpu().numpy())\n",
    "            y_true.append(y.cpu().numpy())\n",
    "    y_pred = np.concatenate(y_pred)\n",
    "    y_true = np.concatenate(y_true)\n",
    "\n",
    "    # calculating ROC curve\n",
    "    fpr, tpr, _ = roc_curve(y_true, y_pred)\n",
    "    roc_auc = auc(fpr, tpr)\n",
    "\n",
    "    return fpr, tpr, roc_auc\n",
    "\n",
    "def plot_roc_curves(fpr, tpr, roc_auc, model_name, axs):\n",
    "    # plotting ROC curve\n",
    "    axs[0].plot(fpr, tpr, lw=2, label=f\"{model_name} ROC curve (area = {roc_auc:.4f})\")\n",
    "    axs[0].plot([0, 1], [0, 1], color=\"navy\", lw=2, linestyle=\"--\")\n",
    "    axs[0].set_xlim([0.0, 1.0])\n",
    "    axs[0].set_ylim([0.0, 1.05])\n",
    "    axs[0].grid()\n",
    "\n",
    "    # plot zoomed in ROC curve x-axis from 0 to 0.2\n",
    "    axs[1].plot(fpr, tpr, lw=2, label=f\"{model_name} ROC curve (area = {roc_auc:.4f})\")\n",
    "    axs[1].plot([0, 1], [0, 1], color=\"navy\", lw=2, linestyle=\"--\")\n",
    "    axs[1].set_xlim([0.0, 0.15])\n",
    "    axs[1].set_ylim([0.85, 1.0])\n",
    "    axs[1].grid()\n",
    "\n",
    "    return axs\n",
    "\n",
    "def plot_roc_curve(fpr, tpr, roc_auc, model_name, ax, xlim=[0, 0.15], ylim=[0.85, 1.0]):\n",
    "    # plot zoomed in ROC curve\n",
    "    ax.plot(fpr, tpr, lw=2, label=f\"{model_name} ROC curve (area = {roc_auc:.4f})\")\n",
    "    #ax.plot([0, 1], [0, 1], color=\"navy\", lw=2, linestyle=\"--\")\n",
    "    ax.set_xlim(xlim)\n",
    "    ax.set_ylim(ylim)\n",
    "    return ax"
   ]
  },
  {
   "cell_type": "code",
   "execution_count": 2,
   "metadata": {},
   "outputs": [
    {
     "name": "stdout",
     "output_type": "stream",
     "text": [
      "Evaluation of file with idx: 0\n",
      "Evaluating NeurLux...\n"
     ]
    },
    {
     "name": "stderr",
     "output_type": "stream",
     "text": [
      "100%|██████████| 397/397 [00:06<00:00, 60.42it/s]\n"
     ]
    },
    {
     "name": "stdout",
     "output_type": "stream",
     "text": [
      "Evaluating NeurLux BPE...\n"
     ]
    },
    {
     "name": "stderr",
     "output_type": "stream",
     "text": [
      "100%|██████████| 397/397 [00:04<00:00, 93.47it/s]\n"
     ]
    },
    {
     "name": "stdout",
     "output_type": "stream",
     "text": [
      "Evaluating Transformer...\n"
     ]
    },
    {
     "name": "stderr",
     "output_type": "stream",
     "text": [
      "100%|██████████| 397/397 [00:20<00:00, 19.78it/s]\n"
     ]
    },
    {
     "name": "stdout",
     "output_type": "stream",
     "text": [
      "Evaluating Cnn1DLinear...\n"
     ]
    },
    {
     "name": "stderr",
     "output_type": "stream",
     "text": [
      "100%|██████████| 397/397 [00:04<00:00, 86.69it/s]\n"
     ]
    },
    {
     "name": "stdout",
     "output_type": "stream",
     "text": [
      "Evaluation of file with idx: 1\n",
      "Evaluating NeurLux...\n"
     ]
    },
    {
     "name": "stderr",
     "output_type": "stream",
     "text": [
      "100%|██████████| 397/397 [00:04<00:00, 90.76it/s]\n"
     ]
    },
    {
     "name": "stdout",
     "output_type": "stream",
     "text": [
      "Evaluating NeurLux BPE...\n"
     ]
    },
    {
     "name": "stderr",
     "output_type": "stream",
     "text": [
      "100%|██████████| 397/397 [00:04<00:00, 91.28it/s]\n"
     ]
    },
    {
     "name": "stdout",
     "output_type": "stream",
     "text": [
      "Evaluating Transformer...\n"
     ]
    },
    {
     "name": "stderr",
     "output_type": "stream",
     "text": [
      "100%|██████████| 397/397 [00:22<00:00, 17.97it/s]\n"
     ]
    },
    {
     "name": "stdout",
     "output_type": "stream",
     "text": [
      "Evaluating Cnn1DLinear...\n"
     ]
    },
    {
     "name": "stderr",
     "output_type": "stream",
     "text": [
      "100%|██████████| 397/397 [00:03<00:00, 131.86it/s]\n"
     ]
    },
    {
     "name": "stdout",
     "output_type": "stream",
     "text": [
      "Evaluation of file with idx: 2\n",
      "Evaluating NeurLux...\n"
     ]
    },
    {
     "name": "stderr",
     "output_type": "stream",
     "text": [
      "100%|██████████| 397/397 [00:03<00:00, 127.88it/s]\n"
     ]
    },
    {
     "name": "stdout",
     "output_type": "stream",
     "text": [
      "Evaluating NeurLux BPE...\n"
     ]
    },
    {
     "name": "stderr",
     "output_type": "stream",
     "text": [
      "100%|██████████| 397/397 [00:03<00:00, 130.94it/s]\n"
     ]
    },
    {
     "name": "stdout",
     "output_type": "stream",
     "text": [
      "Evaluating Transformer...\n"
     ]
    },
    {
     "name": "stderr",
     "output_type": "stream",
     "text": [
      "100%|██████████| 397/397 [00:08<00:00, 45.46it/s]\n"
     ]
    },
    {
     "name": "stdout",
     "output_type": "stream",
     "text": [
      "Evaluating Cnn1DLinear...\n"
     ]
    },
    {
     "name": "stderr",
     "output_type": "stream",
     "text": [
      "100%|██████████| 397/397 [00:03<00:00, 119.72it/s]\n"
     ]
    }
   ],
   "source": [
    "fprs, tprs, roc_aucs = defaultdict(dict), defaultdict(dict), defaultdict(dict)\n",
    "\n",
    "for foldIdx in [0,1,2]:\n",
    "    print(\"Evaluation of CV fold files with idx: \" + str(foldIdx))\n",
    "    # NEURLUX\n",
    "    inFolder = r\"vocab10k_len512_ep6\\neurlux_maxLens_512_6_epochs_1676307040\"\n",
    "    modelArch = {\n",
    "            \"embedding_dim\": 256,\n",
    "            \"vocab_size\": 10000,\n",
    "            \"max_len\": 512\n",
    "        }\n",
    "    model = NeurLuxModel(**modelArch)\n",
    "    name = model.__name__\n",
    "    fprs[name][foldIdx], tprs[name][foldIdx], roc_aucs[name][foldIdx] = get_roc_curve_from_folder(inFolder, model, name=name, fileIdx=foldIdx)\n",
    "\n",
    "    # NEURLUX BPE\n",
    "    inFolder = r\"vocab10k_len512_ep6\\neurlux_BPE_maxLens_512_6_epochs_1676315012\"\n",
    "    modelArch = {\n",
    "            \"embedding_dim\": 256,\n",
    "            \"vocab_size\": 10003,\n",
    "            \"max_len\": 512\n",
    "        }\n",
    "    model = NeurLuxModel(**modelArch)\n",
    "    name = model.__name__ + \" BPE\"\n",
    "    fprs[name][foldIdx], tprs[name][foldIdx], roc_aucs[name][foldIdx] = get_roc_curve_from_folder(inFolder, model, name=name, fileIdx=foldIdx)\n",
    "\n",
    "    # TRANSFORMER\n",
    "    inFolder = r\"vocab10k_len512_ep6\\Transformer_wChunks_maxLen_512_6_epochs_1676317336\"\n",
    "    modelArch = {\n",
    "        \"vocabSize\": 10003,  # size of vocabulary\n",
    "        \"maxLen\": 512,  # maximum length of the input sequence\n",
    "        \"chunk_size\": 64,\n",
    "        \"dModel\": 64,  # embedding & transformer dimension\n",
    "        \"nHeads\": 8,  # number of heads in nn.MultiheadAttention\n",
    "        \"dHidden\": 256,  # dimension of the feedforward network model in nn.TransformerEncoder\n",
    "        \"nLayers\": 2,  # number of nn.TransformerEncoderLayer in nn.TransformerEncoder\n",
    "        \"numClasses\": 1, # binary classification\n",
    "        \"hiddenNeurons\": [64],\n",
    "        \"layerNorm\": False,\n",
    "        \"dropout\": 0.2\n",
    "    }\n",
    "    model = TransformerEncoderWithChunking(**modelArch)\n",
    "    name = \"Transformer\"\n",
    "    fprs[name][foldIdx], tprs[name][foldIdx], roc_aucs[name][foldIdx] = get_roc_curve_from_folder(inFolder, model, name=name, fileIdx=foldIdx)\n",
    "\n",
    "\n",
    "    # CNN\n",
    "    inFolder = r\"vocab10k_len512_ep6\\Cnn1DLinear_maxLen_512_6_epochs_1676355847\"\n",
    "    modelArch = {\n",
    "        \"vocabSize\": 10003,\n",
    "        \"maxLen\": 512,\n",
    "        \"embeddingDim\": 64,\n",
    "        \"hiddenNeurons\": [512, 256, 128],\n",
    "        \"batchNormConv\": False,\n",
    "        \"batchNormFFNN\": False,\n",
    "        \"filterSizes\": [2, 3, 4, 5],\n",
    "        \"dropout\": 0.2\n",
    "    }\n",
    "    model = Cnn1DLinear(**modelArch)\n",
    "    name = model.__name__\n",
    "    fprs[name][foldIdx], tprs[name][foldIdx], roc_aucs[name][foldIdx] = get_roc_curve_from_folder(inFolder, model, name=name, fileIdx=foldIdx)"
   ]
  },
  {
   "cell_type": "code",
   "execution_count": 68,
   "metadata": {},
   "outputs": [
    {
     "data": {
      "image/png": "[encoded data removed]",
      "text/plain": [
       "<Figure size 864x360 with 1 Axes>"
      ]
     },
     "metadata": {
      "needs_background": "light"
     },
     "output_type": "display_data"
    }
   ],
   "source": [
    "SKIP_MODELS = [\"Cnn1DLinear\", \"NeurLux\"]\n",
    "base_fpr = np.linspace(0, 1, 50001)\n",
    "trps_same = defaultdict(dict)\n",
    "for key in tprs.keys():\n",
    "    for idx in range(3):\n",
    "        trps_same[key][idx] = np.interp(base_fpr, fprs[key][idx], tprs[key][idx])\n",
    "        trps_same[key][idx][0] = 0.0\n",
    "\n",
    "fig, ax = plt.subplots(1,1, figsize=(12,5))\n",
    "for key in trps_same.keys():\n",
    "    if key in SKIP_MODELS:\n",
    "        continue\n",
    "    # plot mean of TPRS\n",
    "    mean_tpr = np.mean(list(trps_same[key].values()), axis=0)\n",
    "    mean_tpr[-1] = 1.0\n",
    "    mean_auc = auc(base_fpr, mean_tpr)\n",
    "    ax.plot(base_fpr, mean_tpr, lw=2, label=f\"{key} ROC curve (area = {mean_auc:.4f})\")\n",
    "    # get color from last plot\n",
    "    color = ax.lines[-1].get_color()\n",
    "    # plot std of TPRS\n",
    "    std_tpr = np.std(list(trps_same[key].values()), axis=0)\n",
    "    tprs_upper = np.minimum(mean_tpr + std_tpr, 1)\n",
    "    tprs_lower = mean_tpr - std_tpr\n",
    "    # make color transparent -- e.g. 1f77b4 -> 1f77b433\n",
    "    color = color[:-2] + \"33\"\n",
    "    ax.fill_between(base_fpr, tprs_lower, tprs_upper, color=color, alpha=.2)\n",
    "\n",
    "    # plot each of TPRs for each fold\n",
    "    # for idx in range(3):\n",
    "    #     ax.plot(fprs[key][idx], tprs[key][idx], lw=1, alpha=0.3, color=color)\n",
    "\n",
    "    ax.set_xlim(XLIM)\n",
    "    ax.set_ylim(YLIM)\n",
    "\n",
    "\n",
    "ax.legend(loc=\"lower right\")\n",
    "ax.grid()"
   ]
  },
  {
   "cell_type": "code",
   "execution_count": null,
   "metadata": {},
   "outputs": [],
   "source": []
  }
 ],
 "metadata": {
  "kernelspec": {
   "display_name": "Python 3",
   "language": "python",
   "name": "python3"
  },
  "language_info": {
   "codemirror_mode": {
    "name": "ipython",
    "version": 3
   },
   "file_extension": ".py",
   "mimetype": "text/x-python",
   "name": "python",
   "nbconvert_exporter": "python",
   "pygments_lexer": "ipython3",
   "version": "3.9.13"
  },
  "orig_nbformat": 4,
  "vscode": {
   "interpreter": {
    "hash": "4e123ac7eba4d44924a894b1be2fc564282b1d2645e9d64ed33bc5003b6c2a87"
   }
  }
 },
 "nbformat": 4,
 "nbformat_minor": 2
}
