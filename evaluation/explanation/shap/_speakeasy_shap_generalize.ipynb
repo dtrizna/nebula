{
 "cells": [
  {
   "cell_type": "code",
   "execution_count": 221,
   "metadata": {},
   "outputs": [],
   "source": [
    "import copy\n",
    "import json\n",
    "import os\n",
    "import pathlib\n",
    "import sys\n",
    "import pickle\n",
    "from tqdm import tqdm\n",
    "import numpy as np\n",
    "\n",
    "import matplotlib.pyplot as plt\n",
    "import scienceplots\n",
    "plt.style.use(['science', 'no-latex'])\n",
    "\n",
    "# shap displays NumbaDeprecationWarning when importing -- supress them\n",
    "import warnings\n",
    "from numba.core.errors import NumbaDeprecationWarning\n",
    "warnings.filterwarnings(\"ignore\", category=NumbaDeprecationWarning)\n",
    "\n",
    "import shap\n",
    "import torch\n",
    "from torch import Tensor, sigmoid\n",
    "\n",
    "# logging.basicConfig(level=logging.INFO)\n",
    "\n",
    "# correct path to repository root\n",
    "REPOSITORY_ROOT = os.path.join(os.getcwd(), \"..\", \"..\", \"..\")\n",
    "sys.path.append(REPOSITORY_ROOT)\n",
    "\n",
    "from nebula import PEDynamicFeatureExtractor\n",
    "from nebula.models.attention import TransformerEncoderOptionalEmbedding\n",
    "from nebula.preprocessing import JSONTokenizerNaive\n",
    "\n",
    "from nebula.misc.plots import set_size\n",
    "\n",
    "from nebula.misc import fix_random_seed\n",
    "fix_random_seed(0)\n",
    "\n",
    "\n",
    "def compute_score(llm, x, verbose=True):\n",
    "    logit = llm(x)\n",
    "    prob = sigmoid(logit)\n",
    "    if verbose:\n",
    "        print(f\"\\n[!!!] Probability of being malicious: {prob.item():.3f} | Logit: {logit.item():.3f}\")\n",
    "    return prob.item()\n",
    "\n",
    "\n",
    "def load_tokenizer():\n",
    "    with open(os.path.join(REPOSITORY_ROOT, \"nebula\", \"objects\",\n",
    "                           \"speakeasy_whitespace_50000_vocab.json\")) as f:\n",
    "        vocab = json.load(f)\n",
    "\n",
    "    tokenizer = JSONTokenizerNaive(\n",
    "        vocab_size=len(vocab),\n",
    "        seq_len=512,\n",
    "        vocab=vocab\n",
    "    )\n",
    "    return tokenizer\n",
    "\n",
    "def tokenize_sample(report_path, encode=True):\n",
    "    extractor = PEDynamicFeatureExtractor()\n",
    "    filtered_report = extractor.filter_and_normalize_report(report_path)\n",
    "    tokenizer = load_tokenizer()\n",
    "    tokenized_report = tokenizer.tokenize(filtered_report)\n",
    "    if encode:\n",
    "        encoded_report = tokenizer.encode(tokenized_report, pad=True, tokenize=False)\n",
    "        x = Tensor(encoded_report).long()\n",
    "        return x\n",
    "    else:\n",
    "        return tokenized_report\n",
    "\n",
    "\n",
    "def embed(llm_model, report, device=\"cpu\"):\n",
    "    src = tokenize_sample(report)\n",
    "    s = llm_model.split(src)\n",
    "    s = s.to(device)\n",
    "    e = llm_model.embed(s)\n",
    "    return e\n",
    "\n",
    "\n",
    "def plot_shap_values(shap_values: np.ndarray, name: str):\n",
    "    shap_values = shap_values.mean(axis=2)\n",
    "    pos_idx = shap_values[0] >= 0\n",
    "    neg_index = shap_values[0] < 0\n",
    "    pos_shap = copy.deepcopy(shap_values)[0]\n",
    "    pos_shap[neg_index] = 0\n",
    "    neg_shap = copy.deepcopy(shap_values)[0]\n",
    "    neg_shap[pos_idx] = 0\n",
    "    x = range(512)\n",
    "    plt.bar(x, pos_shap)\n",
    "    plt.bar(x, neg_shap)\n",
    "    plt.title(name)\n",
    "    plt.show()\n",
    "\n",
    "\n",
    "def load_model(skip_embedding=False):\n",
    "    pretrained_model = os.path.join(REPOSITORY_ROOT, \"nebula\", \"objects\", \"speakeasy_whitespace_50000_torch.model\")\n",
    "    with open(os.path.join(REPOSITORY_ROOT, \"nebula\", \"objects\", \"speakeasy_whitespace_50000_vocab.json\")) as f:\n",
    "        vocab = json.load(f)\n",
    "    model_config = {\n",
    "        \"vocab_size\": len(vocab),\n",
    "        \"maxlen\": 512,\n",
    "        \"chunk_size\": 64,  # input splitting to chunks\n",
    "        \"dModel\": 64,  # embedding & transformer dimension\n",
    "        \"nHeads\": 8,  # number of heads in nn.MultiheadAttention\n",
    "        \"dHidden\": 256,  # dimension of the feedforward network model in nn.TransformerEncoder\n",
    "        \"nLayers\": 2,  # number of nn.TransformerEncoderLayer in nn.TransformerEncoder\n",
    "        \"numClasses\": 1,  # binary classification\n",
    "        \"hiddenNeurons\": [64],  # classifier ffnn dims\n",
    "        \"layerNorm\": False,\n",
    "        \"dropout\": 0.3,\n",
    "        \"mean_over_sequence\": False,\n",
    "        \"norm_first\": True,\n",
    "        \"skip_embedding\": skip_embedding\n",
    "    }\n",
    "    state_dict = torch.load(pretrained_model, map_location='cpu')\n",
    "    llm = TransformerEncoderOptionalEmbedding(**model_config)\n",
    "    llm.load_state_dict(state_dict)\n",
    "    llm.eval()\n",
    "    return llm\n",
    "\n",
    "model = load_model()\n",
    "model_no_embed = load_model(skip_embedding=True)\n",
    "tokenizer = load_tokenizer()\n",
    "\n",
    "malware_folder = pathlib.Path(os.path.join(REPOSITORY_ROOT, \"evaluation\", \"explanation\", \"malware\"))\n",
    "goodware_folder = pathlib.Path(os.path.join(REPOSITORY_ROOT, \"evaluation\", \"explanation\", \"goodware\"))\n",
    "\n",
    "baseline_report = os.path.join(REPOSITORY_ROOT, r\"emulation\", \"report_baseline.json\")\n",
    "\n",
    "x_baseline = tokenize_sample(baseline_report)\n",
    "x_embed_baseline = embed(model, baseline_report)"
   ]
  },
  {
   "cell_type": "code",
   "execution_count": 222,
   "metadata": {},
   "outputs": [],
   "source": [
    "def generalize_shap_values(reports, model, embed_baseline, threshold=0.5, verbose=True):\n",
    "    explanations_tp = {}\n",
    "    explanations_fn = {}\n",
    "    if isinstance(reports, pathlib.Path):\n",
    "        generator = reports.glob(\"*.json\")\n",
    "    if isinstance(reports, list):\n",
    "        generator = [x for x in reports if x.endswith(\"json\")]\n",
    "    tp_idx = 0\n",
    "    fn_idx = 0\n",
    "    length = len(generator)\n",
    "    for i, report in enumerate(generator):\n",
    "        print(f\"[*] Processing: {i}/{length} | TPs: {tp_idx} | FNs: {fn_idx}\", end=\"\\r\")\n",
    "        try:\n",
    "            name = report.name\n",
    "        except AttributeError:\n",
    "            name = report\n",
    "        if verbose:\n",
    "            print(name)\n",
    "        x_embed = embed(model, str(report))\n",
    "        prob = compute_score(model, x_embed, verbose=verbose)\n",
    "        explainer = shap.GradientExplainer(model_no_embed, data=embed_baseline)\n",
    "        explanations = explainer.shap_values(x_embed, nsamples=50)\n",
    "        token_idxs = tokenize_sample(str(report), encode=True)\n",
    "        if prob > threshold:\n",
    "            tp_idx += 1\n",
    "            explanations_tp[name] = (explanations, token_idxs)\n",
    "        else:\n",
    "            fn_idx += 1\n",
    "            explanations_fn[name] = (explanations, token_idxs)\n",
    "    return explanations_tp, explanations_fn\n",
    "\n",
    "def aggregate_values(data, vocab):\n",
    "    # Initialize an output dictionary with vocab keys and values set to zero\n",
    "    output_dict = {k: 0 for k in vocab.keys()}\n",
    "    \n",
    "    # Iterate through each name in data\n",
    "    for values, token_idxs in tqdm(data.values()):\n",
    "        # Average the shap values across the embedding dimension\n",
    "        values = values.mean(axis=2).squeeze().tolist()\n",
    "        token_idxs = token_idxs.squeeze().tolist()\n",
    "        for v, idx in zip(values, token_idxs):\n",
    "            # For each token index, find the corresponding token in vocab\n",
    "            token = [k for k, i in vocab.items() if i == idx][0]\n",
    "            # Add the value to the output_dict for that token\n",
    "            output_dict[token] += v\n",
    "\n",
    "    return output_dict\n"
   ]
  },
  {
   "cell_type": "markdown",
   "metadata": {},
   "source": [
    "## Running on 1000 Trojans"
   ]
  },
  {
   "cell_type": "code",
   "execution_count": 223,
   "metadata": {},
   "outputs": [
    {
     "name": "stdout",
     "output_type": "stream",
     "text": [
      "[*] Processing: 28/1000 | TPs: 28 | FNs: 0\r"
     ]
    }
   ],
   "source": [
    "LIMIT = 1000\n",
    "\n",
    "trojan_folder = os.path.join(REPOSITORY_ROOT, r\"data\\windows_emulation_testset\\report_trojan\")\n",
    "# 1000 files takes ~35 mins\n",
    "files_limited = [os.path.join(trojan_folder, x) for x in os.listdir(trojan_folder)][:LIMIT]\n",
    "\n",
    "explanations_tp_trojans_file = f\"explanations_tp_trojans_lim_{LIMIT}.pickle\"\n",
    "explanations_fn_trojans_file = f\"explanations_fn_trojans_lim_{LIMIT}.pickle\"\n",
    "\n",
    "if os.path.exists(explanations_tp_trojans_file) and os.path.exists(explanations_fn_trojans_file):\n",
    "    with open(explanations_tp_trojans_file, \"rb\") as f:\n",
    "        explanations_tp_trojans = pickle.load(f)\n",
    "    with open(explanations_fn_trojans_file, \"rb\") as f:\n",
    "        explanations_fn_trojans = pickle.load(f)\n",
    "else:\n",
    "    explanations_tp_trojans, explanations_fn_trojans = generalize_shap_values(\n",
    "        files_limited,\n",
    "        model_no_embed,\n",
    "        x_embed_baseline,\n",
    "        verbose=False\n",
    "    )\n",
    "    # dump as pickle\n",
    "    with open(explanations_tp_trojans_file, \"wb\") as f:\n",
    "        pickle.dump(explanations_tp_trojans, f)\n",
    "    with open(explanations_fn_trojans_file, \"wb\") as f:\n",
    "        pickle.dump(explanations_fn_trojans, f)\n"
   ]
  },
  {
   "cell_type": "markdown",
   "metadata": {},
   "source": [
    "### True Positive Analysis"
   ]
  },
  {
   "cell_type": "code",
   "execution_count": null,
   "metadata": {},
   "outputs": [
    {
     "data": {
      "text/plain": [
       "[('kernel32', 2.7145000577030167),\n",
       " ('0x26000', 1.319775906860253),\n",
       " ('0x4c46a0', 0.8579591625457592),\n",
       " ('0xcf0000', 0.5644899825376138),\n",
       " ('0xffe2', 0.3482311958086516),\n",
       " ('cb', 0.2932017905899588),\n",
       " ('0x698b8c', 0.2893134338736512),\n",
       " ('advapi32', 0.23758122276968185),\n",
       " ('0x400108', 0.20499050805694277),\n",
       " ('0xa6ee60', 0.14797877835062845),\n",
       " ('0x7f00', 0.1412859435319732),\n",
       " ('getprocaddress', 0.13847997858309788),\n",
       " ('123', 0.12302507824344303),\n",
       " ('0x78', 0.11978063113711848),\n",
       " ('heapalloc', 0.10451110408583728),\n",
       " ('readfile', 0.08743576936498343),\n",
       " ('getmodulehandlea', 0.06579403370112143),\n",
       " ('0xb545', 0.06475632004408513),\n",
       " ('0x7810', 0.05168666530663365),\n",
       " ('0x4', 0.05079991093378146)]"
      ]
     },
     "execution_count": 37,
     "metadata": {},
     "output_type": "execute_result"
    }
   ],
   "source": [
    "agg_shap_tokens_tp = aggregate_values(explanations_tp_trojans, tokenizer.vocab)\n",
    "\n",
    "TOP = 20\n",
    "top_tp_features = sorted(agg_shap_tokens_tp.items(), key=lambda x: x[1], reverse=True)[:TOP]\n",
    "top_tp_features"
   ]
  },
  {
   "cell_type": "code",
   "execution_count": null,
   "metadata": {},
   "outputs": [
    {
     "name": "stderr",
     "output_type": "stream",
     "text": [
      "FixedFormatter should only be used together with FixedLocator\n",
      "FixedFormatter should only be used together with FixedLocator\n"
     ]
    },
    {
     "data": {
      "image/png": "[encoded data removed]",
      "text/plain": [
       "<Figure size 504x311.489 with 1 Axes>"
      ]
     },
     "metadata": {
      "needs_background": "light"
     },
     "output_type": "display_data"
    }
   ],
   "source": [
    "plt.style.use(['science', 'no-latex'])\n",
    "\n",
    "# [1:] to exclude kernel32\n",
    "x = [x[0] for x in top_tp_features][1:]\n",
    "y = np.array([x[1] for x in top_tp_features][1:])\n",
    "# normalize y to be within [0, 1]\n",
    "y = (y - y.min()) / (y.max() - y.min())\n",
    "\n",
    "fig, ax = plt.subplots(figsize=set_size())\n",
    "ax.bar(x, y)\n",
    "ax.set_xticklabels(x, rotation=45, ha=\"right\", fontsize=12)\n",
    "ax.set_yticklabels([f\"{x:.1f}\" for x in ax.get_yticks()], fontsize=12)\n",
    "_ = ax.set_ylabel(\"Normalized SHAP value\", fontsize=12)\n",
    "plt.tight_layout()"
   ]
  },
  {
   "cell_type": "markdown",
   "metadata": {},
   "source": [
    "### False Negative Analysis"
   ]
  },
  {
   "cell_type": "code",
   "execution_count": null,
   "metadata": {},
   "outputs": [
    {
     "name": "stderr",
     "output_type": "stream",
     "text": [
      "100%|██████████| 1/1 [00:00<00:00,  1.40it/s]\n"
     ]
    },
    {
     "data": {
      "text/plain": [
       "[('<unk>', -0.04635518790434057),\n",
       " ('0x1', -0.010062842535704579),\n",
       " ('0x0', -0.006498386150708446),\n",
       " ('0x77000000', -0.004205078536833721),\n",
       " ('none', -0.001958914522640683),\n",
       " ('tlssetvalue', -0.0019085618255553407),\n",
       " ('tlsgetvalue', -0.001801541602693631),\n",
       " ('0xfa0', -0.001669068128970218),\n",
       " ('0xfeee0004', -0.0016111512408160085),\n",
       " ('0x1211fd0', -0.0013588148399044807),\n",
       " ('0x94', -0.0012081603363364379),\n",
       " ('encodepointer', -0.0010074120506738473),\n",
       " ('getcurrentthreadid', -0.0010064187399421716),\n",
       " ('0x4610', -0.0009398665910215246),\n",
       " ('dll', -0.000735781810677899),\n",
       " ('0x1000', -0.0007348851820178512),\n",
       " ('heapcreate', -0.0006668970603634829),\n",
       " ('flsgetvalue', -0.0006431560753683361),\n",
       " ('initializecriticalsectionandspincount', -0.0005358899826465506),\n",
       " ('0x46b0', -0.0003764186754973676)]"
      ]
     },
     "execution_count": 55,
     "metadata": {},
     "output_type": "execute_result"
    }
   ],
   "source": [
    "agg_shap_tokens_fn = aggregate_values(explanations_fn_trojans, tokenizer.vocab)\n",
    "top_fn_features = sorted(agg_shap_tokens_fn.items(), key=lambda x: x[1], reverse=False)[:TOP]\n",
    "top_fn_features"
   ]
  },
  {
   "cell_type": "code",
   "execution_count": null,
   "metadata": {},
   "outputs": [
    {
     "name": "stderr",
     "output_type": "stream",
     "text": [
      "FixedFormatter should only be used together with FixedLocator\n",
      "FixedFormatter should only be used together with FixedLocator\n"
     ]
    },
    {
     "data": {
      "image/png": "[encoded data removed]",
      "text/plain": [
       "<Figure size 504x311.489 with 1 Axes>"
      ]
     },
     "metadata": {
      "needs_background": "light"
     },
     "output_type": "display_data"
    }
   ],
   "source": [
    "plt.style.use(['science', 'no-latex'])\n",
    "\n",
    "SKIP = 1\n",
    "x = [x[0][:20] for x in top_fn_features][SKIP:]\n",
    "y = np.array([x[1] for x in top_fn_features][SKIP:])\n",
    "# flip sign for all y\n",
    "y = -y\n",
    "# normalize y to be within [0, 1]\n",
    "y = (y - y.min()) / (y.max() - y.min())\n",
    "\n",
    "fig, ax = plt.subplots(figsize=set_size())\n",
    "ax.bar(x, y, color='orange')\n",
    "ax.set_xticklabels(x, rotation=45, ha=\"right\", fontsize=12)\n",
    "ax.set_yticklabels([f\"{x:.2f}\" for x in ax.get_yticks()], fontsize=12)\n",
    "_ = ax.set_ylabel(\"Normalized SHAP value\", fontsize=12)\n",
    "plt.tight_layout()"
   ]
  },
  {
   "cell_type": "markdown",
   "metadata": {},
   "source": [
    "## Running on Goodware"
   ]
  },
  {
   "cell_type": "code",
   "execution_count": null,
   "metadata": {},
   "outputs": [
    {
     "name": "stdout",
     "output_type": "stream",
     "text": [
      "[*] Processing: 49/50 | TPs: 32 | FNs: 17\r"
     ]
    }
   ],
   "source": [
    "def generalize_shap_values(reports, model, embed_baseline, threshold=0.5, verbose=True):\n",
    "    explanations_tp = {}\n",
    "    explanations_fn = {}\n",
    "    if isinstance(reports, pathlib.Path):\n",
    "        generator = reports.glob(\"*.json\")\n",
    "    if isinstance(reports, list):\n",
    "        generator = [x for x in reports if x.endswith(\"json\")]\n",
    "    tp_idx = 0\n",
    "    fn_idx = 0\n",
    "    length = len(generator)\n",
    "    for i, report in enumerate(generator):\n",
    "        print(f\"[*] Processing: {i}/{length} | TPs: {tp_idx} | FNs: {fn_idx}\", end=\"\\r\")\n",
    "        try:\n",
    "            name = report.name\n",
    "        except AttributeError:\n",
    "            name = report\n",
    "        if verbose:\n",
    "            print(name)\n",
    "        x_embed = embed(model, str(report))\n",
    "        prob = compute_score(model, x_embed, verbose=verbose)\n",
    "        explainer = shap.GradientExplainer(model_no_embed, data=embed_baseline)\n",
    "        explanations = explainer.shap_values(x_embed, nsamples=50)\n",
    "        token_idxs = tokenize_sample(str(report), encode=True)\n",
    "        if prob < threshold:\n",
    "            tp_idx += 1\n",
    "            explanations_tp[name] = (explanations, token_idxs)\n",
    "        else:\n",
    "            fn_idx += 1\n",
    "            explanations_fn[name] = (explanations, token_idxs)\n",
    "    return explanations_tp, explanations_fn\n",
    "\n",
    "LIMIT = 50 # 1000\n",
    "\n",
    "trojan_folder = os.path.join(REPOSITORY_ROOT, r\"data\\windows_emulation_testset\\report_clean\")\n",
    "# 1000 files takes ~35 mins\n",
    "files_limited = [os.path.join(trojan_folder, x) for x in os.listdir(trojan_folder)][:LIMIT]\n",
    "\n",
    "explanations_tp_clean_file = f\"explanations_tp_clean_lim_{LIMIT}.pickle\"\n",
    "explanations_fn_clean_file = f\"explanations_fn_clean_lim_{LIMIT}.pickle\"\n",
    "\n",
    "if os.path.exists(explanations_tp_clean_file) and os.path.exists(explanations_fn_clean_file):\n",
    "    with open(explanations_tp_clean_file, \"rb\") as f:\n",
    "        explanations_tp_clean = pickle.load(f)\n",
    "    with open(explanations_fn_clean_file, \"rb\") as f:\n",
    "        explanations_fn_clean = pickle.load(f)\n",
    "else:\n",
    "    explanations_tp_clean, explanations_fn_clean = generalize_shap_values(\n",
    "        files_limited,\n",
    "        model_no_embed,\n",
    "        x_embed_baseline,\n",
    "        verbose=False\n",
    "    )\n",
    "    # dump as pickle\n",
    "    with open(explanations_tp_clean_file, \"wb\") as f:\n",
    "        pickle.dump(explanations_tp_clean, f)\n",
    "    with open(explanations_fn_clean_file, \"wb\") as f:\n",
    "        pickle.dump(explanations_fn_clean, f)\n"
   ]
  },
  {
   "cell_type": "code",
   "execution_count": null,
   "metadata": {},
   "outputs": [
    {
     "name": "stderr",
     "output_type": "stream",
     "text": [
      "100%|██████████| 33/33 [00:25<00:00,  1.32it/s]\n"
     ]
    },
    {
     "data": {
      "text/plain": [
       "[('kernel32', 4.511379829683621),\n",
       " ('0x7090', 0.5370337536453677),\n",
       " ('advapi32', 0.30868403752535334),\n",
       " ('heapalloc', 0.15492892601462288),\n",
       " ('1', 0.05123357141279361),\n",
       " ('0x4640', 0.03271142376732007),\n",
       " ('user32', 0.03071929839824012),\n",
       " ('0x1211f20', 0.026962915480309567),\n",
       " ('flsalloc', 0.025353193980807976),\n",
       " ('flssetvalue', 0.02392280223727805),\n",
       " ('interlockedexchange', 0.02293264858172357),\n",
       " ('0', 0.022678461640761503),\n",
       " ('0x403004', 0.019748803477793925),\n",
       " ('multibytetowidechar', 0.018421268882944195),\n",
       " ('getprocessheap', 0.016880728273052273),\n",
       " ('0xe00', 0.015315605594303554),\n",
       " ('0x76c0', 0.0130077223338531),\n",
       " ('system32', 0.01275127344559044),\n",
       " ('0x7770', 0.01107095901316914),\n",
       " ('widechartomultibyte', 0.010927548802935236)]"
      ]
     },
     "execution_count": 69,
     "metadata": {},
     "output_type": "execute_result"
    }
   ],
   "source": [
    "agg_shap_tokens_tn = aggregate_values(explanations_tp_clean, tokenizer.vocab)\n",
    "\n",
    "TOP = 20\n",
    "top_tn_features = sorted(agg_shap_tokens_tn.items(), key=lambda x: x[1], reverse=True)[:TOP]\n",
    "top_tn_features"
   ]
  },
  {
   "cell_type": "code",
   "execution_count": null,
   "metadata": {},
   "outputs": [
    {
     "name": "stderr",
     "output_type": "stream",
     "text": [
      "FixedFormatter should only be used together with FixedLocator\n",
      "FixedFormatter should only be used together with FixedLocator\n"
     ]
    },
    {
     "data": {
      "image/png": "[encoded data removed]",
      "text/plain": [
       "<Figure size 504x311.489 with 1 Axes>"
      ]
     },
     "metadata": {
      "needs_background": "light"
     },
     "output_type": "display_data"
    }
   ],
   "source": [
    "plt.style.use(['science', 'no-latex'])\n",
    "\n",
    "# [1:] to exclude kernel32\n",
    "x = [x[0] for x in top_tn_features][1:]\n",
    "y = np.array([x[1] for x in top_tn_features][1:])\n",
    "# normalize y to be within [0, 1]\n",
    "y = (y - y.min()) / (y.max() - y.min())\n",
    "\n",
    "fig, ax = plt.subplots(figsize=set_size())\n",
    "ax.bar(x, y)\n",
    "ax.set_xticklabels(x, rotation=45, ha=\"right\", fontsize=12)\n",
    "ax.set_yticklabels([f\"{x:.1f}\" for x in ax.get_yticks()], fontsize=12)\n",
    "_ = ax.set_ylabel(\"Normalized SHAP value\", fontsize=12)\n",
    "plt.tight_layout()"
   ]
  },
  {
   "cell_type": "markdown",
   "metadata": {},
   "source": [
    "## Diverging Bar Plot For Both Classes"
   ]
  },
  {
   "cell_type": "code",
   "execution_count": null,
   "metadata": {},
   "outputs": [
    {
     "data": {
      "image/png": "[encoded data removed]",
      "text/plain": [
       "<Figure size 504x467.234 with 2 Axes>"
      ]
     },
     "metadata": {
      "needs_background": "light"
     },
     "output_type": "display_data"
    }
   ],
   "source": [
    "import matplotlib.pyplot as plt\n",
    "import numpy as np\n",
    "\n",
    "plt.style.use(['science'])\n",
    "\n",
    "def power_transform(x, alpha=0.5):\n",
    "    return np.power(x, alpha)\n",
    "\n",
    "def inverse_power_transform(y, alpha=0.5):\n",
    "    return np.power(y, 1/alpha)\n",
    "\n",
    "# Extract and normalize positive class data\n",
    "FEATURE_LIM = 13 # chars\n",
    "SKIP = 1\n",
    "x_pos = [x[0][:FEATURE_LIM] for x in top_tp_features][SKIP:]\n",
    "y_pos = np.array([x[1] for x in top_tp_features][SKIP:])\n",
    "y_pos = (y_pos - y_pos.min()) / (y_pos.max() - y_pos.min())\n",
    "y_pos = power_transform(y_pos)\n",
    "\n",
    "# Extract and normalize negative class data\n",
    "x_neg = [x[0][:FEATURE_LIM] for x in top_tn_features][SKIP:]\n",
    "y_neg = np.array([x[1] for x in top_tn_features][SKIP:])\n",
    "y_neg = (y_neg - y_neg.min()) / (y_neg.max() - y_neg.min())\n",
    "y_neg = power_transform(y_neg)\n",
    "\n",
    "# Create a figure and axis\n",
    "sizes = set_size()\n",
    "fig, axs = plt.subplots(1, 2, figsize=(sizes[0], sizes[1]*1.5))  # Adjust the size as needed\n",
    "# fig, axs = plt.subplots(1, 2, figsize=set_size())  # Adjust the size as needed\n",
    "\n",
    "ax = axs[0]\n",
    "ax.invert_yaxis()\n",
    "# Plot positive values\n",
    "ax.barh(np.arange(len(x_pos)), y_pos, color='tab:blue', label='Positive', align='edge')\n",
    "\n",
    "ax.set_yticks(np.arange(len(x_pos)) + 0.4)\n",
    "ax.set_yticklabels(x_pos, fontsize=12)\n",
    "ax.xaxis.tick_bottom()\n",
    "ax.yaxis.tick_left()\n",
    "#ax.set_xticklabels([0, 0.2, 0.4, 0.6, 0.8, 1])\n",
    "ax.set_title(\"Trojan Malware Family\", fontsize=14)\n",
    "\n",
    "ax2 = axs[1]\n",
    "ax2.invert_yaxis()\n",
    "# # Plot negative values on the second x-axis\n",
    "ax2.barh(np.arange(len(x_neg)), y_neg, color='tab:orange', label='Negative', align='edge')\n",
    "ax2.xaxis.tick_bottom()\n",
    "ax2.yaxis.tick_right()\n",
    "\n",
    "ax2.set_yticks(np.arange(len(x_neg)) + 0.4)\n",
    "ax2.set_yticklabels(x_neg, fontsize=12)\n",
    "#ax2.set_xticklabels([0, 0.2, 0.4, 0.6, 0.8, 1])\n",
    "ax2.set_title(\"Benign Software\", fontsize=14)\n",
    "\n",
    "# # Add legend\n",
    "# ax.legend(loc='upper right')\n",
    "# ax2.legend(loc='upper left')\n",
    "\n",
    "# remove minor yticks\n",
    "from matplotlib.ticker import NullLocator\n",
    "ax.yaxis.set_minor_locator(NullLocator())\n",
    "ax2.yaxis.set_minor_locator(NullLocator())\n",
    "\n",
    "# # Adjust layout\n",
    "fig.subplots_adjust(wspace=0.03)\n",
    "\n",
    "# discarded\n",
    "# ax.grid(linewidth=0.3)\n",
    "# ax2.grid(linewidth=0.3)\n",
    "# plt.tight_layout()\n",
    "\n",
    "\n",
    "# Get the locations in the transformed scale\n",
    "original_ticks = ax.get_xticks()\n",
    "transformed_tick_locations = inverse_power_transform(original_ticks, alpha=0.5)\n",
    "\n",
    "# Apply to the plot axis\n",
    "new_ticks = np.round(original_ticks, 2)\n",
    "new_ticks = [str(x) if x != 0.2 else '' for x in new_ticks]\n",
    "new_ticks = [str(x) if x != '0.0' else '  0' for x in new_ticks]\n",
    "\n",
    "ax.set_xticks(transformed_tick_locations)\n",
    "ax.set_xticklabels(new_ticks)\n",
    "new_ticks = [str(x) if x != '  0' else '' for x in new_ticks]\n",
    "ax2.set_xticks(transformed_tick_locations)\n",
    "ax2.set_xticklabels(new_ticks)\n",
    "\n",
    "ax.set_xlim([0,1.05])\n",
    "ax.invert_xaxis()\n",
    "ax2.set_xlim([0, 1.05])\n",
    "\n",
    "# save as pdf in img\n",
    "plt.savefig(os.path.join(REPOSITORY_ROOT, \"img\", \"trojan_benign_shap_values.pdf\"), bbox_inches='tight', dpi=300)"
   ]
  },
  {
   "cell_type": "code",
   "execution_count": null,
   "metadata": {},
   "outputs": [],
   "source": []
  }
 ],
 "metadata": {
  "kernelspec": {
   "display_name": "Python 3",
   "language": "python",
   "name": "python3"
  },
  "language_info": {
   "codemirror_mode": {
    "name": "ipython",
    "version": 3
   },
   "file_extension": ".py",
   "mimetype": "text/x-python",
   "name": "python",
   "nbconvert_exporter": "python",
   "pygments_lexer": "ipython3",
   "version": "3.9.13"
  },
  "orig_nbformat": 4
 },
 "nbformat": 4,
 "nbformat_minor": 2
}
