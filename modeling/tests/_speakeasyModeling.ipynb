{
 "cells": [
  {
   "cell_type": "code",
   "execution_count": 14,
   "metadata": {},
   "outputs": [
    {
     "name": "stdout",
     "output_type": "stream",
     "text": [
      "Reading and cleaning 9 subfolders from C:\\Users\\dtrizna\\Code\\nebula\\modeling\\tests\\..\\..\\data\\data_filtered\\speakeasy_trainset\n",
      "     report_backdoor: 101/11062                               \n",
      "        report_clean: 101/25291                               \n",
      "    report_coinminer: 101/6893                               \n",
      "      report_dropper: 101/11150                               \n",
      "    report_keylogger: 101/4574                               \n",
      "   report_ransomware: 101/9627                               \n",
      "          report_rat: 101/9479                               \n",
      "       report_trojan: 101/12780                               \n",
      "[!] Reading and cleaning took 6.02 seconds                     \n",
      "[!] Building vocabulary... : Took 0.06 seconds\n",
      "[!] Encoding 909 events... : Took 0.05 seconds\n",
      "[!] Padding 909 events... : Took 0.26 seconds\n"
     ]
    }
   ],
   "source": [
    "import os\n",
    "import sys\n",
    "sys.path.append(\".\")\n",
    "sys.path.append(\"..\\\\..\")\n",
    "from src.misc import getRealPath\n",
    "import time\n",
    "import re\n",
    "import numpy as np\n",
    "from src.misc import flattenList\n",
    "from src.preprocessing import labelEncoder, padSequenceList, padSequence\n",
    "from src.normalization import cleanJsonEvent\n",
    "from src.constants import SPEAKEASY_SUBFILTER_MINIMALISTIC\n",
    "\n",
    "from nltk.tokenize import WhitespaceTokenizer\n",
    "from collections import Counter\n",
    "from copy import deepcopy\n",
    "\n",
    "STOPWORDS = flattenList([SPEAKEASY_SUBFILTER_MINIMALISTIC[x] for x in SPEAKEASY_SUBFILTER_MINIMALISTIC])\n",
    "\n",
    "NOTEBOOK_PATH = getRealPath(type=\"notebook\")\n",
    "ROOT = NOTEBOOK_PATH + r\"\\..\\..\"\n",
    "TRAINSET = ROOT + r\"\\data\\data_filtered\\speakeasy_trainset\"\n",
    "subFolders = [x for x in os.listdir(TRAINSET) if x.startswith(\"report_\")]\n",
    "benignFolders = [\"report_clean\", \"report_windows_syswow64\"]\n",
    "\n",
    "LIMIT = 100 # None\n",
    "\n",
    "VOCAB_SIZE = 10000\n",
    "MAX_SEQ_LEN = 2048\n",
    "\n",
    "tokenizer = WhitespaceTokenizer()\n",
    "\n",
    "tick1 = time.time()\n",
    "print(f\"Reading and cleaning {len(subFolders)} subfolders from {TRAINSET}\", end=\"\")\n",
    "jsonEventsTokenList = []\n",
    "y = []\n",
    "fileNames = []\n",
    "for subFolder in subFolders:\n",
    "    print()\n",
    "    fullPath = f\"{TRAINSET}\\\\{subFolder}\"\n",
    "    files = [f\"{fullPath}\\\\{x}\" for x in os.listdir(fullPath) if x.endswith(\".json\")]\n",
    "    l = len(files)\n",
    "    for i,file in enumerate(files):\n",
    "        print(f\"{subFolder:>20}: {i+1}/{l} {' '*30}\", end=\"\\r\")\n",
    "        with open(file, \"r\") as f:\n",
    "            jsonEvent = f.read()\n",
    "\n",
    "        jsonEventClean = cleanJsonEvent(jsonEvent)\n",
    "        jsonEventTokens = tokenizer.tokenize(jsonEventClean)\n",
    "        jsonEventsTokenList.append(jsonEventTokens)\n",
    "\n",
    "        fileNames.append(file)\n",
    "        if subFolder in benignFolders:\n",
    "            y.append(1)\n",
    "        else:\n",
    "            y.append(0)\n",
    "        \n",
    "        if LIMIT and i == LIMIT:\n",
    "            break\n",
    "tick2 = time.time()\n",
    "print(f\"[!] Reading and cleaning took {tick2-tick1:.2f} seconds\", \" \"*20)\n",
    "\n",
    "print(f\"[!] Building vocabulary...\", end=\" : \")\n",
    "counter = Counter()\n",
    "for jsonEventTokens in jsonEventsTokenList:\n",
    "    counter.update(jsonEventTokens)\n",
    "vocab = {x[0]:i for i,x in enumerate(counter.most_common(VOCAB_SIZE))}\n",
    "vocab.update({\"<unk>\":VOCAB_SIZE, \"<pad>\":VOCAB_SIZE+1})\n",
    "tick3 = time.time()\n",
    "print(f\"Took {tick3-tick2:.2f} seconds\")\n",
    "\n",
    "print(f\"[!] Encoding {len(jsonEventsTokenList)} events...\", end=\" : \")\n",
    "jsonEventsTokensEncoded = labelEncoder(jsonEventsTokenList, vocab)\n",
    "tick4 = time.time()\n",
    "print(f\"Took {tick4-tick3:.2f} seconds\")\n",
    "\n",
    "print(f\"[!] Padding {len(jsonEventsTokenList)} events...\", end=\" : \")\n",
    "# when copy=False, pads jsonEventsTokensEncoded in place, but is faster\n",
    "jsonEventsTokensEncodedPadded = padSequenceList(deepcopy(jsonEventsTokensEncoded), MAX_SEQ_LEN, vocab[\"<pad>\"])\n",
    "tick5 = time.time()\n",
    "print(f\"Took {tick5-tick4:.2f} seconds\")"
   ]
  },
  {
   "attachments": {},
   "cell_type": "markdown",
   "metadata": {},
   "source": [
    "## Vocabulary\n",
    "\n",
    "3000:\n",
    "> [!] Building vocabulary... : Took 0.40 seconds  \n",
    "> [!] Encoding 8308 events... : Took 0.40 seconds  \n",
    "> [!] Padding 8308 events... : Took 0.12 seconds\n",
    "\n",
    "10000:\n",
    "> [!] Building vocabulary... : Took 0.40 seconds  \n",
    "> [!] Encoding 8308 events... : Took 0.39 seconds  \n",
    "> [!] Padding 8308 events... : Took 0.13 seconds\n",
    "\n",
    "32000:\n",
    "> [!] Building vocabulary... : Took 0.54 seconds  \n",
    "> [!] Encoding 8308 events... : Took 0.40 seconds  \n",
    "> [!] Padding 8308 events... : Took 0.11 seconds\n",
    "\n",
    "## Padding\n",
    "\n",
    "> [!] Padding 4308 events... : Took 0.29 seconds -- with conversion to numpy array  \n",
    "> [!] Padding 4308 events... : Took 0.05 seconds -- no conversion numpy array\n",
    "\n",
    "`sys.getsizeof(jsonEventsTokensEncodedPadded)`\n",
    "> 37208 when as list  \n",
    "> 35291264 when as numpy array with dtype=np.int32"
   ]
  },
  {
   "cell_type": "code",
   "execution_count": 15,
   "metadata": {},
   "outputs": [
    {
     "data": {
      "image/png": "[encoded data removed]",
      "text/plain": [
       "<Figure size 720x576 with 1 Axes>"
      ]
     },
     "metadata": {},
     "output_type": "display_data"
    }
   ],
   "source": [
    "import numpy as np\n",
    "import matplotlib.pyplot as plt\n",
    "import seaborn as sns\n",
    "sns.set()\n",
    "\n",
    "def plot_list_element_lengths(list_of_strings, xlim=None):\n",
    "    lengths = [len(x) for x in list_of_strings]\n",
    "    fix, ax = plt.subplots(1, 1, figsize=(10, 8))\n",
    "    ax.hist(lengths, bins=100)\n",
    "    plt.title(\"Histogram of list element lengths\")\n",
    "    plt.xlim(xlim)\n",
    "    plt.yscale(\"log\")\n",
    "    plt.ylabel(\"Count (log)\")\n",
    "    plt.show()\n",
    "    return lengths\n",
    "\n",
    "_ = plot_list_element_lengths(jsonEventsTokensEncoded)#, xlim=[-10, 5000])"
   ]
  },
  {
   "attachments": {},
   "cell_type": "markdown",
   "metadata": {},
   "source": [
    "# attempt to biuld an analog of `trax`'s bucket by length"
   ]
  },
  {
   "cell_type": "code",
   "execution_count": 52,
   "metadata": {},
   "outputs": [
    {
     "name": "stderr",
     "output_type": "stream",
     "text": [
      "<ipython-input-52-322e8535ca74>:24: VisibleDeprecationWarning: Creating an ndarray from ragged nested sequences (which is a list-or-tuple of lists-or-tuples-or ndarrays with different lengths or shapes) is deprecated. If you meant to do this, you must specify 'dtype=object' when creating the ndarray.\n",
      "  self.sequences = np.array(sequences)\n"
     ]
    }
   ],
   "source": [
    "import torch\n",
    "import math\n",
    "import tqdm\n",
    "from tensorflow.keras.preprocessing.sequence import pad_sequences\n",
    "\n",
    "# from: https://rashmi-margani.medium.com/how-to-speed-up-the-training-of-the-sequence-model-using-bucketing-techniques-9e302b0fd976\n",
    "class SequenceDataset(torch.utils.data.Dataset):\n",
    "    \"\"\"\n",
    "    Dataset using sequence bucketing to pad each batch individually.\n",
    "    \n",
    "    Arguments:\n",
    "        sequences (list): A list of variable length tokens (e. g. from keras tokenizer.texts_to_sequences)\n",
    "        choose_length (function): A function which receives a numpy array of sequence lengths of one batch as input\n",
    "                                  and returns the length this batch should be padded to.\n",
    "        other_features (list, optional): A list of tensors with other features that should be fed to the NN alongside the sequences.\n",
    "        labels (Tensor, optional): A tensor with labels for the samples.\n",
    "        indices (np.array, optional): A numpy array consisting of indices to iterate over. \n",
    "        shuffle (bool): Whether to shuffle the dataset or not.  Default false.\n",
    "        batch_size (int): Batch size of the samples. Default 512.\n",
    "    \"\"\"\n",
    "    def __init__(self, sequences, choose_length, other_features=None, labels=None, \n",
    "                 indices=None, shuffle=False, batch_size=512):\n",
    "        super(SequenceDataset, self).__init__()\n",
    "        \n",
    "        self.sequences = np.array(sequences)\n",
    "        self.lengths = np.array([len(x) for x in sequences])\n",
    "        self.n_samples = len(sequences)\n",
    "        self.choose_length = choose_length\n",
    "        self.other_features = other_features\n",
    "        self.labels = labels\n",
    "        \n",
    "        if indices is not None:\n",
    "            self.indices = indices\n",
    "        else:\n",
    "            self.indices = np.arange(len(sequences))\n",
    "        \n",
    "        self.batch_size = batch_size\n",
    "        self.shuffle = shuffle\n",
    "        \n",
    "        if self.shuffle:\n",
    "            self._shuffle()\n",
    "        \n",
    "    def __len__(self):\n",
    "        return math.ceil(len(self.indices) / self.batch_size)\n",
    "        \n",
    "    def _shuffle(self):\n",
    "        self.indices = np.random.permutation(self.indices)\n",
    "    \n",
    "    def __getitem__(self, i):\n",
    "        idx = self.indices[(self.batch_size * i):(self.batch_size * (i + 1))]\n",
    "        \n",
    "        if self.shuffle and i == len(self) - 1:\n",
    "            self._shuffle()\n",
    "        \n",
    "        pad_length = math.ceil(self.choose_length(self.lengths[idx]))\n",
    "        padded_sequences = pad_sequences(self.sequences[idx], maxlen=pad_length, value=VOCAB_SIZE+1)\n",
    "        \n",
    "        x_batch = [torch.tensor(padded_sequences, dtype=torch.long)]\n",
    "        if self.other_features is not None:\n",
    "            print(idx)    \n",
    "            x_batch += [x[idx] for x in self.other_features]\n",
    "            \n",
    "        if self.labels is not None:\n",
    "            out = x_batch, self.labels[idx]\n",
    "        else:\n",
    "            out = x_batch\n",
    "    \n",
    "        return out\n",
    "\n",
    "#lengths =  [256, 512, 1024, 2048]\n",
    "lengths = [len(x) for x in jsonEventsTokensEncoded]\n",
    "batch_sizes = [256, 128, 64, 32]\n",
    "\n",
    "f1 = lambda lengths: np.percentile(lengths, q=95)\n",
    "f2 = lambda lengths: lengths.max()\n",
    "train_dataset = SequenceDataset(jsonEventsTokensEncoded, f2, other_features=None, shuffle=False, batch_size=32)\n",
    "train_loader = torch.utils.data.DataLoader(train_dataset, batch_size=1, shuffle=False)\n",
    "start_time = time.time()\n",
    "for batch in train_loader:\n",
    "    break"
   ]
  },
  {
   "cell_type": "code",
   "execution_count": 53,
   "metadata": {},
   "outputs": [
    {
     "data": {
      "text/plain": [
       "torch.Size([1, 32, 2050])"
      ]
     },
     "execution_count": 53,
     "metadata": {},
     "output_type": "execute_result"
    }
   ],
   "source": [
    "batch[0].shape"
   ]
  },
  {
   "attachments": {},
   "cell_type": "markdown",
   "metadata": {},
   "source": [
    "# y stats"
   ]
  },
  {
   "cell_type": "code",
   "execution_count": 23,
   "metadata": {},
   "outputs": [
    {
     "name": "stdout",
     "output_type": "stream",
     "text": [
      "8308\n"
     ]
    },
    {
     "data": {
      "text/plain": [
       "Counter({0: 7007, 1: 1301})"
      ]
     },
     "execution_count": 23,
     "metadata": {},
     "output_type": "execute_result"
    }
   ],
   "source": [
    "print(len(y))\n",
    "Counter(y)"
   ]
  },
  {
   "cell_type": "code",
   "execution_count": 26,
   "metadata": {},
   "outputs": [
    {
     "data": {
      "text/plain": [
       "8308"
      ]
     },
     "execution_count": 26,
     "metadata": {},
     "output_type": "execute_result"
    }
   ],
   "source": [
    "len(fileNames)"
   ]
  },
  {
   "attachments": {},
   "cell_type": "markdown",
   "metadata": {},
   "source": [
    "# sizes of arrays"
   ]
  },
  {
   "cell_type": "code",
   "execution_count": 37,
   "metadata": {},
   "outputs": [
    {
     "data": {
      "text/plain": [
       "178.0391845703125"
      ]
     },
     "execution_count": 37,
     "metadata": {},
     "output_type": "execute_result"
    }
   ],
   "source": [
    "sys.getsizeof(np.array(jsonEventsTokensEncodedPadded, dtype=np.int8))/1024/1024"
   ]
  },
  {
   "cell_type": "code",
   "execution_count": 38,
   "metadata": {},
   "outputs": [
    {
     "data": {
      "text/plain": [
       "712.1563720703125"
      ]
     },
     "execution_count": 38,
     "metadata": {},
     "output_type": "execute_result"
    }
   ],
   "source": [
    "sys.getsizeof(np.array(jsonEventsTokensEncodedPadded, dtype=np.int32))/1024/1024"
   ]
  },
  {
   "cell_type": "code",
   "execution_count": 36,
   "metadata": {},
   "outputs": [
    {
     "data": {
      "text/plain": [
       "1424.3126220703125"
      ]
     },
     "execution_count": 36,
     "metadata": {},
     "output_type": "execute_result"
    }
   ],
   "source": [
    "sys.getsizeof(np.array(jsonEventsTokensEncodedPadded, dtype=np.int64))/1024/1024"
   ]
  },
  {
   "cell_type": "code",
   "execution_count": 41,
   "metadata": {},
   "outputs": [],
   "source": [
    "x_train = np.array(jsonEventsTokensEncodedPadded, dtype=np.int8)\n",
    "np.save(r\"C:\\Users\\dtrizna\\Code\\nebula\\data\\data_filtered\\speakeasy_trainset\\x_train.npy\", x_train)\n",
    "y_train = np.array(y, dtype=np.int8)\n",
    "np.save(r\"C:\\Users\\dtrizna\\Code\\nebula\\data\\data_filtered\\speakeasy_trainset\\y_train.npy\", y_train)\n",
    "import pickle\n",
    "with open(r\"C:\\Users\\dtrizna\\Code\\nebula\\data\\data_filtered\\speakeasy_trainset\\vocab.pickle\", \"wb\") as f:\n",
    "    pickle.dump(vocab, f)\n",
    "with open(r\"C:\\Users\\dtrizna\\Code\\nebula\\data\\data_filtered\\speakeasy_trainset\\fileNames.pickle\", \"wb\") as f:\n",
    "    pickle.dump(fileNames, f)"
   ]
  }
 ],
 "metadata": {
  "kernelspec": {
   "display_name": "Python 3",
   "language": "python",
   "name": "python3"
  },
  "language_info": {
   "codemirror_mode": {
    "name": "ipython",
    "version": 3
   },
   "file_extension": ".py",
   "mimetype": "text/x-python",
   "name": "python",
   "nbconvert_exporter": "python",
   "pygments_lexer": "ipython3",
   "version": "3.9.13"
  },
  "orig_nbformat": 4,
  "vscode": {
   "interpreter": {
    "hash": "4e123ac7eba4d44924a894b1be2fc564282b1d2645e9d64ed33bc5003b6c2a87"
   }
  }
 },
 "nbformat": 4,
 "nbformat_minor": 2
}
