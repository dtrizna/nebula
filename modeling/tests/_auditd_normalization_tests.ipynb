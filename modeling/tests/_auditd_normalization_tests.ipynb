{
 "cells": [
  {
   "cell_type": "code",
   "execution_count": 1,
   "metadata": {},
   "outputs": [],
   "source": [
    "import sys\n",
    "sys.path.append('../..')\n",
    "\n",
    "from utils.normalization import normalizeAuditdTable\n",
    "from utils.misc import getNotebookPath\n",
    "from utils.preprocessing import readAndFilterFile\n",
    "from utils.constants import *\n",
    "import os\n",
    "import pandas as pd\n"
   ]
  },
  {
   "cell_type": "code",
   "execution_count": 2,
   "metadata": {},
   "outputs": [],
   "source": [
    "SCRIPT_PATH = getNotebookPath()\n",
    "\n",
    "# input\n",
    "DATA_FOLDER = SCRIPT_PATH + \"\\\\..\\\\..\\\\data\\\\auditd_msft_raw\\\\\"\n",
    "LIMIT = 10\n",
    "files = os.listdir(DATA_FOLDER)[:LIMIT]\n",
    "\n",
    "out = []\n",
    "for file in files:\n",
    "    ldf = readAndFilterFile(DATA_FOLDER+file, normalizedFields=AUDITD_FIELDS, filterDict={\"rule.sidid\": AUDITD_TYPES})\n",
    "    out.append(ldf)\n",
    "out = pd.concat(out)\n",
    "out.fillna(\"(none)\", inplace=True)"
   ]
  },
  {
   "cell_type": "code",
   "execution_count": 3,
   "metadata": {},
   "outputs": [],
   "source": [
    "df = normalizeAuditdTable(out.copy())"
   ]
  },
  {
   "cell_type": "code",
   "execution_count": 6,
   "metadata": {},
   "outputs": [
    {
     "name": "stdout",
     "output_type": "stream",
     "text": [
      "16610    (prvIP)\n",
      "Name: auditd.summary.object.primary, dtype: object\n",
      "16610    10.0.0.55\n",
      "Name: auditd.summary.object.primary, dtype: object\n",
      "(prvIP)\n",
      "10.0.0.55\n"
     ]
    }
   ],
   "source": [
    "def get_label_example(label, col = 'auditd.summary.object.primary'):\n",
    "    s = df[df[col].str.contains(label, regex=False)].iloc[0]\n",
    "    host = s.hostname\n",
    "    pid = s['process.pid']\n",
    "    print(df[(df['hostname'] == host) & (df['process.pid'] == pid)][col])\n",
    "    print(out[(out['hostname'] == host) & (out['process.pid'] == pid)][col])\n",
    "    print(df[(df['hostname'] == host) & (df['process.pid'] == pid)][col].iloc[0])\n",
    "    print(out[(out['hostname'] == host) & (out['process.pid'] == pid)][col].iloc[0])\n",
    "\n",
    "get_label_example('(prvIP)')"
   ]
  },
  {
   "cell_type": "code",
   "execution_count": 7,
   "metadata": {},
   "outputs": [
    {
     "name": "stdout",
     "output_type": "stream",
     "text": [
      "29216    (pubIP)\n",
      "Name: auditd.summary.object.primary, dtype: object\n",
      "29216    20.60.223.98\n",
      "Name: auditd.summary.object.primary, dtype: object\n",
      "(pubIP)\n",
      "20.60.223.98\n"
     ]
    }
   ],
   "source": [
    "get_label_example( '(pubIP)')"
   ]
  },
  {
   "cell_type": "code",
   "execution_count": 8,
   "metadata": {},
   "outputs": [
    {
     "name": "stdout",
     "output_type": "stream",
     "text": [
      "17520    (pubIP)\n",
      "17560    (pubIP)\n",
      "17562    (pubIP)\n",
      "17561     (IPv6)\n",
      "10065    (pubIP)\n",
      "9794     (pubIP)\n",
      "Name: auditd.summary.object.primary, dtype: object\n",
      "10065           20.150.14.4\n",
      "17520           20.150.14.4\n",
      "17560         52.167.109.72\n",
      "17561    2603:1030:408:4::e\n",
      "17562         52.167.109.72\n",
      "9794            20.150.14.4\n",
      "Name: auditd.summary.object.primary, dtype: object\n",
      "(pubIP)\n",
      "20.150.14.4\n"
     ]
    }
   ],
   "source": [
    "get_label_example('(IPv6)')"
   ]
  },
  {
   "cell_type": "code",
   "execution_count": 9,
   "metadata": {},
   "outputs": [
    {
     "name": "stdout",
     "output_type": "stream",
     "text": [
      "6647    curl -m 10 -f -s -S http://(lopIP):10248/healthz\n",
      "Name: process.title, dtype: object\n",
      "6647    curl -m 10 -f -s -S http://127.0.0.1:10248/hea...\n",
      "Name: process.title, dtype: object\n",
      "curl -m 10 -f -s -S http://(lopIP):10248/healthz\n",
      "curl -m 10 -f -s -S http://127.0.0.1:10248/healthz\n"
     ]
    }
   ],
   "source": [
    "get_label_example('(lopIP)', col='process.title')"
   ]
  },
  {
   "cell_type": "code",
   "execution_count": 10,
   "metadata": {},
   "outputs": [
    {
     "name": "stdout",
     "output_type": "stream",
     "text": [
      "19330    sh -c /opt/kuberner/bin/inject (pubIP):31337 (...\n",
      "Name: process.title, dtype: object\n",
      "19330    sh -c /opt/kuberner/bin/inject 1.2.3.4:31337 1...\n",
      "Name: process.title, dtype: object\n",
      "sh -c /opt/kuberner/bin/inject (pubIP):31337 (prvIP):22\n",
      "sh -c /opt/kuberner/bin/inject 1.2.3.4:31337 10.42.148.130:22\n"
     ]
    }
   ],
   "source": [
    "get_label_example('(prvIP)', col='process.title')"
   ]
  },
  {
   "cell_type": "code",
   "execution_count": 11,
   "metadata": {},
   "outputs": [
    {
     "name": "stdout",
     "output_type": "stream",
     "text": [
      "19330    sh -c /opt/kuberner/bin/inject (pubIP):31337 (...\n",
      "Name: process.title, dtype: object\n",
      "19330    sh -c /opt/kuberner/bin/inject 1.2.3.4:31337 1...\n",
      "Name: process.title, dtype: object\n",
      "sh -c /opt/kuberner/bin/inject (pubIP):31337 (prvIP):22\n",
      "sh -c /opt/kuberner/bin/inject 1.2.3.4:31337 10.42.148.130:22\n"
     ]
    }
   ],
   "source": [
    "label = '(prvIP)'\n",
    "col='process.title'\n",
    "\n",
    "#s = df[df[col].str.contains(label, regex=False)].iloc[0]\n",
    "s = out[out[col].str.contains(\"/kuberner/bin/inject\", regex=False)].iloc[0]\n",
    "host = s.hostname\n",
    "pid = s['process.pid']\n",
    "print(df[(df['hostname'] == host) & (df['process.pid'] == pid)][col])\n",
    "print(out[(out['hostname'] == host) & (out['process.pid'] == pid)][col])\n",
    "print(df[(df['hostname'] == host) & (df['process.pid'] == pid)][col].iloc[0])\n",
    "print(out[(out['hostname'] == host) & (out['process.pid'] == pid)][col].iloc[0])"
   ]
  },
  {
   "cell_type": "code",
   "execution_count": 12,
   "metadata": {},
   "outputs": [
    {
     "name": "stdout",
     "output_type": "stream",
     "text": [
      "257    /csi-node-driver-registrar --kubelet-registrat...\n",
      "Name: process.title, dtype: object\n",
      "257    /csi-node-driver-registrar --kubelet-registrat...\n",
      "Name: process.title, dtype: object\n",
      "/csi-node-driver-registrar --kubelet-registration-path=/var/lib/kubelet/plugins/(domain)/csi.sock --mode=kubelet-registration-probe\n",
      "/csi-node-driver-registrar --kubelet-registration-path=/var/lib/kubelet/plugins/file.csi.azure.com/csi.sock --mode=kubelet-regis\n"
     ]
    }
   ],
   "source": [
    "get_label_example('(domain)', col='process.title')"
   ]
  },
  {
   "cell_type": "code",
   "execution_count": null,
   "metadata": {},
   "outputs": [],
   "source": []
  }
 ],
 "metadata": {
  "kernelspec": {
   "display_name": "Python 3.9.13 64-bit (microsoft store)",
   "language": "python",
   "name": "python3"
  },
  "language_info": {
   "codemirror_mode": {
    "name": "ipython",
    "version": 3
   },
   "file_extension": ".py",
   "mimetype": "text/x-python",
   "name": "python",
   "nbconvert_exporter": "python",
   "pygments_lexer": "ipython3",
   "version": "3.9.13"
  },
  "orig_nbformat": 4,
  "vscode": {
   "interpreter": {
    "hash": "4e123ac7eba4d44924a894b1be2fc564282b1d2645e9d64ed33bc5003b6c2a87"
   }
  }
 },
 "nbformat": 4,
 "nbformat_minor": 2
}
