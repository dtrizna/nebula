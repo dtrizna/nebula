{
 "cells": [
  {
   "cell_type": "code",
   "execution_count": 1,
   "metadata": {},
   "outputs": [],
   "source": [
    "import os\n",
    "import json\n",
    "import sys\n",
    "REPO_ROOT = r\"..\\..\"\n",
    "sys.path.append(REPO_ROOT)\n",
    "from nebula.neurlux.preprocessor import NeurLuxPreprocessor\n",
    "\n",
    "report_folder = os.path.join(REPO_ROOT, r\"data\\data_raw\\windows_emulation_trainset\\report_trojan\")"
   ]
  },
  {
   "cell_type": "code",
   "execution_count": 18,
   "metadata": {},
   "outputs": [],
   "source": [
    "LIMIT = 10\n",
    "reports = []\n",
    "for file in os.listdir(report_folder)[0:LIMIT]:\n",
    "    report_file = os.path.join(report_folder, file)\n",
    "    with open(report_file) as f:\n",
    "        report = json.load(f)\n",
    "    reports.append(report)"
   ]
  },
  {
   "cell_type": "code",
   "execution_count": 19,
   "metadata": {},
   "outputs": [],
   "source": [
    "p = NeurLuxPreprocessor(\n",
    "    vocab_size=10000,\n",
    "    max_length=512\n",
    ")\n",
    "p.train(reports)"
   ]
  },
  {
   "cell_type": "code",
   "execution_count": 25,
   "metadata": {},
   "outputs": [
    {
     "name": "stdout",
     "output_type": "stream",
     "text": [
      "3957\n",
      "['eptype', 'moduleentry', 'startaddr', '0x44eff4', 'epargs', '0x4000', '0x4010', '0x4020', '0x4030', 'apihash', '49896c1e60f4c56d61e88f8d5a39a7b35f07aedba7a5eb139beca099710cd4e9', 'apis', 'pc', '0x40638d', 'apiname', 'kernel32getmodulehandlea', 'args', '0x0', 'retval', '0x400000', 'pc', '0x40353e', 'apiname', 'user32getkeyboardtype', 'args', '0x0', 'retval', '0x4', 'pc', '0x406238', 'apiname', 'kernel32getcommandlinea', 'args', 'retval', '0x45f0', 'pc', '0x40132b', 'apiname', 'kernel32getstartupinfoa', 'args', '0x1211e14', 'retval', 'none', 'pc', '0x40624c', 'apiname', 'kernel32getversion', 'args', 'retval', '0x1db10106']\n"
     ]
    }
   ],
   "source": [
    "a = p.tokenize(reports[0])\n",
    "print(len(a))\n",
    "print(a[0:50])"
   ]
  },
  {
   "cell_type": "code",
   "execution_count": 24,
   "metadata": {},
   "outputs": [
    {
     "name": "stdout",
     "output_type": "stream",
     "text": [
      "3957\n",
      "[50, 51, 52, 466, 53, 41, 65, 54, 55, 56, 467, 57, 3, 468, 4, 36, 5, 11, 2, 17, 3, 469, 4, 470, 5, 11, 2, 47, 3, 471, 4, 246, 5, 2, 182, 3, 472, 4, 247, 5, 473, 2, 40, 3, 474, 4, 183, 5, 2, 184]\n"
     ]
    }
   ],
   "source": [
    "b = p.encode(a)\n",
    "print(len(b))\n",
    "print(b[0:50])"
   ]
  },
  {
   "cell_type": "code",
   "execution_count": 28,
   "metadata": {},
   "outputs": [
    {
     "name": "stdout",
     "output_type": "stream",
     "text": [
      "[50, 51, 52, 466, 53, 41, 65, 54, 55, 56, 467, 57, 3, 468, 4, 36, 5, 11, 2, 17, 3, 469, 4, 470, 5, 11, 2, 47, 3, 471, 4, 246, 5, 2, 182, 3, 472, 4, 247, 5, 473, 2, 40, 3, 474, 4, 183, 5, 2, 184]\n"
     ]
    }
   ],
   "source": [
    "print(p.preprocess(reports[0])[0:50])"
   ]
  },
  {
   "cell_type": "code",
   "execution_count": 33,
   "metadata": {},
   "outputs": [
    {
     "name": "stdout",
     "output_type": "stream",
     "text": [
      "12776\n"
     ]
    },
    {
     "ename": "TypeError",
     "evalue": "object of type 'int' has no len()",
     "output_type": "error",
     "traceback": [
      "\u001b[1;31m---------------------------------------------------------------------------\u001b[0m",
      "\u001b[1;31mTypeError\u001b[0m                                 Traceback (most recent call last)",
      "\u001b[1;32m<ipython-input-33-1e00d3a9783c>\u001b[0m in \u001b[0;36m<module>\u001b[1;34m\u001b[0m\n\u001b[0;32m      1\u001b[0m \u001b[0md\u001b[0m \u001b[1;33m=\u001b[0m \u001b[0mp\u001b[0m\u001b[1;33m.\u001b[0m\u001b[0mpreprocess\u001b[0m\u001b[1;33m(\u001b[0m\u001b[0mreports\u001b[0m\u001b[1;33m)\u001b[0m\u001b[1;33m\u001b[0m\u001b[1;33m\u001b[0m\u001b[0m\n\u001b[0;32m      2\u001b[0m \u001b[0mprint\u001b[0m\u001b[1;33m(\u001b[0m\u001b[0mlen\u001b[0m\u001b[1;33m(\u001b[0m\u001b[0md\u001b[0m\u001b[1;33m)\u001b[0m\u001b[1;33m)\u001b[0m\u001b[1;33m\u001b[0m\u001b[1;33m\u001b[0m\u001b[0m\n\u001b[1;32m----> 3\u001b[1;33m \u001b[0mprint\u001b[0m\u001b[1;33m(\u001b[0m\u001b[0mlen\u001b[0m\u001b[1;33m(\u001b[0m\u001b[0md\u001b[0m\u001b[1;33m[\u001b[0m\u001b[1;36m0\u001b[0m\u001b[1;33m]\u001b[0m\u001b[1;33m)\u001b[0m\u001b[1;33m)\u001b[0m\u001b[1;33m\u001b[0m\u001b[1;33m\u001b[0m\u001b[0m\n\u001b[0m",
      "\u001b[1;31mTypeError\u001b[0m: object of type 'int' has no len()"
     ]
    }
   ],
   "source": [
    "d = p.preprocess(reports)\n",
    "print(len(d))\n",
    "print(len(d[0]))"
   ]
  },
  {
   "cell_type": "code",
   "execution_count": 34,
   "metadata": {},
   "outputs": [
    {
     "name": "stdout",
     "output_type": "stream",
     "text": [
      "10\n",
      "3957\n"
     ]
    }
   ],
   "source": [
    "c = p.preprocess_sequence(reports)\n",
    "print(len(c))\n",
    "print(len(c[0]))"
   ]
  },
  {
   "cell_type": "code",
   "execution_count": 36,
   "metadata": {},
   "outputs": [
    {
     "name": "stdout",
     "output_type": "stream",
     "text": [
      "512\n",
      "[2, 43, 3, 18, 4, 19, 5, 17, 545, 546, 547, 35, 6, 2, 267, 3, 18, 4, 19, 5, 17, 548, 264, 265, 266, 6, 2, 43, 3, 18, 4, 19, 5, 17, 549, 58, 550, 551, 6, 2, 257, 3, 18, 4, 19, 5, 17, 552, 553, 554]\n"
     ]
    }
   ],
   "source": [
    "f = p.pad(c[0])\n",
    "print(len(f))\n",
    "print(f[-50:])"
   ]
  },
  {
   "cell_type": "code",
   "execution_count": 37,
   "metadata": {},
   "outputs": [
    {
     "name": "stdout",
     "output_type": "stream",
     "text": [
      "10\n",
      "512\n"
     ]
    }
   ],
   "source": [
    "e = p.pad_sequence(c)\n",
    "print(len(e))\n",
    "print(len(e[0]))"
   ]
  },
  {
   "cell_type": "code",
   "execution_count": null,
   "metadata": {},
   "outputs": [],
   "source": []
  }
 ],
 "metadata": {
  "kernelspec": {
   "display_name": "Python 3",
   "language": "python",
   "name": "python3"
  },
  "language_info": {
   "codemirror_mode": {
    "name": "ipython",
    "version": 3
   },
   "file_extension": ".py",
   "mimetype": "text/x-python",
   "name": "python",
   "nbconvert_exporter": "python",
   "pygments_lexer": "ipython3",
   "version": "3.9.13"
  },
  "orig_nbformat": 4,
  "vscode": {
   "interpreter": {
    "hash": "4e123ac7eba4d44924a894b1be2fc564282b1d2645e9d64ed33bc5003b6c2a87"
   }
  }
 },
 "nbformat": 4,
 "nbformat_minor": 2
}
