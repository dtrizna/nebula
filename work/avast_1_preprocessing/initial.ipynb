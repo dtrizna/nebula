{
 "cells": [
  {
   "cell_type": "code",
   "execution_count": 32,
   "metadata": {},
   "outputs": [],
   "source": [
    "import os\n",
    "basepath = os.path.dirname(os.path.abspath(\".\"))\n",
    "REPO_ROOT = os.path.join(basepath, \"..\")\n",
    "\n",
    "import sys\n",
    "sys.path.append(REPO_ROOT)\n",
    "\n",
    "import json\n",
    "from tqdm import tqdm\n",
    "from nebula.preprocessing import JSONTokenizerBPE, JSONTokenizerWhiteSpace\n",
    "from nebula.constants import JSON_CLEANUP_SYMBOLS\n",
    "from pandas import read_csv, to_datetime\n",
    "\n",
    "LIMIT = 30\n",
    "\n",
    "folder = os.path.join(REPO_ROOT, r\"data\\data_raw\\Avast\\Public_Avast_CTU_CAPEv2_Dataset_Small\\public_small_reports\")\n",
    "EXAMPLE_PATHS = [os.path.join(folder, x) for x in os.listdir(folder)[:LIMIT]]\n",
    "\n",
    "label_file = os.path.join(REPO_ROOT, r\"data\\data_raw\\Avast\\Public_Avast_CTU_CAPEv2_Dataset_Small\\public_labels.csv\")\n",
    "LABEL_FIELD = 'classification_family'\n",
    "LABEL_TABLE = read_csv(label_file)\n",
    "LABEL_MAP = dict(zip(\n",
    "    sorted(LABEL_TABLE[LABEL_FIELD].unique()),\n",
    "    list(range(LABEL_TABLE[LABEL_FIELD].nunique()))\n",
    "))"
   ]
  },
  {
   "cell_type": "code",
   "execution_count": 33,
   "metadata": {},
   "outputs": [
    {
     "name": "stderr",
     "output_type": "stream",
     "text": [
      "100%|██████████| 30/30 [00:00<00:00, 56.34it/s]\n"
     ]
    }
   ],
   "source": [
    "capa_normalizer = {\n",
    "    \"resolved_apis\": lambda x: x.lower(),\n",
    "    \"mutexes\": lambda x: x.lower()\n",
    "}\n",
    "\n",
    "X_raw_train = []\n",
    "X_raw_test = []\n",
    "y_train = []\n",
    "y_test = []\n",
    "train_test_split_date = '2019-08-01'\n",
    "for example in tqdm(EXAMPLE_PATHS):\n",
    "    hhash = os.path.basename(example).replace(\".json\", \"\")\n",
    "    sample_data = LABEL_TABLE[LABEL_TABLE['sha256'] == hhash].iloc[0]\n",
    "    family = sample_data[LABEL_FIELD]\n",
    "    \n",
    "    with open(example, encoding='utf-8') as f:\n",
    "        sample = json.load(f)\n",
    "    sample = sample[\"behavior\"]['summary']\n",
    "    normalized_sample = {field: [capa_normalizer[field](x) for x in sample[field]] for field in capa_normalizer}\n",
    "    if to_datetime(sample_data['date']) < to_datetime(train_test_split_date):\n",
    "        X_raw_train.append(normalized_sample)\n",
    "        y_train.append(LABEL_MAP[family])\n",
    "    else:\n",
    "        X_raw_test.append(normalized_sample)\n",
    "        y_test.append(LABEL_MAP[family])"
   ]
  },
  {
   "cell_type": "code",
   "execution_count": 35,
   "metadata": {},
   "outputs": [
    {
     "name": "stderr",
     "output_type": "stream",
     "text": [
      "100%|██████████| 21/21 [00:00<00:00, 2333.01it/s]\n",
      "WARNING:root:Dumped vocab to _vocab.json\n"
     ]
    },
    {
     "name": "stdout",
     "output_type": "stream",
     "text": [
      "(21, 512)\n"
     ]
    }
   ],
   "source": [
    "tokenizer = JSONTokenizerWhiteSpace(\n",
    "    vocab_size=300,\n",
    "    seq_len=512,\n",
    "    cleanup_symbols=JSON_CLEANUP_SYMBOLS,\n",
    "    stopwords=[]\n",
    ")\n",
    "\n",
    "tokenizer.train(X_raw_train)\n",
    "encoded = tokenizer.encode(X_raw_train)\n",
    "print(encoded.shape)"
   ]
  },
  {
   "cell_type": "code",
   "execution_count": 36,
   "metadata": {},
   "outputs": [
    {
     "name": "stderr",
     "output_type": "stream",
     "text": [
      "WARNING:root: [!] Initialized tokenizer without pre-trained model.\n",
      "\tYou need to train tokenizer with .train() or specify 'model_path=' during initialization!\n",
      "WARNING:root: [*] Data preparation for SentencePiece tokenizer...\n",
      "WARNING:root: [*] Saving to disk...\n",
      "WARNING:root: [!] Training tokenizer with command: --input=bpe_trainset_1679928643.txt --model_prefix=bpe --vocab_size=300 --model_type=bpe --split_by_number=False --max_sentence_length=4192 --max_sentencepiece_length=64\n",
      "WARNING:root: [!] Loaded vocab with size 301 from bpe.vocab\n"
     ]
    },
    {
     "name": "stdout",
     "output_type": "stream",
     "text": [
      "(21, 512)\n"
     ]
    }
   ],
   "source": [
    "tokenizer_bpe = JSONTokenizerBPE(\n",
    "    vocab_size=300,\n",
    "    seq_len=512,\n",
    "    cleanup_symbols=JSON_CLEANUP_SYMBOLS,\n",
    "    stopwords=[]\n",
    ")\n",
    "tokenizer_bpe.train(X_raw_train)\n",
    "encoded = tokenizer.encode(X_raw_train)\n",
    "print(encoded.shape)"
   ]
  }
 ],
 "metadata": {
  "kernelspec": {
   "display_name": "Python 3",
   "language": "python",
   "name": "python3"
  },
  "language_info": {
   "codemirror_mode": {
    "name": "ipython",
    "version": 3
   },
   "file_extension": ".py",
   "mimetype": "text/x-python",
   "name": "python",
   "nbconvert_exporter": "python",
   "pygments_lexer": "ipython3",
   "version": "3.9.13"
  },
  "orig_nbformat": 4
 },
 "nbformat": 4,
 "nbformat_minor": 2
}
