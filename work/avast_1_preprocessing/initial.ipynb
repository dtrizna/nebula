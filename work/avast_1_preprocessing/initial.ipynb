{
 "cells": [
  {
   "cell_type": "code",
   "execution_count": 1,
   "metadata": {},
   "outputs": [],
   "source": [
    "import os\n",
    "basepath = os.path.dirname(os.path.abspath(\".\"))\n",
    "REPO_ROOT = os.path.join(basepath, \"..\")\n",
    "\n",
    "import sys\n",
    "sys.path.append(REPO_ROOT)\n",
    "\n",
    "import json\n",
    "from nebula.preprocessing import JSONTokenizerBPE, JSONTokenizerWhiteSpace\n",
    "from nebula.constants import JSON_CLEANUP_SYMBOLS\n",
    "from pandas import read_csv\n",
    "\n",
    "LIMIT = 30\n",
    "folder = os.path.join(REPO_ROOT, r\"data\\data_raw\\Avast\\Public_Avast_CTU_CAPEv2_Dataset_Small\\public_small_reports\")\n",
    "examples = [os.path.join(folder, x) for x in os.listdir(folder)[:LIMIT]]\n",
    "label_file = os.path.join(REPO_ROOT, r\"data\\data_raw\\Avast\\Public_Avast_CTU_CAPEv2_Dataset_Small\\public_labels.csv\")\n",
    "\n",
    "\n",
    "field = 'classification_family'\n",
    "\n",
    "label_df = read_csv(label_file)\n",
    "label_map = dict(zip(\n",
    "    sorted(label_df[field].unique()),\n",
    "    list(range(label_df[field].nunique()))\n",
    "))"
   ]
  },
  {
   "cell_type": "code",
   "execution_count": 2,
   "metadata": {},
   "outputs": [],
   "source": [
    "capa_normalizer = {\n",
    "    \"resolved_apis\": lambda x: x.lower(),\n",
    "    \"mutexes\": lambda x: x.lower()\n",
    "}\n",
    "\n",
    "X_raw = []\n",
    "y = []\n",
    "for example in examples:\n",
    "    hhash = os.path.basename(example).replace(\".json\", \"\")\n",
    "    family = label_df[label_df['sha256'] == hhash][field].iloc[0]\n",
    "    \n",
    "    with open(example) as f:\n",
    "        sample = json.load(f)\n",
    "    sample = sample[\"behavior\"]['summary']\n",
    "    normalized_sample = {field: [capa_normalizer[field](x) for x in sample[field]] for field in capa_normalizer}\n",
    "    X_raw.append(normalized_sample)\n",
    "    y.append(label_map[family])"
   ]
  },
  {
   "cell_type": "code",
   "execution_count": 3,
   "metadata": {},
   "outputs": [
    {
     "name": "stderr",
     "output_type": "stream",
     "text": [
      "100%|██████████| 30/30 [00:00<00:00, 4285.30it/s]\n",
      "WARNING:root:Dumped vocab to _vocab.json\n"
     ]
    },
    {
     "name": "stdout",
     "output_type": "stream",
     "text": [
      "(30, 512)\n"
     ]
    }
   ],
   "source": [
    "tokenizer = JSONTokenizerWhiteSpace(\n",
    "    vocab_size=300,\n",
    "    seq_len=512,\n",
    "    cleanup_symbols=JSON_CLEANUP_SYMBOLS,\n",
    "    stopwords=[]\n",
    ")\n",
    "\n",
    "tokenizer.train(X_raw)\n",
    "encoded = tokenizer.encode(X_raw)\n",
    "print(encoded.shape)"
   ]
  },
  {
   "cell_type": "code",
   "execution_count": 4,
   "metadata": {},
   "outputs": [
    {
     "name": "stderr",
     "output_type": "stream",
     "text": [
      "WARNING:root: [!] Initialized tokenizer without pre-trained model.\n",
      "\tYou need to train tokenizer with .train() or specify 'model_path=' during initialization!\n",
      "WARNING:root: [*] Data preparation for SentencePiece tokenizer...\n",
      "WARNING:root: [*] Saving to disk...\n",
      "WARNING:root: [!] Training tokenizer with command: --input=bpe_trainset_1679227702.txt --model_prefix=bpe --vocab_size=300 --model_type=bpe --split_by_number=False --max_sentence_length=4192 --max_sentencepiece_length=64\n",
      "WARNING:root: [!] Loaded vocab with size 301 from bp_vocab.json\n"
     ]
    },
    {
     "name": "stdout",
     "output_type": "stream",
     "text": [
      "(30, 512)\n"
     ]
    }
   ],
   "source": [
    "tokenizer_bpe = JSONTokenizerBPE(\n",
    "    vocab_size=300,\n",
    "    seq_len=512,\n",
    "    cleanup_symbols=JSON_CLEANUP_SYMBOLS,\n",
    "    stopwords=[]\n",
    ")\n",
    "tokenizer_bpe.train(X_raw)\n",
    "encoded = tokenizer.encode(X_raw)\n",
    "print(encoded.shape)"
   ]
  }
 ],
 "metadata": {
  "kernelspec": {
   "display_name": "Python 3",
   "language": "python",
   "name": "python3"
  },
  "language_info": {
   "codemirror_mode": {
    "name": "ipython",
    "version": 3
   },
   "file_extension": ".py",
   "mimetype": "text/x-python",
   "name": "python",
   "nbconvert_exporter": "python",
   "pygments_lexer": "ipython3",
   "version": "3.9.13"
  },
  "orig_nbformat": 4
 },
 "nbformat": 4,
 "nbformat_minor": 2
}
