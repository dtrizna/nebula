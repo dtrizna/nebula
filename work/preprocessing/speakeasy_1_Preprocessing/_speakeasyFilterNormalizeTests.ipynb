{
 "cells": [
  {
   "cell_type": "code",
   "execution_count": 4,
   "metadata": {},
   "outputs": [],
   "source": [
    "import os\n",
    "import sys\n",
    "sys.path.append(\"../..\")\n",
    "from src.misc import getRealPath\n",
    "from src.filters import readAndFilterFile, getRecordsFromFile\n",
    "from src.normalization import normalizeTableIP, joinSpeakEasyRecordsToJSON\n",
    "import orjson\n",
    "import pandas as pd\n",
    "\n",
    "from utils.constants import SPEAKEASY_RECORDS, SPEAKEASY_SUBFILTER_MINIMALISTIC"
   ]
  },
  {
   "cell_type": "code",
   "execution_count": 6,
   "metadata": {},
   "outputs": [
    {
     "name": "stdout",
     "output_type": "stream",
     "text": [
      "report_backdoor\n",
      "report_clean\n",
      "report_coinminer\n",
      "report_dropper\n",
      "report_keylogger\n",
      "report_ransomware\n",
      "report_rat\n",
      "report_trojan\n",
      "15/15\r"
     ]
    }
   ],
   "source": [
    "PATH = getRealPath(type=\"notebook\")\n",
    "EMULATION_DATASET_PATH = PATH + \"\\\\..\\\\..\\\\data\\\\data_raw\\\\windows_emulationDataset\\\\\"\n",
    "subFolders = [x for x in os.listdir(EMULATION_DATASET_PATH) if x.startswith(\"report_\")]\n",
    "LIMIT = 15\n",
    "\n",
    "for subFolder in subFolders:\n",
    "    print(subFolder)\n",
    "    fullPath = f\"{EMULATION_DATASET_PATH}{subFolder}\"\n",
    "    files = [f\"{fullPath}\\\\{x}\" for x in os.listdir(fullPath)[:LIMIT] if x.endswith(\".json\")]\n",
    "    l = len(files)\n",
    "    for i,file in enumerate(files):\n",
    "        print(f\"{i+1}/{l}\", end=\"\\r\")\n",
    "        \n",
    "        # read and filter\n",
    "        recordDict = getRecordsFromFile(files[0], SPEAKEASY_RECORDS)\n",
    "        \n",
    "        # normalize \n",
    "        recordDict['network_events.traffic'] = normalizeTableIP(recordDict['network_events.traffic'], 'server')\n",
    "        \n",
    "        # parse back to JSON\n",
    "        parsedRecords = joinSpeakEasyRecordsToJSON(recordDict, subFilter=SPEAKEASY_SUBFILTER_MINIMALISTIC)\n",
    "        jsonEvent = orjson.loads(parsedRecords)\n",
    "        hhash = file.split(\"\\\\\")[-1]"
   ]
  }
 ],
 "metadata": {
  "kernelspec": {
   "display_name": "Python 3",
   "language": "python",
   "name": "python3"
  },
  "language_info": {
   "codemirror_mode": {
    "name": "ipython",
    "version": 3
   },
   "file_extension": ".py",
   "mimetype": "text/x-python",
   "name": "python",
   "nbconvert_exporter": "python",
   "pygments_lexer": "ipython3",
   "version": "3.9.13 (tags/v3.9.13:6de2ca5, May 17 2022, 16:36:42) [MSC v.1929 64 bit (AMD64)]"
  },
  "orig_nbformat": 4,
  "vscode": {
   "interpreter": {
    "hash": "4e123ac7eba4d44924a894b1be2fc564282b1d2645e9d64ed33bc5003b6c2a87"
   }
  }
 },
 "nbformat": 4,
 "nbformat_minor": 2
}
