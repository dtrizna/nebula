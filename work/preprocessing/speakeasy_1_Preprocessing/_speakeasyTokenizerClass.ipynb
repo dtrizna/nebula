{
 "cells": [
  {
   "cell_type": "code",
   "execution_count": 2,
   "metadata": {},
   "outputs": [
    {
     "name": "stdout",
     "output_type": "stream",
     "text": [
      "     report_backdoor: 100/100                               \n",
      "        report_clean: 100/100                               \n",
      "    report_coinminer: 100/100                               \n",
      "      report_dropper: 100/100                               \n",
      "    report_keylogger: 100/100                               \n",
      "   report_ransomware: 100/100                               \n",
      "          report_rat: 100/100                               \n",
      "       report_trojan: 100/100                               \n",
      "report_windows_syswow64: 100/100                               \n"
     ]
    }
   ],
   "source": [
    "import os\n",
    "import sys\n",
    "sys.path.extend([\".\", \"..\"])\n",
    "import orjson\n",
    "from nebula import JSONTokenizer, PEDynamicFeatureExtractor\n",
    "from nebula.misc import getRealPath, flattenList\n",
    "\n",
    "PATH = getRealPath(type=\"notebook\")\n",
    "ROOT = PATH + r\"\\..\"\n",
    "TRAINSET = ROOT + r\"\\data\\data_raw\\windows_emulation_trainset\"\n",
    "#TRAINSET = ROOT + r\"\\data\\data_filtered\\speakeasy_trainset\"\n",
    "\n",
    "subFolders = [x for x in os.listdir(TRAINSET) if x.startswith(\"report_\")]\n",
    "benignFolders = [\"report_clean\", \"report_windows_syswow64\"]\n",
    "\n",
    "LIMIT = 100\n",
    "\n",
    "speakeasyConfig = r\"C:\\Users\\dtrizna\\Code\\nebula\\emulation\\_speakeasyConfig.json\"\n",
    "extractor = PEDynamicFeatureExtractor(speakeasyConfig=speakeasyConfig)\n",
    "\n",
    "events = []\n",
    "for subFolder in subFolders:\n",
    "    fullPath = f\"{TRAINSET}\\\\{subFolder}\"\n",
    "    files = [f\"{fullPath}\\\\{x}\" for x in os.listdir(fullPath) if x.endswith(\".json\")][:LIMIT]\n",
    "    \n",
    "    l = len(files)\n",
    "    for i,file in enumerate(files):\n",
    "        print(f\"{subFolder:>20}: {i+1}/{l} {' '*30}\", end=\"\\r\")\n",
    "        with open(file, \"r\") as f:\n",
    "            #reportEntryPoints = orjson.loads(f.read())\n",
    "            jsonEventRecords = orjson.loads(f.read())\n",
    "\n",
    "        # for PE path or PE bytes you can use\n",
    "        #jsonEventRecords = extractor.emulate(path=path)\n",
    "        #jsonEventRecords = extractor.emulate(data=bytez)\n",
    "\n",
    "        # for entry_points from json report use\n",
    "        # ~1 sec for 100 events\n",
    "        jsonEventRecords = extractor.parseReportEntryPoints(jsonEventRecords)\n",
    "        \n",
    "        events.append(jsonEventRecords)\n",
    "    print()"
   ]
  },
  {
   "cell_type": "code",
   "execution_count": 3,
   "metadata": {},
   "outputs": [
    {
     "name": "stderr",
     "output_type": "stream",
     "text": [
      "WARNING:root: Provided 'vocabSize' is larger than number of tokens in corpus: 1000 > 716. 'vocabSize' is set to 716 to represent tokens in corpus!\n"
     ]
    }
   ],
   "source": [
    "VOCAB_SIZE = 1000\n",
    "\n",
    "tokenizer = JSONTokenizer()\n",
    "\n",
    "# takes ~50s for 91k events\n",
    "eventsTokenized = tokenizer.tokenize(events)\n",
    "tokenizer.buildVocab(eventsTokenized, vocabSize=VOCAB_SIZE)\n",
    "\n",
    "if not LIMIT:\n",
    "    file = f\"speakeasyVocabTrainset_{VOCAB_SIZE}.pkl\"\n",
    "    print(\"Dumping vocab to {}\".format(file))\n",
    "    tokenizer.dumpVocab(file)\n"
   ]
  },
  {
   "cell_type": "code",
   "execution_count": 4,
   "metadata": {},
   "outputs": [
    {
     "data": {
      "image/png": "[encoded data removed]",
      "text/plain": [
       "<Figure size 864x432 with 1 Axes>"
      ]
     },
     "metadata": {
      "needs_background": "light"
     },
     "output_type": "display_data"
    },
    {
     "data": {
      "text/plain": [
       "<Figure size 432x288 with 0 Axes>"
      ]
     },
     "metadata": {},
     "output_type": "display_data"
    }
   ],
   "source": [
    "def plotCounterCountsLineplot(counter):\n",
    "    import matplotlib.pyplot as plt\n",
    "    import numpy as np\n",
    "    counts = [x[1] for x in counter.most_common()]\n",
    "    \n",
    "    plt.figure(figsize=(12,6))\n",
    "    plt.plot(np.arange(len(counts)), counts)\n",
    "    plt.yscale(\"log\")\n",
    "    # add ticks and grid to plot\n",
    "    plt.grid(which=\"both\")\n",
    "    plt.show()\n",
    "    # save to file\n",
    "    plt.savefig(\"counterCounts.png\")\n",
    "plotCounterCountsLineplot(tokenizer.counter)"
   ]
  },
  {
   "cell_type": "code",
   "execution_count": 5,
   "metadata": {},
   "outputs": [
    {
     "data": {
      "text/plain": [
       "(900, 2048)"
      ]
     },
     "execution_count": 5,
     "metadata": {},
     "output_type": "execute_result"
    }
   ],
   "source": [
    "MAX_SEQ_LEN = 2048\n",
    "\n",
    "# encode raw events\n",
    "#eventsEncodedPadded = tokenizer.encode(events, maxLen=MAX_SEQ_LEN)\n",
    "#eventsEncodedPadded.shape\n",
    "\n",
    "# if already tokenized\n",
    "eventsEncoded = tokenizer.convertTokenListToIds(eventsTokenized)\n",
    "eventsEncodedPadded = tokenizer.padSequenceList(eventsEncoded, maxLen=MAX_SEQ_LEN)\n",
    "eventsEncodedPadded.shape"
   ]
  }
 ],
 "metadata": {
  "kernelspec": {
   "display_name": "Python 3",
   "language": "python",
   "name": "python3"
  },
  "language_info": {
   "codemirror_mode": {
    "name": "ipython",
    "version": 3
   },
   "file_extension": ".py",
   "mimetype": "text/x-python",
   "name": "python",
   "nbconvert_exporter": "python",
   "pygments_lexer": "ipython3",
   "version": "3.9.13"
  },
  "orig_nbformat": 4,
  "vscode": {
   "interpreter": {
    "hash": "4e123ac7eba4d44924a894b1be2fc564282b1d2645e9d64ed33bc5003b6c2a87"
   }
  }
 },
 "nbformat": 4,
 "nbformat_minor": 2
}
