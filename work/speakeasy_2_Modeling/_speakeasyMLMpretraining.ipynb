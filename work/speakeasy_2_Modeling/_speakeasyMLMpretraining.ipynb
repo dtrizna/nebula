{
 "cells": [
  {
   "cell_type": "code",
   "execution_count": 2,
   "metadata": {},
   "outputs": [],
   "source": [
    "import os\n",
    "import sys\n",
    "sys.path.extend([\"../\", \".\", \"../..\"])\n",
    "from nebula.pretraining import MaskedLanguageModel\n",
    "from nebula import JSONTokenizer\n",
    "from nebula.misc import getRealPath\n",
    "import json\n",
    "import numpy as np\n",
    "\n",
    "import random\n",
    "from copy import deepcopy\n",
    "\n",
    "NOTE_ROOT = getRealPath(type=\"notebook\")\n",
    "REPO_ROOT = os.path.join(NOTE_ROOT, \"..\", \"..\")\n",
    "\n",
    "vocabPath = rf\"{REPO_ROOT}/nebula/objects/speakeasyReportVocab.json\"\n",
    "with open(vocabPath, \"r\") as f:\n",
    "    vocab = json.load(f)\n",
    "\n",
    "tokenizer = JSONTokenizer()\n",
    "tokenizer.load_from_pretrained(vocab)\n",
    "\n",
    "x_train = rf\"{REPO_ROOT}\\data\\data_filtered\\speakeasy_trainset\\speakeasy_VocabSize_10000_maxLen_2048_x.npy\"\n",
    "x_train = np.load(x_train)"
   ]
  },
  {
   "cell_type": "code",
   "execution_count": 3,
   "metadata": {},
   "outputs": [],
   "source": [
    "languageModelClass = MaskedLanguageModel\n",
    "languageModelClassConfig = {\n",
    "    \"vocab\": vocab,\n",
    "    \"mask_probability\": 0.15,\n",
    "    \"random_state\": 42,\n",
    "}\n",
    "mlm = languageModelClass(**languageModelClassConfig)"
   ]
  },
  {
   "cell_type": "code",
   "execution_count": 5,
   "metadata": {},
   "outputs": [],
   "source": [
    "masked_seq, target = mlm.maskSequence(x_train[0])"
   ]
  },
  {
   "cell_type": "code",
   "execution_count": 9,
   "metadata": {},
   "outputs": [],
   "source": [
    "masked_seq_decoded = tokenizer.decode(masked_seq)\n",
    "with open(\"./masked_seq.json\", \"w\") as f:\n",
    "    json.dump(masked_seq_decoded, f, indent=4)"
   ]
  }
 ],
 "metadata": {
  "kernelspec": {
   "display_name": "Python 3",
   "language": "python",
   "name": "python3"
  },
  "language_info": {
   "codemirror_mode": {
    "name": "ipython",
    "version": 3
   },
   "file_extension": ".py",
   "mimetype": "text/x-python",
   "name": "python",
   "nbconvert_exporter": "python",
   "pygments_lexer": "ipython3",
   "version": "3.9.13 (tags/v3.9.13:6de2ca5, May 17 2022, 16:36:42) [MSC v.1929 64 bit (AMD64)]"
  },
  "orig_nbformat": 4,
  "vscode": {
   "interpreter": {
    "hash": "4e123ac7eba4d44924a894b1be2fc564282b1d2645e9d64ed33bc5003b6c2a87"
   }
  }
 },
 "nbformat": 4,
 "nbformat_minor": 2
}
