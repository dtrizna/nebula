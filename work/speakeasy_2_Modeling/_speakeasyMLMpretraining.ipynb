{
 "cells": [
  {
   "cell_type": "code",
   "execution_count": 1,
   "metadata": {},
   "outputs": [],
   "source": [
    "import sys\n",
    "sys.path.extend([\"../\", \".\", \"../..\"])\n",
    "from nebula.pretraining import maskSequenceArr, maskSequence\n",
    "from nebula import JSONTokenizer\n",
    "import pickle\n",
    "import numpy as np\n",
    "\n",
    "import random\n",
    "from copy import deepcopy\n",
    "\n",
    "\n",
    "vocabPath = r\"C:\\Users\\dtrizna\\Code\\nebula\\data\\data_filtered\\speakeasy_trainset\\speakeasy_VocabSize_1500.pkl\"\n",
    "\n",
    "with open(vocabPath, \"rb\") as f:\n",
    "    vocab = pickle.load(f)\n",
    "\n",
    "tokenizer = JSONTokenizer()\n",
    "tokenizer.loadVocab(vocab)\n",
    "\n",
    "x_train = r\"C:\\Users\\dtrizna\\Code\\nebula\\data\\data_filtered\\speakeasy_trainset\\speakeasy_VocabSize_1500_maxLen_2048.npy\"\n",
    "x_train = np.load(x_train)\n"
   ]
  },
  {
   "cell_type": "code",
   "execution_count": 2,
   "metadata": {},
   "outputs": [],
   "source": [
    "sequence = x_train[0]\n",
    "\n",
    "maskedSequenceList, whereMaskedList, maskedTokenIdsList = maskSequence(sequence, vocab, mask_probability=0.15, random_state=43, token_id_type=\"onehot\")\n",
    "maskedSequenceArr, whereMaskedArr, maskedTokenIdsArr = maskSequenceArr(sequence, vocab, mask_probability=0.15, random_state=43, token_id_type=\"onehot\")\n"
   ]
  },
  {
   "cell_type": "code",
   "execution_count": 3,
   "metadata": {},
   "outputs": [
    {
     "name": "stdout",
     "output_type": "stream",
     "text": [
      "[0 0 0 1 0 0 0 0 1 0]\n",
      "[ 62   3  38   2  79   4  68   3 319   4]\n",
      "[0 0 0 1 1 0 0 1 1 1 0 1 1 1 1 1 1 1 1 1]\n"
     ]
    }
   ],
   "source": [
    "print(whereMaskedArr[5:15])\n",
    "print(maskedSequenceArr[5:15])\n",
    "print(maskedTokenIdsArr[0:20])"
   ]
  },
  {
   "cell_type": "code",
   "execution_count": 4,
   "metadata": {},
   "outputs": [
    {
     "name": "stdout",
     "output_type": "stream",
     "text": [
      "[0 0 0 1 0 0 0 0 1 0]\n",
      "[62  3 38  2 79  4 68  3  2  4]\n",
      "[0 0 0 1 1 0 0 1 1 1 0 1 1 1 1 1 1 1 1 1]\n"
     ]
    }
   ],
   "source": [
    "print(whereMaskedList[5:15])\n",
    "print(maskedSequenceList[5:15])\n",
    "print(maskedTokenIdsList[0:20])"
   ]
  },
  {
   "cell_type": "code",
   "execution_count": 10,
   "metadata": {},
   "outputs": [
    {
     "data": {
      "text/plain": [
       "array([319,  91, 319,  93,   3,  62,   3,  38,   2,  79,   4,  68,   3,\n",
       "       319,   4, 149, 153,  32,   2,   5])"
      ]
     },
     "execution_count": 10,
     "metadata": {},
     "output_type": "execute_result"
    }
   ],
   "source": [
    "maskedSequenceArr[0:20]"
   ]
  },
  {
   "cell_type": "code",
   "execution_count": 11,
   "metadata": {},
   "outputs": [
    {
     "name": "stdout",
     "output_type": "stream",
     "text": [
      "False\n"
     ]
    },
    {
     "data": {
      "text/plain": [
       "(array([  0,   2,  13,  30,  38, 145, 149, 154, 182, 198, 206, 218, 240,\n",
       "        245, 248, 263, 277, 296, 304, 313, 324, 366, 367, 373, 418, 438,\n",
       "        448, 459, 516, 520, 553, 597, 606, 612, 614, 629, 643, 652, 677,\n",
       "        715, 717, 774, 785, 847, 881, 955, 977], dtype=int64),)"
      ]
     },
     "execution_count": 11,
     "metadata": {},
     "output_type": "execute_result"
    }
   ],
   "source": [
    "# compare with numpy if arr1 is equal to arr2\n",
    "print(np.array_equal(maskedSequenceArr, maskedSequenceList))\n",
    "\n",
    "# show differences\n",
    "np.where(maskedSequenceArr != maskedSequenceList)"
   ]
  },
  {
   "cell_type": "code",
   "execution_count": 12,
   "metadata": {},
   "outputs": [
    {
     "data": {
      "text/plain": [
       "array([45, 91,  3, 93,  3])"
      ]
     },
     "execution_count": 12,
     "metadata": {},
     "output_type": "execute_result"
    }
   ],
   "source": [
    "sequence[0:5]"
   ]
  },
  {
   "cell_type": "code",
   "execution_count": 13,
   "metadata": {},
   "outputs": [
    {
     "data": {
      "text/plain": [
       "array([319,  91, 319,  93,   3])"
      ]
     },
     "execution_count": 13,
     "metadata": {},
     "output_type": "execute_result"
    }
   ],
   "source": [
    "maskedSequenceArr[0:5]"
   ]
  },
  {
   "cell_type": "code",
   "execution_count": 14,
   "metadata": {},
   "outputs": [
    {
     "data": {
      "text/plain": [
       "array([368,  91,   3,  93,   3])"
      ]
     },
     "execution_count": 14,
     "metadata": {},
     "output_type": "execute_result"
    }
   ],
   "source": [
    "maskedSequenceList[0:5]"
   ]
  },
  {
   "cell_type": "code",
   "execution_count": null,
   "metadata": {},
   "outputs": [],
   "source": []
  }
 ],
 "metadata": {
  "kernelspec": {
   "display_name": "Python 3",
   "language": "python",
   "name": "python3"
  },
  "language_info": {
   "codemirror_mode": {
    "name": "ipython",
    "version": 3
   },
   "file_extension": ".py",
   "mimetype": "text/x-python",
   "name": "python",
   "nbconvert_exporter": "python",
   "pygments_lexer": "ipython3",
   "version": "3.9.13"
  },
  "orig_nbformat": 4,
  "vscode": {
   "interpreter": {
    "hash": "4e123ac7eba4d44924a894b1be2fc564282b1d2645e9d64ed33bc5003b6c2a87"
   }
  }
 },
 "nbformat": 4,
 "nbformat_minor": 2
}
