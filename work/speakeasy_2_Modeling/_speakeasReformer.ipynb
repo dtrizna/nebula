{
 "cells": [
  {
   "cell_type": "code",
   "execution_count": 1,
   "metadata": {},
   "outputs": [],
   "source": [
    "from reformer_pytorch import Reformer, ReformerLM\n",
    "import torch\n",
    "import numpy as np\n",
    "import sys\n",
    "sys.path.append(\"../..\")\n",
    "from sklearn.utils import shuffle\n",
    "\n",
    "train_limit = 10"
   ]
  },
  {
   "cell_type": "code",
   "execution_count": 2,
   "metadata": {},
   "outputs": [
    {
     "name": "stdout",
     "output_type": "stream",
     "text": [
      "torch.Size([1, 2048])\n",
      "tensor([[9663, 5815, 6604,  ..., 7963, 3734, 1388]], device='cuda:0')\n",
      "torch.Size([1, 2048, 10000])\n"
     ]
    },
    {
     "data": {
      "text/plain": [
       "tensor([[[-0.2571,  0.0946,  1.2171,  ...,  1.0211,  0.6078, -1.5222],\n",
       "         [-0.5475, -1.0385,  0.3527,  ..., -0.3380,  0.3230, -0.1097],\n",
       "         [-0.1876,  0.2611, -0.2140,  ..., -0.1548, -0.2156,  1.3618],\n",
       "         ...,\n",
       "         [-0.0234, -0.1973, -0.3887,  ...,  0.0345,  0.2153,  0.5647],\n",
       "         [-0.1371,  0.4535,  0.1623,  ...,  0.7661, -0.2427,  0.7677],\n",
       "         [-0.7233, -0.1527,  0.0673,  ...,  1.0133,  0.8355, -0.0027]]])"
      ]
     },
     "execution_count": 2,
     "metadata": {},
     "output_type": "execute_result"
    }
   ],
   "source": [
    "x = torch.randint(0, 10000, (1, 2048)).cuda()\n",
    "print(x.shape)\n",
    "print(x[0:20])\n",
    "\n",
    "# this is used during pre-trainining \n",
    "# therefore output is in size of vocabulary\n",
    "modelLM = ReformerLM(\n",
    "    num_tokens=10000,\n",
    "    dim=16,\n",
    "    depth=12,\n",
    "    max_seq_len=2048,\n",
    "    heads=8,\n",
    "    causal = False\n",
    ").cuda()\n",
    "y = modelLM(x).detach().cpu()\n",
    "print(y.shape)\n",
    "y"
   ]
  },
  {
   "attachments": {},
   "cell_type": "markdown",
   "metadata": {},
   "source": [
    "# How to understand that output!?\n",
    "\n",
    "```\n",
    "([1, 2048, 10000])\n",
    "```\n",
    "... means that for every token in input sequence model outputs 10000 probabilities for each token in vocabulary. \n"
   ]
  },
  {
   "cell_type": "code",
   "execution_count": 3,
   "metadata": {},
   "outputs": [
    {
     "name": "stdout",
     "output_type": "stream",
     "text": [
      "torch.Size([1, 2048, 16])\n"
     ]
    },
    {
     "data": {
      "text/plain": [
       "tensor([[[-0.3885,  1.6093,  0.0879,  ...,  0.4407,  1.6088, -0.1378],\n",
       "         [ 0.5257,  0.3730, -0.8231,  ...,  0.4697, -0.0235, -0.7727],\n",
       "         [-0.4090, -2.6898, -0.5801,  ...,  1.4676, -0.4837,  0.0421],\n",
       "         ...,\n",
       "         [-0.8758, -0.1590,  0.7603,  ...,  1.2296, -0.6198,  1.8286],\n",
       "         [ 0.8860,  0.2445, -0.8100,  ...,  0.9405,  0.9864, -0.3628],\n",
       "         [-1.1039,  2.7194, -1.2797,  ..., -0.0714,  1.0309,  2.3854]]])"
      ]
     },
     "execution_count": 3,
     "metadata": {},
     "output_type": "execute_result"
    }
   ],
   "source": [
    "model = Reformer(\n",
    "    dim=16,\n",
    "    depth=12,\n",
    "    heads=8,\n",
    "    lsh_dropout=0.1,\n",
    "    causal=False\n",
    ").cuda()\n",
    "\n",
    "x = torch.randn(1, 2048, 16).cuda()\n",
    "y = model(x).detach().cpu() # (1, 8192, 512)\n",
    "print(y.shape)\n",
    "y"
   ]
  },
  {
   "attachments": {},
   "cell_type": "markdown",
   "metadata": {},
   "source": [
    "How to update params from LM to actual new model:"
   ]
  },
  {
   "cell_type": "code",
   "execution_count": 4,
   "metadata": {},
   "outputs": [
    {
     "name": "stdout",
     "output_type": "stream",
     "text": [
      "set()\n",
      "set()\n"
     ]
    }
   ],
   "source": [
    "model_dict = model.state_dict()\n",
    "\n",
    "# filter out the output layer weights from the pre-trained weights\n",
    "pretrained_dict = {k: v for k, v in modelLM.state_dict().items() if \\\n",
    "     k not in ['norm.weight', 'norm.bias', 'out.1.weight', 'out.1.bias', 'layer_pos_emb.inv_freq', 'token_emb.weight']}\n",
    "# remove \"reformer.\" from the keys\n",
    "pretrained_dict = {k.replace(\"reformer.\", \"\"): v for k, v in pretrained_dict.items()}\n",
    "\n",
    "print(set(model_dict.keys()) - set(pretrained_dict.keys()))\n",
    "print(set(pretrained_dict.keys()) - set(model_dict.keys()))\n",
    "#model_dict.update(pretrained_dict)\n",
    "#model.load_state_dict(model_dict)"
   ]
  },
  {
   "attachments": {},
   "cell_type": "markdown",
   "metadata": {},
   "source": [
    "# Trying on my data, buildin own model"
   ]
  },
  {
   "cell_type": "code",
   "execution_count": 5,
   "metadata": {},
   "outputs": [],
   "source": [
    "x_train = r\"C:\\Users\\dtrizna\\Code\\nebula\\data\\data_filtered\\speakeasy_trainset\\speakeasy_VocabSize_10000_maxLen_2048_x.npy\"\n",
    "x_train = np.load(x_train)\n",
    "y_train = r\"C:\\Users\\dtrizna\\Code\\nebula\\data\\data_filtered\\speakeasy_trainset\\speakeasy_y.npy\"\n",
    "y_train = np.load(y_train)\n",
    "\n",
    "if train_limit:\n",
    "    x_train, y_train = shuffle(x_train, y_train, random_state=42)\n",
    "    x_train = x_train[:train_limit]\n",
    "    y_train = y_train[:train_limit]"
   ]
  },
  {
   "cell_type": "code",
   "execution_count": 7,
   "metadata": {},
   "outputs": [
    {
     "name": "stdout",
     "output_type": "stream",
     "text": [
      "torch.Size([1, 2048])\n",
      "tensor([[8918, 4020, 8907,  ..., 1570,  489, 5653]], device='cuda:0')\n",
      "before token_emb torch.Size([1, 2048])\n",
      "after token_emb torch.Size([1, 2048, 16])\n",
      "after layer_pos_emb torch.Size([1, 2048, 16])\n",
      "after to_model_dim, before reformer torch.Size([1, 2048, 16])\n",
      "after reformer torch.Size([1, 2048, 16])\n",
      "after core, before fcOutput torch.Size([1, 2048, 16])\n",
      "torch.Size([1, 2048, 1])\n"
     ]
    },
    {
     "data": {
      "text/plain": [
       "tensor([[[-0.4142],\n",
       "         [ 0.1246],\n",
       "         [ 0.3318],\n",
       "         ...,\n",
       "         [-0.1138],\n",
       "         [-0.6565],\n",
       "         [ 0.1685]]])"
      ]
     },
     "execution_count": 7,
     "metadata": {},
     "output_type": "execute_result"
    }
   ],
   "source": [
    "from nebula.attention import MyReformerLM\n",
    "\n",
    "x = torch.randint(0, 10000, (1, 2048)).cuda()\n",
    "print(x.shape)\n",
    "print(x[0:20])\n",
    "\n",
    "# this is used during pre-trainining \n",
    "# therefore output is in size of vocabulary\n",
    "modelLM = MyReformerLM(\n",
    "    num_tokens=10000,\n",
    "    dim=16,\n",
    "    depth=12,\n",
    "    max_seq_len=2048,\n",
    "    heads=8,\n",
    "    causal = False\n",
    ").cuda()\n",
    "y = modelLM.classify(x).detach().cpu()\n",
    "print(y.shape)\n",
    "y"
   ]
  },
  {
   "cell_type": "code",
   "execution_count": 13,
   "metadata": {},
   "outputs": [
    {
     "name": "stdout",
     "output_type": "stream",
     "text": [
      "shape before transformer torch.Size([1, 2048, 32])\n",
      "shape after transformer torch.Size([1, 2048, 32])\n",
      "shape after mean torch.Size([1, 32])\n",
      "shape after ffnn torch.Size([1, 64])\n",
      "torch.Size([1, 1])\n"
     ]
    }
   ],
   "source": [
    "# force realod of class from within notebook\n",
    "import importlib\n",
    "import nebula\n",
    "importlib.reload(nebula.attention)\n",
    "from nebula.attention import TransformerEncoderModel\n",
    "\n",
    "model = TransformerEncoderModel(\n",
    "    vocabSize=10000,\n",
    ").cuda()\n",
    "\n",
    "x = torch.randint(0, 10000, (1, 2048)).cuda()\n",
    "y = model(x).detach().cpu()\n",
    "print(y.shape)"
   ]
  },
  {
   "cell_type": "code",
   "execution_count": null,
   "metadata": {},
   "outputs": [],
   "source": []
  }
 ],
 "metadata": {
  "kernelspec": {
   "display_name": "Python 3",
   "language": "python",
   "name": "python3"
  },
  "language_info": {
   "codemirror_mode": {
    "name": "ipython",
    "version": 3
   },
   "file_extension": ".py",
   "mimetype": "text/x-python",
   "name": "python",
   "nbconvert_exporter": "python",
   "pygments_lexer": "ipython3",
   "version": "3.9.13"
  },
  "orig_nbformat": 4,
  "vscode": {
   "interpreter": {
    "hash": "4e123ac7eba4d44924a894b1be2fc564282b1d2645e9d64ed33bc5003b6c2a87"
   }
  }
 },
 "nbformat": 4,
 "nbformat_minor": 2
}
