{
 "cells": [
  {
   "cell_type": "code",
   "execution_count": 1,
   "metadata": {},
   "outputs": [],
   "source": [
    "import json\n",
    "import time\n",
    "\n",
    "import sys\n",
    "sys.path.append(\"../..\")\n",
    "from utils.preprocessing import readAndFilterEvent, readAndFilterFile\n"
   ]
  },
  {
   "cell_type": "code",
   "execution_count": 2,
   "metadata": {},
   "outputs": [
    {
     "name": "stdout",
     "output_type": "stream",
     "text": [
      "Valid JSONs\n"
     ]
    }
   ],
   "source": [
    "event_normalized = \"\"\"{\"process.parent.process.pid\": \"1\",\"auditd.data.arch\": \"x86_64\",\"Headers.VmId\": \"e708da01-58f5-4f8c-8923-cc64a5d52c83\",\"Headers.SubscriptionId\": \"1c8adc77-05c9-45fb-976c-e90c4bea200f\",\"Role\": \"pstn\",\"process.ppid\": \"1\",\"hostname\": \"neu-qa-pstn-pm1\",\"rule.sidid\": \"execution\",\"Headers.Workload\": \"LinuxSkypePSTN\",\"process.parent.process.title\": \"/sbin/init\",\"TimeStamp\": \"2022-10-31T12:02:02.6110000Z\",\"auditd.data.a1\": \"55bff0690480\",\"process.parent.process.name\": \"systemd\",\"Headers.CustomerName\": \"PSTNInfrastructure\",\"auditd.data.a2\": \"55bff063d900\",\"full_log\": \"/bin/bash\",\"Headers.ResourceGroupName\": \"neu-pstn-skypeout-ppe\",\"process.args\": \"/bin/bash /etc/init.d/mdsd stop\",\"Rule\": \"auditbeat\",\"auditd.data.tty\": \"(none)\",\"Latency\": \"1033028\",\"auditd.message_type\": \"syscall\",\"auditd.data.a3\": \"55bff06fdd00\",\"Headers.Role\": \"pstn\",\"process.parent.process.executable\": \"/lib/systemd/systemd\",\"process.parent.process.ppid\": \"0\",\"auditd.data.exit\": \"0\",\"id\": \"509947759\",\"process.title\": \"/bin/bash /etc/init.d/mdsd stop\",\"auditd.data.syscall\": \"execve\",\"auditd.summary.object.primary\": \"/etc/init.d/mdsd\",\"process.name\": \"mdsd\",\"process.executable\": \"/bin/bash\",\"auditd.result\": \"success\",\"auditd.summary.actor.secondary\": \"root\",\"process.working_directory\": \"/\",\"auditd.sequence\": \"509947759\",\"auditd.summary.object.type\": \"file\",\"process.parent.process.start_time\": \"2022-07-19T10:57:54.7300000Z\",\"program_name\": \"auditbeat\",\"auditd.summary.actor.primary\": \"unset\",\"auditd.summary.how\": \"/bin/bash\",\"auditd.data.argc\": \"3\",\"auditd.data.a0\": \"55bff06fdca0\",\"sidid\": \"execution\",\"process.pid\": \"11233\"}\"\"\"\n",
    "event_hierarchical = \"\"\"{\"process\":{\"parent\":{\"process\":{\"pid\":\"23463\",\"title\":\"/bin/bash/<appcontainer>\",\"name\":\"bash\",\"executable\":\"/bin/bash\",\"ppid\":\"23459\",\"start_time\":\"2022-06-13T07:37:19.1800000Z\"}},\"ppid\":\"23463\",\"args\":\"ln-sf/mnt/resource/hadoop/yarn/local/usercache/livy/filecache/50757218/scala-logging_2.11-3.9.0.jarscala-logging_2.11-3.9.0.jar\",\"title\":\"ln-sf/mnt/resource/hadoop/yarn/local/usercache/livy/filecache/50757218/scala-logging_2.11-3.9.0.jarscala-logging_2.11-3.9.0.j\",\"name\":\"ln\",\"executable\":\"/bin/ln\",\"working_directory\":\"/<appcontainer>\",\"pid\":\"23650\"},\"auditd\":{\"data\":{\"arch\":\"x86_64\",\"a1\":\"55daa78c1040\",\"a2\":\"55daa78b79f0\",\"tty\":\"(none)\",\"a3\":\"8\",\"exit\":\"0\",\"syscall\":\"execve\",\"argc\":\"4\",\"a0\":\"55daa78b2d90\"},\"message_type\":\"syscall\",\"summary\":{\"object\":{\"primary\":\"/bin/ln\",\"type\":\"file\"},\"actor\":{\"secondary\":\"yarn\",\"primary\":\"unset\"},\"how\":\"/bin/ln\"},\"result\":\"success\",\"sequence\":\"2222174356\"},\"Headers\":{\"VmId\":\"efcb7627-4981-40f3-809a-fdd82771f7ed\",\"SubscriptionId\":\"32abfb07-f763-4cb7-bad4-a13fdfd7e9db\",\"Workload\":\"DataInsights\",\"CustomerName\":\"DataInsights\",\"ResourceGroupName\":\"rg0-7ff91af554614e2ab9465f7f5bc3686aresourcegroup\",\"ClusterName\":\"o365ipdinor01-sp-ne01\",\"Role\":\"WorkerNode\"},\"Role\":\"WorkerNode\",\"hostname\":\"wn23-o365ip\",\"rule\":{\"sidid\":\"execution\"},\"TimeStamp\":\"2022-06-13T07:37:19.5880000Z\",\"full_log\":\"/bin/ln\",\"Rule\":\"auditbeat\",\"Latency\":\"125739\",\"id\":\"2222174356\",\"program_name\":\"auditbeat\",\"sidid\":\"execution\"}\"\"\"\n",
    "\n",
    "try:\n",
    "    json.loads(event_normalized)\n",
    "    json.loads(event_hierarchical)\n",
    "except json.decoder.JSONDecodeError as e:\n",
    "    print(\"Invalid JSON: {}\".format(e))\n",
    "else:\n",
    "    print(\"Valid JSONs\")"
   ]
  },
  {
   "cell_type": "code",
   "execution_count": 3,
   "metadata": {},
   "outputs": [
    {
     "name": "stdout",
     "output_type": "stream",
     "text": [
      "<class 'pandas.core.frame.DataFrame'> (1, 14) <class 'pandas.core.frame.DataFrame'> (1, 14)\n"
     ]
    }
   ],
   "source": [
    "from utils.constants import AUDITD_FIELDS, AUDITD_TYPES\n",
    "a = readAndFilterEvent(event_normalized, normalizedFields=AUDITD_FIELDS, filterDict={\"rule.sidid\": AUDITD_TYPES})\n",
    "b = readAndFilterEvent(event_hierarchical, normalizedFields=AUDITD_FIELDS, jsonType = \"nested\", filterDict={\"rule.sidid\": AUDITD_TYPES})\n",
    "print(type(a), a.shape, type(b), b.shape)"
   ]
  },
  {
   "cell_type": "code",
   "execution_count": 4,
   "metadata": {},
   "outputs": [
    {
     "data": {
      "text/html": [
       "<div>\n",
       "<style scoped>\n",
       "    .dataframe tbody tr th:only-of-type {\n",
       "        vertical-align: middle;\n",
       "    }\n",
       "\n",
       "    .dataframe tbody tr th {\n",
       "        vertical-align: top;\n",
       "    }\n",
       "\n",
       "    .dataframe thead th {\n",
       "        text-align: right;\n",
       "    }\n",
       "</style>\n",
       "<table border=\"1\" class=\"dataframe\">\n",
       "  <thead>\n",
       "    <tr style=\"text-align: right;\">\n",
       "      <th></th>\n",
       "      <th>TimeStamp</th>\n",
       "      <th>rule.sidid</th>\n",
       "      <th>hostname</th>\n",
       "      <th>auditd.data.syscall</th>\n",
       "      <th>auditd.summary.actor.primary</th>\n",
       "      <th>auditd.summary.actor.secondary</th>\n",
       "      <th>auditd.summary.object.primary</th>\n",
       "      <th>process.title</th>\n",
       "      <th>process.args</th>\n",
       "      <th>process.working_directory</th>\n",
       "      <th>process.pid</th>\n",
       "      <th>process.ppid</th>\n",
       "      <th>process.parent.process.executable</th>\n",
       "      <th>process.parent.process.title</th>\n",
       "    </tr>\n",
       "  </thead>\n",
       "  <tbody>\n",
       "    <tr>\n",
       "      <th>0</th>\n",
       "      <td>2022-06-13T07:37:19.5880000Z</td>\n",
       "      <td>execution</td>\n",
       "      <td>wn23-o365ip</td>\n",
       "      <td>execve</td>\n",
       "      <td>unset</td>\n",
       "      <td>yarn</td>\n",
       "      <td>/bin/ln</td>\n",
       "      <td>ln-sf/mnt/resource/hadoop/yarn/local/usercache...</td>\n",
       "      <td>ln-sf/mnt/resource/hadoop/yarn/local/usercache...</td>\n",
       "      <td>/&lt;appcontainer&gt;</td>\n",
       "      <td>23650</td>\n",
       "      <td>23463</td>\n",
       "      <td>/bin/bash</td>\n",
       "      <td>/bin/bash/&lt;appcontainer&gt;</td>\n",
       "    </tr>\n",
       "  </tbody>\n",
       "</table>\n",
       "</div>"
      ],
      "text/plain": [
       "                      TimeStamp rule.sidid     hostname auditd.data.syscall  \\\n",
       "0  2022-06-13T07:37:19.5880000Z  execution  wn23-o365ip              execve   \n",
       "\n",
       "  auditd.summary.actor.primary auditd.summary.actor.secondary  \\\n",
       "0                        unset                           yarn   \n",
       "\n",
       "  auditd.summary.object.primary  \\\n",
       "0                       /bin/ln   \n",
       "\n",
       "                                       process.title  \\\n",
       "0  ln-sf/mnt/resource/hadoop/yarn/local/usercache...   \n",
       "\n",
       "                                        process.args  \\\n",
       "0  ln-sf/mnt/resource/hadoop/yarn/local/usercache...   \n",
       "\n",
       "  process.working_directory process.pid process.ppid  \\\n",
       "0           /<appcontainer>       23650        23463   \n",
       "\n",
       "  process.parent.process.executable process.parent.process.title  \n",
       "0                         /bin/bash     /bin/bash/<appcontainer>  "
      ]
     },
     "execution_count": 4,
     "metadata": {},
     "output_type": "execute_result"
    }
   ],
   "source": [
    "b"
   ]
  },
  {
   "cell_type": "code",
   "execution_count": 5,
   "metadata": {},
   "outputs": [
    {
     "data": {
      "text/html": [
       "<div>\n",
       "<style scoped>\n",
       "    .dataframe tbody tr th:only-of-type {\n",
       "        vertical-align: middle;\n",
       "    }\n",
       "\n",
       "    .dataframe tbody tr th {\n",
       "        vertical-align: top;\n",
       "    }\n",
       "\n",
       "    .dataframe thead th {\n",
       "        text-align: right;\n",
       "    }\n",
       "</style>\n",
       "<table border=\"1\" class=\"dataframe\">\n",
       "  <thead>\n",
       "    <tr style=\"text-align: right;\">\n",
       "      <th></th>\n",
       "      <th>TimeStamp</th>\n",
       "      <th>rule.sidid</th>\n",
       "      <th>hostname</th>\n",
       "      <th>auditd.data.syscall</th>\n",
       "      <th>auditd.summary.actor.primary</th>\n",
       "      <th>auditd.summary.actor.secondary</th>\n",
       "      <th>auditd.summary.object.primary</th>\n",
       "      <th>process.title</th>\n",
       "      <th>process.args</th>\n",
       "      <th>process.working_directory</th>\n",
       "      <th>process.pid</th>\n",
       "      <th>process.ppid</th>\n",
       "      <th>process.parent.process.executable</th>\n",
       "      <th>process.parent.process.title</th>\n",
       "    </tr>\n",
       "  </thead>\n",
       "  <tbody>\n",
       "    <tr>\n",
       "      <th>0</th>\n",
       "      <td>2022-10-31T12:02:02.6110000Z</td>\n",
       "      <td>execution</td>\n",
       "      <td>neu-qa-pstn-pm1</td>\n",
       "      <td>execve</td>\n",
       "      <td>unset</td>\n",
       "      <td>root</td>\n",
       "      <td>/etc/init.d/mdsd</td>\n",
       "      <td>/bin/bash /etc/init.d/mdsd stop</td>\n",
       "      <td>/bin/bash /etc/init.d/mdsd stop</td>\n",
       "      <td>/</td>\n",
       "      <td>11233</td>\n",
       "      <td>1</td>\n",
       "      <td>/lib/systemd/systemd</td>\n",
       "      <td>/sbin/init</td>\n",
       "    </tr>\n",
       "  </tbody>\n",
       "</table>\n",
       "</div>"
      ],
      "text/plain": [
       "                      TimeStamp rule.sidid         hostname  \\\n",
       "0  2022-10-31T12:02:02.6110000Z  execution  neu-qa-pstn-pm1   \n",
       "\n",
       "  auditd.data.syscall auditd.summary.actor.primary  \\\n",
       "0              execve                        unset   \n",
       "\n",
       "  auditd.summary.actor.secondary auditd.summary.object.primary  \\\n",
       "0                           root              /etc/init.d/mdsd   \n",
       "\n",
       "                     process.title                     process.args  \\\n",
       "0  /bin/bash /etc/init.d/mdsd stop  /bin/bash /etc/init.d/mdsd stop   \n",
       "\n",
       "  process.working_directory process.pid process.ppid  \\\n",
       "0                         /       11233            1   \n",
       "\n",
       "  process.parent.process.executable process.parent.process.title  \n",
       "0              /lib/systemd/systemd                   /sbin/init  "
      ]
     },
     "execution_count": 5,
     "metadata": {},
     "output_type": "execute_result"
    }
   ],
   "source": [
    "a"
   ]
  },
  {
   "cell_type": "markdown",
   "metadata": {},
   "source": [
    "#### Benchmark"
   ]
  },
  {
   "cell_type": "code",
   "execution_count": 6,
   "metadata": {},
   "outputs": [
    {
     "name": "stdout",
     "output_type": "stream",
     "text": [
      "Time taken: ~0.00213889 seconds per 100 events\n"
     ]
    }
   ],
   "source": [
    "tick1 = time.time()\n",
    "filename = r\"C:\\Users\\dtrizna\\Code\\nebula\\data\\auditd_msft_raw\\1662470678.json\"\n",
    "df = readAndFilterFile(filename, normalizedFields=AUDITD_FIELDS, filterDict={\"rule.sidid\": AUDITD_TYPES})\n",
    "tick2 = time.time()\n",
    "mean100tick1 = (tick2 - tick1)*100/df.shape[0]\n",
    "print(\"Time taken: ~{:.8f} seconds per 100 events\".format(mean100tick1))"
   ]
  },
  {
   "cell_type": "code",
   "execution_count": 7,
   "metadata": {},
   "outputs": [
    {
     "name": "stdout",
     "output_type": "stream",
     "text": [
      "Time taken: ~0.11892068 seconds per 100 events\n",
      "Per event parsing is 55.60 times slower\n"
     ]
    }
   ],
   "source": [
    "import orjson\n",
    "from pandas import concat\n",
    "\n",
    "tick1 = time.time()\n",
    "filename = r\"C:\\Users\\dtrizna\\Code\\nebula\\data\\auditd_msft_raw\\1662470678.json\"\n",
    "with open(filename, \"rb\") as f:\n",
    "    data = orjson.loads(f.read())\n",
    "dfs = []\n",
    "for i, event in enumerate(data[0:10000]):\n",
    "    dfs.append(readAndFilterEvent(event, normalizedFields=AUDITD_FIELDS, filterDict={\"rule.sidid\": AUDITD_TYPES}))\n",
    "df = concat(dfs)\n",
    "tick2 = time.time()\n",
    "mean100tick2 = (tick2 - tick1)*100/df.shape[0]\n",
    "print(\"Time taken: ~{:.8f} seconds per 100 events\".format(mean100tick2))\n",
    "\n",
    "print(f\"Per event parsing is {mean100tick2/mean100tick1:.2f} times slower\")"
   ]
  },
  {
   "cell_type": "markdown",
   "metadata": {},
   "source": [
    "Uff, rougly 50 times slower if reading event by event..."
   ]
  },
  {
   "cell_type": "code",
   "execution_count": 8,
   "metadata": {},
   "outputs": [],
   "source": [
    "with open(\"test.json\", \"w\") as f:\n",
    "    f.write(df.to_json(orient='records', indent=4))"
   ]
  },
  {
   "attachments": {},
   "cell_type": "markdown",
   "metadata": {},
   "source": [
    "### Normalization\n",
    "\n",
    "IP"
   ]
  },
  {
   "cell_type": "code",
   "execution_count": 9,
   "metadata": {},
   "outputs": [],
   "source": [
    "col = 'auditd.summary.object.primary'"
   ]
  },
  {
   "cell_type": "code",
   "execution_count": 13,
   "metadata": {},
   "outputs": [
    {
     "name": "stdout",
     "output_type": "stream",
     "text": [
      "928\n",
      "Time taken: 0.02862644 seconds\n"
     ]
    }
   ],
   "source": [
    "from numpy import where\n",
    "\n",
    "def labelIPs(ldf, \n",
    "              col = 'auditd.summary.object.primary'):\n",
    "    \n",
    "    ldf[col] = where(ldf[col].str.startswith('127.'), \"(lopIP)\", ldf[col])\n",
    "    ldf[col] = where(ldf[col].str.match('169.254.169.254'), \"(imds)\", ldf[col])\n",
    "    ldf[col] = where(ldf[col].str.match(r'(^10\\.)|(^172\\.1[6-9]\\.)|(^172\\.2[0-9]\\.)|(^172\\.3[0-1]\\.)|(^192\\.168\\.)'), \"(prvIP)\", ldf[col])\n",
    "    ldf[col] = where(ldf[col].str.match(r'^[0-9]{1,3}\\.[0-9]{1,3}\\.[0-9]{1,3}\\.[0-9]{1,3}$'), \"(pubIP)\", ldf[col])\n",
    "    ldf[col] = where(ldf[col].str.match(r'^([0-9a-fA-F]{1,4}:){1,7}:'), \"(IPv6)\", ldf[col])\n",
    "    return ldf\n",
    "\n",
    "print(labelIPs(df)[col].isin([\"(lopIP)\", \"(imds)\", \"(prvIP)\", \"(pubIP)\", \"(IPv6)\"]).sum())\n",
    "\n",
    "import time\n",
    "tick1 = time.time()\n",
    "labelIPs(df)[col].value_counts()\n",
    "tick2 = time.time()\n",
    "delta1 = tick2 - tick1\n",
    "print(\"Time taken: {:.8f} seconds\".format(tick2 - tick1))"
   ]
  },
  {
   "cell_type": "code",
   "execution_count": 14,
   "metadata": {},
   "outputs": [
    {
     "name": "stdout",
     "output_type": "stream",
     "text": [
      "928\n",
      "Time taken: 0.05752587 seconds\n"
     ]
    }
   ],
   "source": [
    "def labelIPs(ldf, \n",
    "              col = 'auditd.summary.object.primary'):\n",
    "    \n",
    "    ldf[col] = ldf[col].str.replace(r'127\\.[0-9]{1,3}\\.[0-9]{1,3}\\.[0-9]{1,3}', \"(lopIP)\", regex=True)\n",
    "    ldf[col] = ldf[col].str.replace(r'169\\.254\\.169\\.254', \"(imds)\", regex=True)\n",
    "    ldf[col] = ldf[col].str.replace(r'(^10\\.)|(^172\\.1[6-9]\\.)|(^172\\.2[0-9]\\.)|(^172\\.3[0-1]\\.)|(^192\\.168\\.)', \"(prvIP)\", regex=True)\n",
    "    ldf[col] = ldf[col].str.replace(r'[0-9]{1,3}\\.[0-9]{1,3}\\.[0-9]{1,3}\\.[0-9]{1,3}', \"(pubIP)\", regex=True)\n",
    "    ldf[col] = ldf[col].str.replace(r'([0-9a-fA-F]{1,4}:){1,7}:', \"(IPv6)\", regex=True)\n",
    "    return ldf\n",
    "\n",
    "print(labelIPs(df)[col].isin([\"(lopIP)\", \"(imds)\", \"(prvIP)\", \"(pubIP)\", \"(IPv6)\"]).sum())\n",
    "\n",
    "import time\n",
    "tick1 = time.time()\n",
    "labelIPs(df)[col].value_counts()\n",
    "tick2 = time.time()\n",
    "delta1 = tick2 - tick1\n",
    "print(\"Time taken: {:.8f} seconds\".format(tick2 - tick1))"
   ]
  },
  {
   "cell_type": "code",
   "execution_count": 15,
   "metadata": {},
   "outputs": [
    {
     "data": {
      "text/plain": [
       "928"
      ]
     },
     "execution_count": 15,
     "metadata": {},
     "output_type": "execute_result"
    }
   ],
   "source": [
    "import re\n",
    "def labelIPString(string):\n",
    "    string = re.sub(r'127\\.[0-9]{1,3}\\.[0-9]{1,3}\\.[0-9]{1,3}', \"(lopIP)\", string)\n",
    "    string = re.sub(r'169\\.254\\.169\\.254', \"(imds)\", string)\n",
    "    string = re.sub(r'(^10\\.)|(^172\\.1[6-9]\\.)|(^172\\.2[0-9]\\.)|(^172\\.3[0-1]\\.)|(^192\\.168\\.)', \"(prvIP)\", string)\n",
    "    string = re.sub(r'^[0-9]{1,3}\\.[0-9]{1,3}\\.[0-9]{1,3}\\.[0-9]{1,3}$', \"(pubIP)\", string)\n",
    "    string = re.sub(r'^([0-9a-fA-F]{1,4}:){1,7}:', \"(IPv6)\", string)\n",
    "    return string\n",
    "\n",
    "df[col].apply(labelIPString).isin([\"(lopIP)\", \"(imds)\", \"(prvIP)\", \"(pubIP)\", \"(IPv6)\"]).sum()"
   ]
  },
  {
   "cell_type": "code",
   "execution_count": 16,
   "metadata": {},
   "outputs": [
    {
     "name": "stdout",
     "output_type": "stream",
     "text": [
      "Time taken: 0.05805945 seconds\n",
      "Per event parsing is 1.01 times slower\n"
     ]
    }
   ],
   "source": [
    "import time\n",
    "tick1 = time.time()\n",
    "df[col].apply(labelIPString).value_counts()\n",
    "tick2 = time.time()\n",
    "delta2 = tick2 - tick1\n",
    "print(\"Time taken: {:.8f} seconds\".format(tick2 - tick1))\n",
    "\n",
    "print(f\"Per event parsing is {delta2/delta1:.2f} times slower\")"
   ]
  },
  {
   "attachments": {},
   "cell_type": "markdown",
   "metadata": {},
   "source": [
    "Domains"
   ]
  },
  {
   "cell_type": "code",
   "execution_count": 27,
   "metadata": {},
   "outputs": [
    {
     "name": "stdout",
     "output_type": "stream",
     "text": [
      "String wise operation takes: 0.08603954 seconds\n",
      "Table wise operation takes: -0.75531602 seconds\n",
      "String wise operation is -0.11 times slower\n"
     ]
    }
   ],
   "source": [
    "\n",
    "col='process.args'\n",
    "df = readAndFilterFile(filename, normalizedFields=AUDITD_FIELDS, filterDict={\"rule.sidid\": AUDITD_TYPES})\n",
    "df.fillna(\"(none)\", inplace=True)\n",
    "\n",
    "def labelStringDomain(string,\n",
    "                    domain_regex = r\"\\b([a-zA-Z0-9][a-zA-Z0-9-]{0,61}[a-zA-Z0-9]\\.)+(com|net|cz|io)\\b\",\n",
    "                    placeholder = \"(domain)\"):\n",
    "    return re.sub(domain_regex, placeholder, string)\n",
    "\n",
    "tick1 = time.time()\n",
    "newdf1 = df[col].apply(labelStringDomain)\n",
    "tick2 = time.time()\n",
    "delta1 = tick2 - tick1\n",
    "print(\"String wise operation takes: {:.8f} seconds\".format(delta1))\n",
    "\n",
    "# =======================\n",
    "\n",
    "df = readAndFilterFile(filename, normalizedFields=AUDITD_FIELDS, filterDict={\"rule.sidid\": AUDITD_TYPES})\n",
    "df.fillna(\"(none)\", inplace=True)\n",
    "\n",
    "\n",
    "def labelStringTable(ldf, col,\n",
    "                    domain_regex = r\"([a-zA-Z0-9][a-zA-Z0-9-]{0,61}[a-zA-Z0-9]\\.)+(com|net|cz|io)\\b\",\n",
    "                    placeholder = \"(domain)\"):\n",
    "        ldf[col] = where(ldf[col].str.match(domain_regex), placeholder, ldf[col])\n",
    "        return ldf\n",
    "\n",
    "tick1 = time.time()\n",
    "newdf2 = labelStringTable(df, col)[col]\n",
    "delta2 = tick2 - tick1\n",
    "print(\"Table wise operation takes: {:.8f} seconds\".format(delta2))\n",
    "\n",
    "print(f\"String wise operation is {delta1/delta2:.2f} times slower\")"
   ]
  },
  {
   "cell_type": "code",
   "execution_count": 28,
   "metadata": {},
   "outputs": [
    {
     "data": {
      "text/plain": [
       "0                              grep -qi ImageStatus failed\n",
       "1        timeout 60 ctr --namespace (domain) container ...\n",
       "2                  ctr --namespace (domain) container list\n",
       "3                                                 sleep 10\n",
       "4        /bin/bash /etc/node-problem-detector.d/plugin/...\n",
       "                               ...                        \n",
       "29540                           basename /usr/sbin/service\n",
       "29541                           basename /usr/sbin/service\n",
       "29542        systemctl --quiet is-active multi-user.target\n",
       "29543            systemctl status slave-ha-service.service\n",
       "29544                                               (none)\n",
       "Name: process.args, Length: 29507, dtype: object"
      ]
     },
     "execution_count": 28,
     "metadata": {},
     "output_type": "execute_result"
    }
   ],
   "source": [
    "newdf1"
   ]
  },
  {
   "cell_type": "code",
   "execution_count": null,
   "metadata": {},
   "outputs": [],
   "source": []
  }
 ],
 "metadata": {
  "kernelspec": {
   "display_name": "Python 3.9.13 64-bit (microsoft store)",
   "language": "python",
   "name": "python3"
  },
  "language_info": {
   "codemirror_mode": {
    "name": "ipython",
    "version": 3
   },
   "file_extension": ".py",
   "mimetype": "text/x-python",
   "name": "python",
   "nbconvert_exporter": "python",
   "pygments_lexer": "ipython3",
   "version": "3.9.13"
  },
  "orig_nbformat": 4,
  "vscode": {
   "interpreter": {
    "hash": "4e123ac7eba4d44924a894b1be2fc564282b1d2645e9d64ed33bc5003b6c2a87"
   }
  }
 },
 "nbformat": 4,
 "nbformat_minor": 2
}
