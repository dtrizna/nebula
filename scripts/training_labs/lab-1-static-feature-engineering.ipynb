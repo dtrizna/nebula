{
 "cells": [
  {
   "cell_type": "markdown",
   "metadata": {},
   "source": [
    "# Black Hat USA Training (Early draft)\n",
    "\n",
    "## Lab 1: Static Malware Detection using Machine Learning with Gradient Boosted Decision Trees\n",
    "\n",
    "We will follow a \"Top-Down\" teaching methodology: We will start with higher level concepts familiar to our students in the cybersecurity domain, for instance, by introducing a specific library and demonstrating its use. Then, we delve deeper into the methods and parameters of these applications. Finally, we explore the underlying fundamentals, such as the specific PE format properties or mathematical concepts at the core of these ideas.\n",
    "\n",
    "**NOTE: This is a raw draft that will be populated with more material (especially visual) and explanations, especially, facilitating AI/ML intuition and more gradual familiriaztion with concepts.**\n",
    "\n",
    "Contents:\n",
    "- Downloading AsyncRAT Sample\n",
    "- Machine Learning in Commercial EDRs\n",
    "- Why XGBoost? EMBER\n",
    "- Feature Extraction\n",
    "- Explainability (???)\n",
    "\n",
    "First, install pre-requisites and import necessary libraries:"
   ]
  },
  {
   "cell_type": "code",
   "execution_count": null,
   "metadata": {},
   "outputs": [],
   "source": [
    "%pip install --upgrade pip\n",
    "%pip install git+https://github.com/dtrizna/ember.git py7zr torch requests numpy lightgbm"
   ]
  },
  {
   "cell_type": "code",
   "execution_count": 1,
   "metadata": {},
   "outputs": [],
   "source": [
    "# force reimport of lab_helpers\n",
    "import sys\n",
    "if 'lab_helpers' in sys.modules:\n",
    "    del sys.modules['lab_helpers']\n",
    "\n",
    "from lab_helpers import *"
   ]
  },
  {
   "cell_type": "markdown",
   "metadata": {},
   "source": [
    "## Downloading AsyncRAT Sample\n",
    "\n",
    "AsyncRAT seems to be on the rise according to [Recorded Future Adversary Report](https://www.recordedfuture.com/2023-adversary-infrastructure-report):\n",
    "\n",
    "\n",
    "<img src=\"./img/recorded_future_malware_bargraph.png\" width=\"600\">\n",
    "\n",
    "\n",
    "It is a remote access trojan (RAT) that is written in C# and has been around since 2014, emerging from the QuasaRAT malware strain and was used as a starting point for RevengeRAT and BoratRAT. It is a simple RAT that is easy to use and [has a lot of features](https://www.blackberry.com/us/en/solutions/endpoint-security/ransomware-protection/asyncrat), such as:\n",
    "\n",
    "- Remotely record a target’s screen;\n",
    "- Keylogger;\n",
    "- Import and exec DLLs;\n",
    "- File exfiltration;\n",
    "- Persistence;\n",
    "- Launch botnet-enabled DOS attacks.\n",
    "\n",
    "Let's get one from [vx-underground](https://twitter.com/vxunderground):\n"
   ]
  },
  {
   "cell_type": "code",
   "execution_count": 6,
   "metadata": {},
   "outputs": [
    {
     "data": {
      "text/plain": [
       "b'MZ\\x90\\x00\\x03\\x00\\x00\\x00\\x04\\x00\\x00\\x00\\xff\\xff\\x00\\x00\\xb8\\x00\\x00\\x00'"
      ]
     },
     "execution_count": 6,
     "metadata": {},
     "output_type": "execute_result"
    }
   ],
   "source": [
    "# NOTE: for some reason download from vx-underground is denied by the server \n",
    "# works from browser, but not if using requests.get, user-agent browser mimic does not help\n",
    "vx_link = \"https://samples.vx-underground.org/Samples/Families/AsyncRAT/5e3588e8ddebd61c2bd6dab4b87f601bd6a4857b33eb281cb5059c29cfe62b80.7z\"\n",
    "# using a private hosted copy\n",
    "async_rat_path = \"http://malware-training.us.to/5e3588e8ddebd61c2bd6dab4b87f601bd6a4857b33eb281cb5059c29cfe62b80.7z\"\n",
    "async_rat_bytez = get_encrypted_archive(async_rat_path, password=\"infected\")\n",
    "async_rat_bytez[0:20]"
   ]
  },
  {
   "cell_type": "markdown",
   "metadata": {},
   "source": [
    "## Machine Learning in Commercial EDRs\n",
    "\n",
    "ML/AI components in commercial malware detection products are usually just a part of a multi-modular heuristic.\n",
    "\n",
    "Consider this discussion initiated by malware detection vendor on [Twitter](https://twitter.com/joshua_saxe/status/1550545466072264704) that depicts the complexity of the problem:\n",
    "\n",
    "<img src=\"./img/sophos_concerns.png\" width=\"800\">\n",
    "\n",
    "We will discuss holistic vision in future Labs, but for now let's focus on ML/AI components. \n",
    "\n",
    "How they work?\n",
    "What commercial vendors are using?"
   ]
  },
  {
   "cell_type": "markdown",
   "metadata": {},
   "source": [
    "### Job Description Reconnaissance\n",
    "\n",
    "Well known Red Team methodology can be used to answer these questions, for instance, job/career description recoinessance may yield some insights on what target vendor is using as ML/AI component.\n",
    "\n",
    "Simple Google dork like `<vendor> careers job \"malware\" \"machine learning\"` will yield interesting results:\n",
    "\n",
    "- vendor 1:\n",
    "\n",
    "<img src=\"./img/job1_name.png\" width=\"400\"></br>\n",
    "<img src=\"./img/job1_reqs.png\" width=\"400\">\n",
    "\n",
    "- vendor 2:\n",
    "\n",
    "<img src=\"./img/job2_name.png\" width=\"400\"></br>\n",
    "<img src=\"./img/job2_reqs.png\" width=\"400\">\n",
    "\n",
    "- vendor 3:\n",
    "\n",
    "<img src=\"./img/job3_name.png\" width=\"400\"></br>\n",
    "<img src=\"./img/job3_reqs.png\" width=\"400\">\n"
   ]
  },
  {
   "cell_type": "markdown",
   "metadata": {},
   "source": [
    "### Why XGBoost? EMBER. <a name=\"why-xgboost\"></a>\n",
    "\n",
    "XGBoost implements a gradient boosting decision tree (GBDT) algorithm. As we see malware detectors in production heavily rely on GBDT algorithm, influenced by [EMBER research](https://arxiv.org/abs/1804.04637): they use a gradient boosted decision tree model (LightGBM, similar to XGBoost) with a set of static features extracted from the PE header and byte code. Let's explore what modeling strategies are used in EMBER.\n"
   ]
  },
  {
   "cell_type": "code",
   "execution_count": 8,
   "metadata": {},
   "outputs": [],
   "source": [
    "ember_weights_link = \"https://github.com/dtrizna/quo.vadis/raw/main/modules/sota/ember/parameters/ember_model.txt.7z\"\n",
    "ember_pretrained_weights = get_encrypted_archive(ember_weights_link)"
   ]
  },
  {
   "cell_type": "code",
   "execution_count": 9,
   "metadata": {},
   "outputs": [],
   "source": [
    "import lightgbm as lgb\n",
    "lgbm_model = lgb.Booster(model_str=ember_pretrained_weights.decode(\"utf-8\"))"
   ]
  },
  {
   "cell_type": "code",
   "execution_count": 11,
   "metadata": {},
   "outputs": [
    {
     "name": "stdout",
     "output_type": "stream",
     "text": [
      "[!] Probability malware: 88.82% | File: 5e3588e8ddebd61c2bd6dab4b87f601bd6a4857b33eb281cb5059c29cfe62b80\n",
      "[!] Probability malware:  0.01% | File: calc.exe\n"
     ]
    }
   ],
   "source": [
    "import ember\n",
    "prob = ember.predict_sample(lgbm_model, async_rat_bytez, feature_version=2)\n",
    "\n",
    "hhash = vx_link.split(\"/\")[-1].split(\".\")[0]\n",
    "print(f\"[!] Probability malware: {prob*100:>5.2f}% | File: {hhash}\")\n",
    "\n",
    "if os.path.exists(r\"C:\\windows\\system32\\calc.exe\"):\n",
    "    with open (r\"C:\\windows\\system32\\calc.exe\", \"rb\") as f:\n",
    "        calc_bytez = f.read()\n",
    "    prob = ember.predict_sample(lgbm_model, calc_bytez, feature_version=2)\n",
    "    print(f\"[!] Probability malware: {prob*100:>5.2f}% | File: calc.exe\")"
   ]
  },
  {
   "cell_type": "markdown",
   "metadata": {},
   "source": [
    "## Static Feature Engineering <a name=\"feature\"></a>\n",
    "\n",
    "GBDT is a tabular model, meaning, it requires fixed number of features. Malware samples are not tabular, but an open ended files with variable length, so we need to extract a fixed set of features from malware samples. This process is called as **Feature Engineering**.\n",
    "\n",
    "There are two types of features used for ML modeling of malware: \n",
    "\n",
    "- static,\n",
    "- dynamic.\n",
    "\n",
    "In Section we will focus on static features, and we will discuss dynamic features in a later lab.\n",
    "\n",
    "Static features are extracted from the file itself, without running it. PE file has well defined format:\n",
    "\n",
    "<img src=\"img/PE_Structure.jpg\" width=\"600\">\n",
    "\n",
    "[[Image Source]](https://en.wikipedia.org/wiki/Portable_Executable)\n",
    "\n",
    "It is possible to define features based on PE structure, like header, imports, exports, etc. One of such feature extraction methodologies is EMBER, which is [open sourced and freely available](https://github.com/elastic/ember/blob/master/ember/features.py). It extracts:\n",
    "\n",
    "- PE format specific features:\n",
    "  - Imported and exported functions\n",
    "  - Section information\n",
    "  - Header information\n",
    "- Format agnostic features:\n",
    "  - Byte and entropy Histograms\n",
    "  - String information\n"
   ]
  },
  {
   "cell_type": "code",
   "execution_count": 12,
   "metadata": {},
   "outputs": [
    {
     "name": "stdout",
     "output_type": "stream",
     "text": [
      "Shape of Async RAT feature vector: (2381,)\n",
      "\n",
      "Shape of calc.exe feature vector: (2381,)\n",
      "\n",
      "First 10 feature values of Async RAT:\n",
      "\n",
      "[0.10524162 0.0175666  0.01379335 0.00907949 0.01335176 0.00698284\n",
      " 0.01272708 0.00688591 0.00507288 0.00523444]\n"
     ]
    }
   ],
   "source": [
    "from ember.features import *\n",
    "\n",
    "extractor = PEFeatureExtractor()\n",
    "\n",
    "features_async_rat = extractor.feature_vector(async_rat_bytez)\n",
    "features_calc = extractor.feature_vector(calc_bytez)\n",
    "\n",
    "print(f\"Shape of Async RAT feature vector: {features_async_rat.shape}\\n\")\n",
    "print(f\"Shape of calc.exe feature vector: {features_calc.shape}\\n\")\n",
    "\n",
    "print(\"First 10 feature values of Async RAT:\\n\")\n",
    "print(features_async_rat[0:10])"
   ]
  },
  {
   "cell_type": "markdown",
   "metadata": {},
   "source": [
    "This vector what actually model expects as an input, providing a probability of a sample being malicious:"
   ]
  },
  {
   "cell_type": "code",
   "execution_count": 13,
   "metadata": {},
   "outputs": [
    {
     "data": {
      "text/plain": [
       "array([0.88821438])"
      ]
     },
     "execution_count": 13,
     "metadata": {},
     "output_type": "execute_result"
    }
   ],
   "source": [
    "lgbm_model.predict(features_async_rat.reshape(1, -1))"
   ]
  },
  {
   "cell_type": "markdown",
   "metadata": {},
   "source": [
    "### Detailed Analysis of EMBER Features <a name=\"ember-features\"></a>"
   ]
  },
  {
   "cell_type": "markdown",
   "metadata": {},
   "source": [
    "What exactly happens under the hood?\n",
    "\n",
    "`PEFeatureExtractor()` loads following features:"
   ]
  },
  {
   "cell_type": "code",
   "execution_count": 14,
   "metadata": {},
   "outputs": [],
   "source": [
    "features = {\n",
    "    'ByteHistogram': ByteHistogram(),\n",
    "    'ByteEntropyHistogram': ByteEntropyHistogram(),\n",
    "    'StringExtractor': StringExtractor(),\n",
    "    'GeneralFileInfo': GeneralFileInfo(),\n",
    "    'HeaderFileInfo': HeaderFileInfo(),\n",
    "    'SectionInfo': SectionInfo(),\n",
    "    'ImportsInfo': ImportsInfo(),\n",
    "    'ExportsInfo': ExportsInfo()\n",
    "}"
   ]
  },
  {
   "cell_type": "markdown",
   "metadata": {},
   "source": [
    "Let's take a look what some of them represent:"
   ]
  },
  {
   "cell_type": "code",
   "execution_count": 39,
   "metadata": {},
   "outputs": [
    {
     "data": {
      "text/plain": [
       "{'coff': {'timestamp': 1589088291,\n",
       "  'machine': 'I386',\n",
       "  'characteristics': ['CHARA_32BIT_MACHINE', 'EXECUTABLE_IMAGE']},\n",
       " 'optional': {'subsystem': 'WINDOWS_GUI',\n",
       "  'dll_characteristics': ['DYNAMIC_BASE',\n",
       "   'NX_COMPAT',\n",
       "   'TERMINAL_SERVER_AWARE',\n",
       "   'NO_SEH'],\n",
       "  'magic': 'PE32',\n",
       "  'major_image_version': 0,\n",
       "  'minor_image_version': 0,\n",
       "  'major_linker_version': 8,\n",
       "  'minor_linker_version': 0,\n",
       "  'major_operating_system_version': 4,\n",
       "  'minor_operating_system_version': 0,\n",
       "  'major_subsystem_version': 4,\n",
       "  'minor_subsystem_version': 0,\n",
       "  'sizeof_code': 43008,\n",
       "  'sizeof_headers': 512,\n",
       "  'sizeof_heap_commit': 4096}}"
      ]
     },
     "execution_count": 39,
     "metadata": {},
     "output_type": "execute_result"
    }
   ],
   "source": [
    "import lief\n",
    "\n",
    "lief_binary = lief.PE.parse(list(async_rat_bytez))\n",
    "\n",
    "HeaderFileInfo().raw_features(async_rat_bytez, lief_binary)"
   ]
  },
  {
   "cell_type": "code",
   "execution_count": 40,
   "metadata": {},
   "outputs": [
    {
     "data": {
      "text/plain": [
       "{'mscoree.dll': ['_CorExeMain']}"
      ]
     },
     "execution_count": 40,
     "metadata": {},
     "output_type": "execute_result"
    }
   ],
   "source": [
    "ImportsInfo().raw_features(async_rat_bytez, lief_binary)"
   ]
  },
  {
   "cell_type": "markdown",
   "metadata": {},
   "source": [
    "Let's open specimen in PE-bear and observe how this correlates with sample in static malware analysis tools:\n",
    "\n",
    "- Imports:\n",
    "\n",
    "<img src=\"./img/async_rat_imports.png\" width=\"500\">"
   ]
  },
  {
   "cell_type": "code",
   "execution_count": 41,
   "metadata": {},
   "outputs": [
    {
     "data": {
      "text/plain": [
       "{'entry': '.text',\n",
       " 'sections': [{'name': '.text',\n",
       "   'size': 43008,\n",
       "   'entropy': 5.533967866846488,\n",
       "   'vsize': 42916,\n",
       "   'props': ['CNT_CODE', 'MEM_EXECUTE', 'MEM_READ']},\n",
       "  {'name': '.rsrc',\n",
       "   'size': 2048,\n",
       "   'entropy': 4.88653168864938,\n",
       "   'vsize': 2047,\n",
       "   'props': ['CNT_INITIALIZED_DATA', 'MEM_READ']},\n",
       "  {'name': '.reloc',\n",
       "   'size': 512,\n",
       "   'entropy': 1.584962500721156,\n",
       "   'vsize': 12,\n",
       "   'props': ['CNT_INITIALIZED_DATA', 'MEM_DISCARDABLE', 'MEM_READ']}]}"
      ]
     },
     "execution_count": 41,
     "metadata": {},
     "output_type": "execute_result"
    }
   ],
   "source": [
    "SectionInfo().raw_features(async_rat_bytez, lief_binary)"
   ]
  },
  {
   "cell_type": "markdown",
   "metadata": {},
   "source": [
    "I like the Section information more form PEStudio, so let's open the same sample there and observe section information:\n",
    "\n",
    "  - `.text` with size of 43008 and entropy ~`5.53`;\n",
    "  - `.rsrc` with size of 2048 and entropy ~`4.49`;\n",
    "  - `.reloc` with size of 512 and low entropy in both cases.\n",
    "\n",
    "<img src=\"./img/async_rat_sections.png\" width=\"600\">\n"
   ]
  },
  {
   "cell_type": "code",
   "execution_count": 42,
   "metadata": {},
   "outputs": [
    {
     "data": {
      "text/plain": [
       "{'numstrings': 553,\n",
       " 'avlength': 14.985533453887884,\n",
       " 'printables': 8287,\n",
       " 'entropy': 5.218674659729004,\n",
       " 'paths': 0,\n",
       " 'urls': 1,\n",
       " 'registry': 0,\n",
       " 'MZ': 1}"
      ]
     },
     "execution_count": 42,
     "metadata": {},
     "output_type": "execute_result"
    }
   ],
   "source": [
    "string_info = StringExtractor().raw_features(async_rat_bytez, lief_binary)\n",
    "del string_info['printabledist'] # removing verbose component\n",
    "string_info"
   ]
  },
  {
   "cell_type": "markdown",
   "metadata": {},
   "source": [
    "This way it is possible to see what information EMBER keeps from the PE structure, and which is irrelevant for the model.\n",
    "\n",
    "These allows to infer what adversary might be interested to modify to create an adversarial example.\n",
    "\n",
    "# Explainability"
   ]
  },
  {
   "cell_type": "code",
   "execution_count": 173,
   "metadata": {},
   "outputs": [
    {
     "name": "stderr",
     "output_type": "stream",
     "text": [
      "C:\\Users\\dtrizna\\AppData\\Local\\Packages\\PythonSoftwareFoundation.Python.3.9_qbz5n2kfra8p0\\LocalCache\\local-packages\\Python39\\site-packages\\shap\\utils\\_clustering.py:35: NumbaDeprecationWarning: \u001b[1mThe 'nopython' keyword argument was not supplied to the 'numba.jit' decorator. The implicit default value for this argument is currently False, but it will be changed to True in Numba 0.59.0. See https://numba.readthedocs.io/en/stable/reference/deprecation.html#deprecation-of-object-mode-fall-back-behaviour-when-using-jit for details.\u001b[0m\n",
      "  def _pt_shuffle_rec(i, indexes, index_mask, partition_tree, M, pos):\n",
      "C:\\Users\\dtrizna\\AppData\\Local\\Packages\\PythonSoftwareFoundation.Python.3.9_qbz5n2kfra8p0\\LocalCache\\local-packages\\Python39\\site-packages\\shap\\utils\\_clustering.py:54: NumbaDeprecationWarning: \u001b[1mThe 'nopython' keyword argument was not supplied to the 'numba.jit' decorator. The implicit default value for this argument is currently False, but it will be changed to True in Numba 0.59.0. See https://numba.readthedocs.io/en/stable/reference/deprecation.html#deprecation-of-object-mode-fall-back-behaviour-when-using-jit for details.\u001b[0m\n",
      "  def delta_minimization_order(all_masks, max_swap_size=100, num_passes=2):\n",
      "C:\\Users\\dtrizna\\AppData\\Local\\Packages\\PythonSoftwareFoundation.Python.3.9_qbz5n2kfra8p0\\LocalCache\\local-packages\\Python39\\site-packages\\shap\\utils\\_clustering.py:63: NumbaDeprecationWarning: \u001b[1mThe 'nopython' keyword argument was not supplied to the 'numba.jit' decorator. The implicit default value for this argument is currently False, but it will be changed to True in Numba 0.59.0. See https://numba.readthedocs.io/en/stable/reference/deprecation.html#deprecation-of-object-mode-fall-back-behaviour-when-using-jit for details.\u001b[0m\n",
      "  def _reverse_window(order, start, length):\n",
      "C:\\Users\\dtrizna\\AppData\\Local\\Packages\\PythonSoftwareFoundation.Python.3.9_qbz5n2kfra8p0\\LocalCache\\local-packages\\Python39\\site-packages\\shap\\utils\\_clustering.py:69: NumbaDeprecationWarning: \u001b[1mThe 'nopython' keyword argument was not supplied to the 'numba.jit' decorator. The implicit default value for this argument is currently False, but it will be changed to True in Numba 0.59.0. See https://numba.readthedocs.io/en/stable/reference/deprecation.html#deprecation-of-object-mode-fall-back-behaviour-when-using-jit for details.\u001b[0m\n",
      "  def _reverse_window_score_gain(masks, order, start, length):\n",
      "C:\\Users\\dtrizna\\AppData\\Local\\Packages\\PythonSoftwareFoundation.Python.3.9_qbz5n2kfra8p0\\LocalCache\\local-packages\\Python39\\site-packages\\shap\\utils\\_clustering.py:77: NumbaDeprecationWarning: \u001b[1mThe 'nopython' keyword argument was not supplied to the 'numba.jit' decorator. The implicit default value for this argument is currently False, but it will be changed to True in Numba 0.59.0. See https://numba.readthedocs.io/en/stable/reference/deprecation.html#deprecation-of-object-mode-fall-back-behaviour-when-using-jit for details.\u001b[0m\n",
      "  def _mask_delta_score(m1, m2):\n",
      "C:\\Users\\dtrizna\\AppData\\Local\\Packages\\PythonSoftwareFoundation.Python.3.9_qbz5n2kfra8p0\\LocalCache\\local-packages\\Python39\\site-packages\\shap\\links.py:5: NumbaDeprecationWarning: \u001b[1mThe 'nopython' keyword argument was not supplied to the 'numba.jit' decorator. The implicit default value for this argument is currently False, but it will be changed to True in Numba 0.59.0. See https://numba.readthedocs.io/en/stable/reference/deprecation.html#deprecation-of-object-mode-fall-back-behaviour-when-using-jit for details.\u001b[0m\n",
      "  def identity(x):\n",
      "C:\\Users\\dtrizna\\AppData\\Local\\Packages\\PythonSoftwareFoundation.Python.3.9_qbz5n2kfra8p0\\LocalCache\\local-packages\\Python39\\site-packages\\shap\\links.py:10: NumbaDeprecationWarning: \u001b[1mThe 'nopython' keyword argument was not supplied to the 'numba.jit' decorator. The implicit default value for this argument is currently False, but it will be changed to True in Numba 0.59.0. See https://numba.readthedocs.io/en/stable/reference/deprecation.html#deprecation-of-object-mode-fall-back-behaviour-when-using-jit for details.\u001b[0m\n",
      "  def _identity_inverse(x):\n",
      "C:\\Users\\dtrizna\\AppData\\Local\\Packages\\PythonSoftwareFoundation.Python.3.9_qbz5n2kfra8p0\\LocalCache\\local-packages\\Python39\\site-packages\\shap\\links.py:15: NumbaDeprecationWarning: \u001b[1mThe 'nopython' keyword argument was not supplied to the 'numba.jit' decorator. The implicit default value for this argument is currently False, but it will be changed to True in Numba 0.59.0. See https://numba.readthedocs.io/en/stable/reference/deprecation.html#deprecation-of-object-mode-fall-back-behaviour-when-using-jit for details.\u001b[0m\n",
      "  def logit(x):\n",
      "C:\\Users\\dtrizna\\AppData\\Local\\Packages\\PythonSoftwareFoundation.Python.3.9_qbz5n2kfra8p0\\LocalCache\\local-packages\\Python39\\site-packages\\shap\\links.py:20: NumbaDeprecationWarning: \u001b[1mThe 'nopython' keyword argument was not supplied to the 'numba.jit' decorator. The implicit default value for this argument is currently False, but it will be changed to True in Numba 0.59.0. See https://numba.readthedocs.io/en/stable/reference/deprecation.html#deprecation-of-object-mode-fall-back-behaviour-when-using-jit for details.\u001b[0m\n",
      "  def _logit_inverse(x):\n",
      "C:\\Users\\dtrizna\\AppData\\Local\\Packages\\PythonSoftwareFoundation.Python.3.9_qbz5n2kfra8p0\\LocalCache\\local-packages\\Python39\\site-packages\\shap\\utils\\_masked_model.py:363: NumbaDeprecationWarning: \u001b[1mThe 'nopython' keyword argument was not supplied to the 'numba.jit' decorator. The implicit default value for this argument is currently False, but it will be changed to True in Numba 0.59.0. See https://numba.readthedocs.io/en/stable/reference/deprecation.html#deprecation-of-object-mode-fall-back-behaviour-when-using-jit for details.\u001b[0m\n",
      "  def _build_fixed_single_output(averaged_outs, last_outs, outputs, batch_positions, varying_rows, num_varying_rows, link, linearizing_weights):\n",
      "C:\\Users\\dtrizna\\AppData\\Local\\Packages\\PythonSoftwareFoundation.Python.3.9_qbz5n2kfra8p0\\LocalCache\\local-packages\\Python39\\site-packages\\shap\\utils\\_masked_model.py:385: NumbaDeprecationWarning: \u001b[1mThe 'nopython' keyword argument was not supplied to the 'numba.jit' decorator. The implicit default value for this argument is currently False, but it will be changed to True in Numba 0.59.0. See https://numba.readthedocs.io/en/stable/reference/deprecation.html#deprecation-of-object-mode-fall-back-behaviour-when-using-jit for details.\u001b[0m\n",
      "  def _build_fixed_multi_output(averaged_outs, last_outs, outputs, batch_positions, varying_rows, num_varying_rows, link, linearizing_weights):\n",
      "C:\\Users\\dtrizna\\AppData\\Local\\Packages\\PythonSoftwareFoundation.Python.3.9_qbz5n2kfra8p0\\LocalCache\\local-packages\\Python39\\site-packages\\shap\\utils\\_masked_model.py:428: NumbaDeprecationWarning: \u001b[1mThe 'nopython' keyword argument was not supplied to the 'numba.jit' decorator. The implicit default value for this argument is currently False, but it will be changed to True in Numba 0.59.0. See https://numba.readthedocs.io/en/stable/reference/deprecation.html#deprecation-of-object-mode-fall-back-behaviour-when-using-jit for details.\u001b[0m\n",
      "  def _init_masks(cluster_matrix, M, indices_row_pos, indptr):\n",
      "C:\\Users\\dtrizna\\AppData\\Local\\Packages\\PythonSoftwareFoundation.Python.3.9_qbz5n2kfra8p0\\LocalCache\\local-packages\\Python39\\site-packages\\shap\\utils\\_masked_model.py:439: NumbaDeprecationWarning: \u001b[1mThe 'nopython' keyword argument was not supplied to the 'numba.jit' decorator. The implicit default value for this argument is currently False, but it will be changed to True in Numba 0.59.0. See https://numba.readthedocs.io/en/stable/reference/deprecation.html#deprecation-of-object-mode-fall-back-behaviour-when-using-jit for details.\u001b[0m\n",
      "  def _rec_fill_masks(cluster_matrix, indices_row_pos, indptr, indices, M, ind):\n",
      "C:\\Users\\dtrizna\\AppData\\Local\\Packages\\PythonSoftwareFoundation.Python.3.9_qbz5n2kfra8p0\\LocalCache\\local-packages\\Python39\\site-packages\\shap\\maskers\\_tabular.py:186: NumbaDeprecationWarning: \u001b[1mThe 'nopython' keyword argument was not supplied to the 'numba.jit' decorator. The implicit default value for this argument is currently False, but it will be changed to True in Numba 0.59.0. See https://numba.readthedocs.io/en/stable/reference/deprecation.html#deprecation-of-object-mode-fall-back-behaviour-when-using-jit for details.\u001b[0m\n",
      "  def _single_delta_mask(dind, masked_inputs, last_mask, data, x, noop_code):\n",
      "C:\\Users\\dtrizna\\AppData\\Local\\Packages\\PythonSoftwareFoundation.Python.3.9_qbz5n2kfra8p0\\LocalCache\\local-packages\\Python39\\site-packages\\shap\\maskers\\_tabular.py:197: NumbaDeprecationWarning: \u001b[1mThe 'nopython' keyword argument was not supplied to the 'numba.jit' decorator. The implicit default value for this argument is currently False, but it will be changed to True in Numba 0.59.0. See https://numba.readthedocs.io/en/stable/reference/deprecation.html#deprecation-of-object-mode-fall-back-behaviour-when-using-jit for details.\u001b[0m\n",
      "  def _delta_masking(masks, x, curr_delta_inds, varying_rows_out,\n",
      "C:\\Users\\dtrizna\\AppData\\Local\\Packages\\PythonSoftwareFoundation.Python.3.9_qbz5n2kfra8p0\\LocalCache\\local-packages\\Python39\\site-packages\\shap\\maskers\\_image.py:175: NumbaDeprecationWarning: \u001b[1mThe 'nopython' keyword argument was not supplied to the 'numba.jit' decorator. The implicit default value for this argument is currently False, but it will be changed to True in Numba 0.59.0. See https://numba.readthedocs.io/en/stable/reference/deprecation.html#deprecation-of-object-mode-fall-back-behaviour-when-using-jit for details.\u001b[0m\n",
      "  def _jit_build_partition_tree(xmin, xmax, ymin, ymax, zmin, zmax, total_ywidth, total_zwidth, M, clustering, q):\n",
      "C:\\Users\\dtrizna\\AppData\\Local\\Packages\\PythonSoftwareFoundation.Python.3.9_qbz5n2kfra8p0\\LocalCache\\local-packages\\Python39\\site-packages\\shap\\explainers\\_partition.py:676: NumbaDeprecationWarning: \u001b[1mThe 'nopython' keyword argument was not supplied to the 'numba.jit' decorator. The implicit default value for this argument is currently False, but it will be changed to True in Numba 0.59.0. See https://numba.readthedocs.io/en/stable/reference/deprecation.html#deprecation-of-object-mode-fall-back-behaviour-when-using-jit for details.\u001b[0m\n",
      "  def lower_credit(i, value, M, values, clustering):\n",
      "\u001b[1mThe 'nopython' keyword argument was not supplied to the 'numba.jit' decorator. The implicit default value for this argument is currently False, but it will be changed to True in Numba 0.59.0. See https://numba.readthedocs.io/en/stable/reference/deprecation.html#deprecation-of-object-mode-fall-back-behaviour-when-using-jit for details.\u001b[0m\n",
      "\u001b[1mThe 'nopython' keyword argument was not supplied to the 'numba.jit' decorator. The implicit default value for this argument is currently False, but it will be changed to True in Numba 0.59.0. See https://numba.readthedocs.io/en/stable/reference/deprecation.html#deprecation-of-object-mode-fall-back-behaviour-when-using-jit for details.\u001b[0m\n"
     ]
    }
   ],
   "source": [
    "import shap\n",
    "\n",
    "explainer = shap.Explainer(lgbm_model)\n",
    "shap_values = explainer(features_async_rat.reshape(1, -1))"
   ]
  }
 ],
 "metadata": {
  "kernelspec": {
   "display_name": "Python 3",
   "language": "python",
   "name": "python3"
  },
  "language_info": {
   "codemirror_mode": {
    "name": "ipython",
    "version": 3
   },
   "file_extension": ".py",
   "mimetype": "text/x-python",
   "name": "python",
   "nbconvert_exporter": "python",
   "pygments_lexer": "ipython3",
   "version": "3.9.13"
  }
 },
 "nbformat": 4,
 "nbformat_minor": 2
}
