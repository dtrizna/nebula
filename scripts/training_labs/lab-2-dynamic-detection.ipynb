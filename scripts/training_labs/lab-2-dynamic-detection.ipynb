{
 "cells": [
  {
   "cell_type": "markdown",
   "metadata": {},
   "source": [
    "# Black Hat USA Training (Early draft)\n",
    "\n",
    "## Lab 2: Dynamic Malware Detection using Machine Learning with PyTorch\n",
    "\n",
    "We will follow a \"Top-Down\" teaching methodology: We will start with higher level concepts familiar to our students in the cybersecurity domain, for instance, by introducing a specific library and demonstrating its use. Then, we delve deeper into the methods and parameters of these applications. Finally, we explore the underlying fundamentals, such as the specific PE format properties or mathematical concepts at the core of these ideas.\n",
    "\n",
    "**NOTE: This is a raw draft that will be populated with more material (especially visual) and explanations, especially, facilitating more gradual AI/ML concept introduction.**\n",
    "\n",
    "Contents:\n",
    "\n",
    "- Download PlugX Sample\n",
    "- Machine Learning with Dynamic Malware Analysis \n",
    "- Speakeasy Emulator\n",
    "- PyTorch Introduction"
   ]
  },
  {
   "cell_type": "markdown",
   "metadata": {},
   "source": [
    "## Download PlugX Sample"
   ]
  },
  {
   "cell_type": "code",
   "execution_count": 1,
   "metadata": {},
   "outputs": [
    {
     "name": "stdout",
     "output_type": "stream",
     "text": [
      "b'MZP\\x00\\x02\\x00\\x00\\x00\\x04\\x00\\x0f\\x00\\xff\\xff\\x00\\x00\\xb8\\x00\\x00\\x00'\n"
     ]
    }
   ],
   "source": [
    "import requests\n",
    "import py7zr\n",
    "import os\n",
    "\n",
    "def download_archive(link: str) -> bytes:\n",
    "    assert link.endswith(\".7z\"), \"link must end with .7z\"\n",
    "    archive_name = link.split(\"/\")[-1]\n",
    "    archive_name_no_ext = archive_name.replace(\".7z\", \"\")\n",
    "    archive = requests.get(link).content\n",
    "    with open(archive_name, \"wb\") as f:\n",
    "        f.write(archive)\n",
    "    with py7zr.SevenZipFile(archive_name, \"r\", password='infected') as archive:\n",
    "        content = archive.read(targets=archive_name_no_ext)[archive_name_no_ext].read()\n",
    "    os.remove(archive_name)\n",
    "    return content\n",
    "\n",
    "vx_link = \"https://samples.vx-underground.org/Samples/Families/PlugX/0D219AA54B1D417DA61BD4AED5EEB53D6CBA91B3287D53186B21FED450248215.7z\"\n",
    "plugx_rat_bytez = download_archive(vx_link)\n",
    "print(plugx_rat_bytez[0:20])"
   ]
  },
  {
   "cell_type": "markdown",
   "metadata": {},
   "source": [
    "## Machine Learning Model with Dynamic Malware Analysis "
   ]
  },
  {
   "cell_type": "code",
   "execution_count": 2,
   "metadata": {},
   "outputs": [
    {
     "name": "stdout",
     "output_type": "stream",
     "text": [
      "Collecting git+https://github.com/dtrizna/nebula\n",
      "  Cloning https://github.com/dtrizna/nebula to c:\\users\\dtrizna\\appdata\\local\\temp\\pip-req-build-bg_jknhb\n",
      "  Resolved https://github.com/dtrizna/nebula to commit e06d1a3164f8dc2df04841351c9e1f0cd6a74549\n",
      "  Preparing metadata (setup.py): started\n",
      "  Preparing metadata (setup.py): finished with status 'done'\n",
      "Requirement already satisfied: speakeasy-emulator>=1.5.11 in c:\\users\\dtrizna\\appdata\\local\\packages\\pythonsoftwarefoundation.python.3.9_qbz5n2kfra8p0\\localcache\\local-packages\\python39\\site-packages (from nebula==0.0.5) (1.5.11)\n",
      "Requirement already satisfied: torch>=1.13.1 in c:\\users\\dtrizna\\appdata\\local\\packages\\pythonsoftwarefoundation.python.3.9_qbz5n2kfra8p0\\localcache\\local-packages\\python39\\site-packages (from nebula==0.0.5) (2.0.1+cu117)\n",
      "Requirement already satisfied: pandas>=1.4.2 in c:\\users\\dtrizna\\appdata\\local\\packages\\pythonsoftwarefoundation.python.3.9_qbz5n2kfra8p0\\localcache\\local-packages\\python39\\site-packages (from nebula==0.0.5) (1.4.2)\n",
      "Requirement already satisfied: numpy>=1.22.4 in c:\\users\\dtrizna\\appdata\\local\\packages\\pythonsoftwarefoundation.python.3.9_qbz5n2kfra8p0\\localcache\\local-packages\\python39\\site-packages (from nebula==0.0.5) (1.24.3)\n",
      "Requirement already satisfied: lief==0.12.3 in c:\\users\\dtrizna\\appdata\\local\\packages\\pythonsoftwarefoundation.python.3.9_qbz5n2kfra8p0\\localcache\\local-packages\\python39\\site-packages (from nebula==0.0.5) (0.12.3)\n",
      "Requirement already satisfied: tqdm>=4.64.0 in c:\\users\\dtrizna\\appdata\\local\\packages\\pythonsoftwarefoundation.python.3.9_qbz5n2kfra8p0\\localcache\\local-packages\\python39\\site-packages (from nebula==0.0.5) (4.64.0)\n",
      "Requirement already satisfied: nltk>=3.7 in c:\\users\\dtrizna\\appdata\\local\\packages\\pythonsoftwarefoundation.python.3.9_qbz5n2kfra8p0\\localcache\\local-packages\\python39\\site-packages (from nebula==0.0.5) (3.7)\n",
      "Requirement already satisfied: matplotlib>=3.5.2 in c:\\users\\dtrizna\\appdata\\local\\packages\\pythonsoftwarefoundation.python.3.9_qbz5n2kfra8p0\\localcache\\local-packages\\python39\\site-packages (from nebula==0.0.5) (3.5.2)\n",
      "Requirement already satisfied: seaborn>=0.11.2 in c:\\users\\dtrizna\\appdata\\local\\packages\\pythonsoftwarefoundation.python.3.9_qbz5n2kfra8p0\\localcache\\local-packages\\python39\\site-packages (from nebula==0.0.5) (0.11.2)\n",
      "Requirement already satisfied: scikit-learn>=1.1.1 in c:\\users\\dtrizna\\appdata\\local\\packages\\pythonsoftwarefoundation.python.3.9_qbz5n2kfra8p0\\localcache\\local-packages\\python39\\site-packages (from nebula==0.0.5) (1.1.1)\n",
      "Requirement already satisfied: sentencepiece in c:\\users\\dtrizna\\appdata\\local\\packages\\pythonsoftwarefoundation.python.3.9_qbz5n2kfra8p0\\localcache\\local-packages\\python39\\site-packages (from nebula==0.0.5) (0.1.97)\n",
      "Requirement already satisfied: orjson in c:\\users\\dtrizna\\appdata\\local\\packages\\pythonsoftwarefoundation.python.3.9_qbz5n2kfra8p0\\localcache\\local-packages\\python39\\site-packages (from nebula==0.0.5) (3.8.1)\n",
      "Requirement already satisfied: shap in c:\\users\\dtrizna\\appdata\\local\\packages\\pythonsoftwarefoundation.python.3.9_qbz5n2kfra8p0\\localcache\\local-packages\\python39\\site-packages (from nebula==0.0.5) (0.41.0)\n",
      "Requirement already satisfied: cycler>=0.10 in c:\\users\\dtrizna\\appdata\\local\\packages\\pythonsoftwarefoundation.python.3.9_qbz5n2kfra8p0\\localcache\\local-packages\\python39\\site-packages (from matplotlib>=3.5.2->nebula==0.0.5) (0.11.0)\n",
      "Requirement already satisfied: fonttools>=4.22.0 in c:\\users\\dtrizna\\appdata\\local\\packages\\pythonsoftwarefoundation.python.3.9_qbz5n2kfra8p0\\localcache\\local-packages\\python39\\site-packages (from matplotlib>=3.5.2->nebula==0.0.5) (4.33.3)\n",
      "Requirement already satisfied: kiwisolver>=1.0.1 in c:\\users\\dtrizna\\appdata\\local\\packages\\pythonsoftwarefoundation.python.3.9_qbz5n2kfra8p0\\localcache\\local-packages\\python39\\site-packages (from matplotlib>=3.5.2->nebula==0.0.5) (1.4.3)\n",
      "Requirement already satisfied: packaging>=20.0 in c:\\users\\dtrizna\\appdata\\local\\packages\\pythonsoftwarefoundation.python.3.9_qbz5n2kfra8p0\\localcache\\local-packages\\python39\\site-packages (from matplotlib>=3.5.2->nebula==0.0.5) (23.1)\n",
      "Requirement already satisfied: pillow>=6.2.0 in c:\\users\\dtrizna\\appdata\\local\\packages\\pythonsoftwarefoundation.python.3.9_qbz5n2kfra8p0\\localcache\\local-packages\\python39\\site-packages (from matplotlib>=3.5.2->nebula==0.0.5) (9.1.1)\n",
      "Requirement already satisfied: pyparsing>=2.2.1 in c:\\users\\dtrizna\\appdata\\local\\packages\\pythonsoftwarefoundation.python.3.9_qbz5n2kfra8p0\\localcache\\local-packages\\python39\\site-packages (from matplotlib>=3.5.2->nebula==0.0.5) (2.4.7)\n",
      "Requirement already satisfied: python-dateutil>=2.7 in c:\\users\\dtrizna\\appdata\\local\\packages\\pythonsoftwarefoundation.python.3.9_qbz5n2kfra8p0\\localcache\\local-packages\\python39\\site-packages (from matplotlib>=3.5.2->nebula==0.0.5) (2.8.2)\n",
      "Requirement already satisfied: click in c:\\users\\dtrizna\\appdata\\local\\packages\\pythonsoftwarefoundation.python.3.9_qbz5n2kfra8p0\\localcache\\local-packages\\python39\\site-packages (from nltk>=3.7->nebula==0.0.5) (8.1.3)\n",
      "Requirement already satisfied: joblib in c:\\users\\dtrizna\\appdata\\local\\packages\\pythonsoftwarefoundation.python.3.9_qbz5n2kfra8p0\\localcache\\local-packages\\python39\\site-packages (from nltk>=3.7->nebula==0.0.5) (1.1.0)\n",
      "Requirement already satisfied: regex>=2021.8.3 in c:\\users\\dtrizna\\appdata\\local\\packages\\pythonsoftwarefoundation.python.3.9_qbz5n2kfra8p0\\localcache\\local-packages\\python39\\site-packages (from nltk>=3.7->nebula==0.0.5) (2022.9.11)\n",
      "Requirement already satisfied: pytz>=2020.1 in c:\\users\\dtrizna\\appdata\\local\\packages\\pythonsoftwarefoundation.python.3.9_qbz5n2kfra8p0\\localcache\\local-packages\\python39\\site-packages (from pandas>=1.4.2->nebula==0.0.5) (2023.3)\n",
      "Requirement already satisfied: scipy>=1.3.2 in c:\\users\\dtrizna\\appdata\\local\\packages\\pythonsoftwarefoundation.python.3.9_qbz5n2kfra8p0\\localcache\\local-packages\\python39\\site-packages (from scikit-learn>=1.1.1->nebula==0.0.5) (1.8.1)\n",
      "Requirement already satisfied: threadpoolctl>=2.0.0 in c:\\users\\dtrizna\\appdata\\local\\packages\\pythonsoftwarefoundation.python.3.9_qbz5n2kfra8p0\\localcache\\local-packages\\python39\\site-packages (from scikit-learn>=1.1.1->nebula==0.0.5) (3.1.0)\n",
      "Requirement already satisfied: pefile in c:\\users\\dtrizna\\appdata\\local\\packages\\pythonsoftwarefoundation.python.3.9_qbz5n2kfra8p0\\localcache\\local-packages\\python39\\site-packages (from speakeasy-emulator>=1.5.11->nebula==0.0.5) (2022.5.30)\n",
      "Requirement already satisfied: capstone in c:\\users\\dtrizna\\appdata\\local\\packages\\pythonsoftwarefoundation.python.3.9_qbz5n2kfra8p0\\localcache\\local-packages\\python39\\site-packages (from speakeasy-emulator>=1.5.11->nebula==0.0.5) (4.0.2)\n",
      "Requirement already satisfied: lznt1 in c:\\users\\dtrizna\\appdata\\local\\packages\\pythonsoftwarefoundation.python.3.9_qbz5n2kfra8p0\\localcache\\local-packages\\python39\\site-packages (from speakeasy-emulator>=1.5.11->nebula==0.0.5) (0.2)\n",
      "Requirement already satisfied: unicorn==1.0.2 in c:\\users\\dtrizna\\appdata\\local\\packages\\pythonsoftwarefoundation.python.3.9_qbz5n2kfra8p0\\localcache\\local-packages\\python39\\site-packages (from speakeasy-emulator>=1.5.11->nebula==0.0.5) (1.0.2)\n",
      "Requirement already satisfied: jsonschema in c:\\users\\dtrizna\\appdata\\local\\packages\\pythonsoftwarefoundation.python.3.9_qbz5n2kfra8p0\\localcache\\local-packages\\python39\\site-packages (from speakeasy-emulator>=1.5.11->nebula==0.0.5) (4.6.0)\n",
      "Requirement already satisfied: pycryptodome in c:\\users\\dtrizna\\appdata\\local\\packages\\pythonsoftwarefoundation.python.3.9_qbz5n2kfra8p0\\localcache\\local-packages\\python39\\site-packages (from speakeasy-emulator>=1.5.11->nebula==0.0.5) (3.15.0)\n",
      "Requirement already satisfied: filelock in c:\\users\\dtrizna\\appdata\\local\\packages\\pythonsoftwarefoundation.python.3.9_qbz5n2kfra8p0\\localcache\\local-packages\\python39\\site-packages (from torch>=1.13.1->nebula==0.0.5) (3.8.2)\n",
      "Requirement already satisfied: typing-extensions in c:\\users\\dtrizna\\appdata\\local\\packages\\pythonsoftwarefoundation.python.3.9_qbz5n2kfra8p0\\localcache\\local-packages\\python39\\site-packages (from torch>=1.13.1->nebula==0.0.5) (4.7.1)\n",
      "Requirement already satisfied: sympy in c:\\users\\dtrizna\\appdata\\local\\packages\\pythonsoftwarefoundation.python.3.9_qbz5n2kfra8p0\\localcache\\local-packages\\python39\\site-packages (from torch>=1.13.1->nebula==0.0.5) (1.11.1)\n",
      "Requirement already satisfied: networkx in c:\\users\\dtrizna\\appdata\\local\\packages\\pythonsoftwarefoundation.python.3.9_qbz5n2kfra8p0\\localcache\\local-packages\\python39\\site-packages (from torch>=1.13.1->nebula==0.0.5) (3.1)\n",
      "Requirement already satisfied: jinja2 in c:\\users\\dtrizna\\appdata\\local\\packages\\pythonsoftwarefoundation.python.3.9_qbz5n2kfra8p0\\localcache\\local-packages\\python39\\site-packages (from torch>=1.13.1->nebula==0.0.5) (3.1.2)\n",
      "Requirement already satisfied: colorama in c:\\users\\dtrizna\\appdata\\local\\packages\\pythonsoftwarefoundation.python.3.9_qbz5n2kfra8p0\\localcache\\local-packages\\python39\\site-packages (from tqdm>=4.64.0->nebula==0.0.5) (0.4.4)\n",
      "Requirement already satisfied: slicer==0.0.7 in c:\\users\\dtrizna\\appdata\\local\\packages\\pythonsoftwarefoundation.python.3.9_qbz5n2kfra8p0\\localcache\\local-packages\\python39\\site-packages (from shap->nebula==0.0.5) (0.0.7)\n",
      "Requirement already satisfied: numba in c:\\users\\dtrizna\\appdata\\local\\packages\\pythonsoftwarefoundation.python.3.9_qbz5n2kfra8p0\\localcache\\local-packages\\python39\\site-packages (from shap->nebula==0.0.5) (0.57.0)\n",
      "Requirement already satisfied: cloudpickle in c:\\users\\dtrizna\\appdata\\local\\packages\\pythonsoftwarefoundation.python.3.9_qbz5n2kfra8p0\\localcache\\local-packages\\python39\\site-packages (from shap->nebula==0.0.5) (2.2.1)\n",
      "Requirement already satisfied: six>=1.5 in c:\\users\\dtrizna\\appdata\\local\\packages\\pythonsoftwarefoundation.python.3.9_qbz5n2kfra8p0\\localcache\\local-packages\\python39\\site-packages (from python-dateutil>=2.7->matplotlib>=3.5.2->nebula==0.0.5) (1.16.0)\n",
      "Requirement already satisfied: MarkupSafe>=2.0 in c:\\users\\dtrizna\\appdata\\local\\packages\\pythonsoftwarefoundation.python.3.9_qbz5n2kfra8p0\\localcache\\local-packages\\python39\\site-packages (from jinja2->torch>=1.13.1->nebula==0.0.5) (2.1.1)\n",
      "Requirement already satisfied: attrs>=17.4.0 in c:\\users\\dtrizna\\appdata\\local\\packages\\pythonsoftwarefoundation.python.3.9_qbz5n2kfra8p0\\localcache\\local-packages\\python39\\site-packages (from jsonschema->speakeasy-emulator>=1.5.11->nebula==0.0.5) (21.4.0)\n",
      "Requirement already satisfied: pyrsistent!=0.17.0,!=0.17.1,!=0.17.2,>=0.14.0 in c:\\users\\dtrizna\\appdata\\local\\packages\\pythonsoftwarefoundation.python.3.9_qbz5n2kfra8p0\\localcache\\local-packages\\python39\\site-packages (from jsonschema->speakeasy-emulator>=1.5.11->nebula==0.0.5) (0.18.1)\n",
      "Requirement already satisfied: llvmlite<0.41,>=0.40.0dev0 in c:\\users\\dtrizna\\appdata\\local\\packages\\pythonsoftwarefoundation.python.3.9_qbz5n2kfra8p0\\localcache\\local-packages\\python39\\site-packages (from numba->shap->nebula==0.0.5) (0.40.0)\n",
      "Requirement already satisfied: future in c:\\users\\dtrizna\\appdata\\local\\packages\\pythonsoftwarefoundation.python.3.9_qbz5n2kfra8p0\\localcache\\local-packages\\python39\\site-packages (from pefile->speakeasy-emulator>=1.5.11->nebula==0.0.5) (0.18.2)\n",
      "Requirement already satisfied: mpmath>=0.19 in c:\\users\\dtrizna\\appdata\\local\\packages\\pythonsoftwarefoundation.python.3.9_qbz5n2kfra8p0\\localcache\\local-packages\\python39\\site-packages (from sympy->torch>=1.13.1->nebula==0.0.5) (1.2.1)\n",
      "Note: you may need to restart the kernel to use updated packages.\n"
     ]
    },
    {
     "name": "stderr",
     "output_type": "stream",
     "text": [
      "  Running command git clone --filter=blob:none --quiet https://github.com/dtrizna/nebula 'C:\\Users\\dtrizna\\AppData\\Local\\Temp\\pip-req-build-bg_jknhb'\n"
     ]
    }
   ],
   "source": [
    "%pip install git+https://github.com/dtrizna/nebula"
   ]
  },
  {
   "cell_type": "code",
   "execution_count": 3,
   "metadata": {},
   "outputs": [
    {
     "name": "stdout",
     "output_type": "stream",
     "text": [
      "First 5 API calls invoked by PlugX RAT:\n",
      "\n",
      "{'api_name': 'kernel32.GetModuleHandleA', 'args': ['0x0'], 'ret_val': '0x400000'}\n",
      "{'api_name': 'user32.GetKeyboardType', 'args': ['0x0'], 'ret_val': '0x4'}\n",
      "{'api_name': 'kernel32.GetCommandLineA', 'args': [], 'ret_val': '0x45f0'}\n",
      "{'api_name': 'kernel32.GetStartupInfoA', 'args': ['0x1211f30'], 'ret_val': None}\n",
      "{'api_name': 'kernel32.GetVersion', 'args': [], 'ret_val': '0x1db10106'}\n"
     ]
    }
   ],
   "source": [
    "import torch\n",
    "torch.manual_seed(0)\n",
    "\n",
    "import nebula\n",
    "\n",
    "nebula_transformer = nebula.Nebula(tokenizer='bpe')\n",
    "plugx_rat_report = nebula_transformer.dynamic_analysis_pe_file(plugx_rat_bytez)\n",
    "\n",
    "print(\"First 5 API calls invoked by PlugX RAT:\\n\")\n",
    "_ = [print(val) for val in plugx_rat_report['apis'][0:5]]"
   ]
  },
  {
   "cell_type": "code",
   "execution_count": 4,
   "metadata": {},
   "outputs": [
    {
     "name": "stdout",
     "output_type": "stream",
     "text": [
      "Shape of dynamic features: (1, 512)\n",
      "\n",
      "First 5 dynamic features:\n",
      "\n",
      "[ 2235  1036   530  1203   778  1078   125  1103 15492 49966   932   530\n",
      "  1203   778   560  1176  1103 15492 49966   932]\n"
     ]
    }
   ],
   "source": [
    "plugx_dynamic_features = nebula_transformer.preprocess(plugx_rat_report)\n",
    "\n",
    "print(f\"Shape of dynamic features: {plugx_dynamic_features.shape}\\n\")\n",
    "\n",
    "print(f\"First 5 dynamic features:\\n\\n{plugx_dynamic_features[0, 0:20]}\")"
   ]
  },
  {
   "cell_type": "code",
   "execution_count": 5,
   "metadata": {},
   "outputs": [
    {
     "name": "stdout",
     "output_type": "stream",
     "text": [
      "Probability of '0d219aa54b1d417da61bd4aed5eeb53d6cba91b3287d53186b21fed450248215' being malware: 93.04%\n",
      "Probability of 'calc.exe' being malware: 0.04%\n"
     ]
    }
   ],
   "source": [
    "from torch import manual_seed\n",
    "manual_seed(0)\n",
    "prob = nebula_transformer.predict_proba(plugx_dynamic_features)\n",
    "\n",
    "hhash = vx_link.split(\"/\")[-1].split(\".\")[0].lower()\n",
    "print(f\"Probability of '{hhash}' being malware: {prob*100:.2f}%\")\n",
    "\n",
    "if os.path.exists(r\"C:\\windows\\system32\\calc.exe\"):\n",
    "    with open (r\"C:\\windows\\system32\\calc.exe\", \"rb\") as f:\n",
    "        calc_bytez = f.read()\n",
    "    report = nebula_transformer.dynamic_analysis_pe_file(calc_bytez)\n",
    "    dynamic_features = nebula_transformer.preprocess(report)\n",
    "    manual_seed(0)\n",
    "    prob = nebula_transformer.predict_proba(dynamic_features)\n",
    "    print(f\"Probability of 'calc.exe' being malware: {prob*100:.2f}%\")"
   ]
  },
  {
   "cell_type": "markdown",
   "metadata": {},
   "source": [
    "## Speakeasy Emulator\n",
    "\n",
    "How this is achieved under the hood?\n",
    "\n",
    "Speakeasy is a Python-based emulator build and actively maintained by Mandiant.\n",
    "\n",
    "It is built on top of the Unicorn emulator framework, and emulated x86 architecture solely with a focus on malware analysis.\n"
   ]
  },
  {
   "cell_type": "code",
   "execution_count": 6,
   "metadata": {},
   "outputs": [],
   "source": [
    "import speakeasy\n",
    "emulator = speakeasy.Speakeasy()\n",
    "\n",
    "module = emulator.load_module(data=plugx_rat_bytez)\n",
    "emulator.run_module(module)\n",
    "report = emulator.get_report()"
   ]
  },
  {
   "cell_type": "code",
   "execution_count": 7,
   "metadata": {},
   "outputs": [
    {
     "name": "stdout",
     "output_type": "stream",
     "text": [
      "{'pc': '0x4069ad', 'api_name': 'kernel32.GetModuleHandleA', 'args': ['0x0'], 'ret_val': '0x400000'}\n",
      "{'pc': '0x40398a', 'api_name': 'user32.GetKeyboardType', 'args': ['0x0'], 'ret_val': '0x4'}\n",
      "{'pc': '0x406870', 'api_name': 'kernel32.GetCommandLineA', 'args': [], 'ret_val': '0x45f0'}\n",
      "{'pc': '0x401333', 'api_name': 'kernel32.GetStartupInfoA', 'args': ['0x1211f30'], 'ret_val': None}\n",
      "{'pc': '0x406884', 'api_name': 'kernel32.GetVersion', 'args': [], 'ret_val': '0x1db10106'}\n"
     ]
    }
   ],
   "source": [
    "_ = [print(val) for val in report['entry_points'][0]['apis'][0:5]]"
   ]
  },
  {
   "cell_type": "markdown",
   "metadata": {},
   "source": [
    "We got the same values as the ones we got from the `nebula` analysis above. In reality, Speakeasy has extra fields that are a potential source of information for our model."
   ]
  },
  {
   "cell_type": "code",
   "execution_count": 8,
   "metadata": {},
   "outputs": [
    {
     "data": {
      "text/plain": [
       "[{'event': 'open_key',\n",
       "  'path': 'HKEY_CURRENT_USER\\\\Software\\\\Borland\\\\Locales'},\n",
       " {'event': 'open_key',\n",
       "  'path': 'HKEY_LOCAL_MACHINE\\\\Software\\\\Borland\\\\Locales'},\n",
       " {'event': 'open_key',\n",
       "  'path': 'HKEY_CURRENT_USER\\\\Software\\\\Borland\\\\Delphi\\\\Locales'}]"
      ]
     },
     "execution_count": 8,
     "metadata": {},
     "output_type": "execute_result"
    }
   ],
   "source": [
    "report['entry_points'][0]['registry_access']"
   ]
  },
  {
   "cell_type": "markdown",
   "metadata": {},
   "source": [
    "Speakeasy is adjustable tool and supports a variety of configurations, for instance, it is possible to modify environment variables, user and domain information, simulate network state, and more."
   ]
  },
  {
   "cell_type": "code",
   "execution_count": 9,
   "metadata": {},
   "outputs": [
    {
     "data": {
      "text/plain": [
       "{'comspec': 'C:\\\\Windows\\\\system32\\\\cmd.exe',\n",
       " 'systemroot': 'C:\\\\Windows',\n",
       " 'windir': 'C:\\\\Windows',\n",
       " 'temp': 'C:\\\\Windows\\\\temp\\\\',\n",
       " 'userprofile': 'C:\\\\Users\\\\dtrizna',\n",
       " 'systemdrive': 'C:',\n",
       " 'allusersprofile': 'C:\\\\ProgramData',\n",
       " 'programfiles': 'C:\\\\Program Files'}"
      ]
     },
     "execution_count": 9,
     "metadata": {},
     "output_type": "execute_result"
    }
   ],
   "source": [
    "import json\n",
    "\n",
    "speakeasy_config = os.path.join(os.path.dirname(nebula.__file__), \"objects\", \"speakeasy_config.json\")\n",
    "\n",
    "with open(speakeasy_config, \"r\") as f:\n",
    "    speakeasy_config = json.load(f)\n",
    "\n",
    "speakeasy_config['env']"
   ]
  },
  {
   "cell_type": "code",
   "execution_count": 10,
   "metadata": {},
   "outputs": [
    {
     "name": "stdout",
     "output_type": "stream",
     "text": [
      "foo.bar\n",
      "{'name': 'dtrizna', 'is_admin': True}\n"
     ]
    }
   ],
   "source": [
    "print(speakeasy_config['domain'])\n",
    "print(speakeasy_config['user'])"
   ]
  },
  {
   "cell_type": "code",
   "execution_count": 11,
   "metadata": {},
   "outputs": [
    {
     "data": {
      "text/plain": [
       "{'dns': {'names': {'work.foo.bar': '127.0.0.1',\n",
       "   'foo.bar': '10.1.2.3',\n",
       "   'default': '10.1.2.3',\n",
       "   'google.com': '8.8.8.8',\n",
       "   'localhost': '127.0.0.1'},\n",
       "  'txt': [{'name': 'default', 'path': '$ROOT$/resources/web/default.bin'}]},\n",
       " 'http': {'responses': [{'verb': 'GET',\n",
       "    'files': [{'mode': 'default', 'path': '$ROOT$/resources/web/default.bin'},\n",
       "     {'mode': 'by_ext',\n",
       "      'ext': 'gif',\n",
       "      'path': '$ROOT$/resources/web/decoy.gif'},\n",
       "     {'mode': 'by_ext',\n",
       "      'ext': 'jpg',\n",
       "      'path': '$ROOT$/resources/web/decoy.jpg'}]}]},\n",
       " 'winsock': {'responses': [{'mode': 'default',\n",
       "    'path': '$ROOT$/resources/web/stager.bin'}]}}"
      ]
     },
     "execution_count": 11,
     "metadata": {},
     "output_type": "execute_result"
    }
   ],
   "source": [
    "speakeasy_config['network']"
   ]
  },
  {
   "cell_type": "markdown",
   "metadata": {},
   "source": [
    "## Transformer Model\n",
    "\n",
    "Nebula uses Transformer model to classify malware, the same architecture used in GPT. Transformer is a deep learning model that is based on the attention mechanism. To understand how it works, we need to grasp basics of PyTorch."
   ]
  },
  {
   "cell_type": "code",
   "execution_count": 12,
   "metadata": {},
   "outputs": [
    {
     "data": {
      "text/plain": [
       "TransformerEncoderChunks(\n",
       "  (encoder): Embedding(50001, 64)\n",
       "  (pos_encoder): PositionalEncoding(\n",
       "    (dropout): Dropout(p=0.3, inplace=False)\n",
       "  )\n",
       "  (transformer_encoder): TransformerEncoder(\n",
       "    (layers): ModuleList(\n",
       "      (0-1): 2 x TransformerEncoderLayer(\n",
       "        (self_attn): MultiheadAttention(\n",
       "          (out_proj): NonDynamicallyQuantizableLinear(in_features=64, out_features=64, bias=True)\n",
       "        )\n",
       "        (linear1): Linear(in_features=64, out_features=256, bias=True)\n",
       "        (dropout): Dropout(p=0.3, inplace=False)\n",
       "        (linear2): Linear(in_features=256, out_features=64, bias=True)\n",
       "        (norm1): LayerNorm((64,), eps=1e-05, elementwise_affine=True)\n",
       "        (norm2): LayerNorm((64,), eps=1e-05, elementwise_affine=True)\n",
       "        (dropout1): Dropout(p=0.3, inplace=False)\n",
       "        (dropout2): Dropout(p=0.3, inplace=False)\n",
       "      )\n",
       "    )\n",
       "  )\n",
       "  (ffnn): Sequential(\n",
       "    (0): Sequential(\n",
       "      (0): Linear(in_features=32768, out_features=64, bias=True)\n",
       "      (1): ReLU()\n",
       "      (2): Dropout(p=0.3, inplace=False)\n",
       "    )\n",
       "  )\n",
       "  (classifier_head): Linear(in_features=64, out_features=1, bias=True)\n",
       ")"
      ]
     },
     "execution_count": 12,
     "metadata": {},
     "output_type": "execute_result"
    }
   ],
   "source": [
    "nebula_transformer.model"
   ]
  },
  {
   "cell_type": "markdown",
   "metadata": {},
   "source": [
    "## PyTorch Introduction\n",
    "\n",
    "PyTorch is a Python library for implementing Deep Learning models. Deep Learning is a subfield of Machine Learning that uses **Neural Networks** to learn complex patterns in data. \n",
    "\n",
    "<img src=\"./img/ai_ml_dl.png\" width=\"400\">\n",
    "\n",
    "During last years PyTorch became a de-facto standard for Deep Learning research, substituting the previous leader TensorFlow. PyTorch is a very flexible library that allows to implement complex models with a few lines of code."
   ]
  },
  {
   "cell_type": "markdown",
   "metadata": {},
   "source": [
    "### Tensors\n",
    "\n",
    "PyTorch operates with tensors:\n",
    "\n",
    "<img src=\"./img/tensors.png\" width=\"600\">"
   ]
  },
  {
   "cell_type": "code",
   "execution_count": 31,
   "metadata": {},
   "outputs": [
    {
     "name": "stdout",
     "output_type": "stream",
     "text": [
      "torch.Size([9])\n"
     ]
    },
    {
     "data": {
      "text/plain": [
       "tensor([1., 2., 3., 4., 5., 6., 7., 8., 9.])"
      ]
     },
     "execution_count": 31,
     "metadata": {},
     "output_type": "execute_result"
    }
   ],
   "source": [
    "import torch\n",
    "\n",
    "tensor_a = torch.Tensor([1, 2, 3, 4, 5, 6, 7, 8, 9])\n",
    "print(tensor_a.shape)\n",
    "tensor_a"
   ]
  },
  {
   "cell_type": "code",
   "execution_count": 32,
   "metadata": {},
   "outputs": [
    {
     "name": "stdout",
     "output_type": "stream",
     "text": [
      "torch.Size([3, 3])\n"
     ]
    },
    {
     "data": {
      "text/plain": [
       "tensor([[1., 2., 3.],\n",
       "        [4., 5., 6.],\n",
       "        [7., 8., 9.]])"
      ]
     },
     "execution_count": 32,
     "metadata": {},
     "output_type": "execute_result"
    }
   ],
   "source": [
    "tensor_b = tensor_a.reshape(3, 3)\n",
    "print(tensor_b.shape)\n",
    "tensor_b"
   ]
  },
  {
   "cell_type": "markdown",
   "metadata": {},
   "source": [
    "3 dimensional tensor"
   ]
  },
  {
   "cell_type": "code",
   "execution_count": 34,
   "metadata": {},
   "outputs": [
    {
     "name": "stdout",
     "output_type": "stream",
     "text": [
      "torch.Size([3, 3, 3])\n"
     ]
    },
    {
     "data": {
      "text/plain": [
       "tensor([[[1., 2., 3.],\n",
       "         [4., 5., 6.],\n",
       "         [7., 8., 9.]],\n",
       "\n",
       "        [[1., 2., 3.],\n",
       "         [4., 5., 6.],\n",
       "         [7., 8., 9.]],\n",
       "\n",
       "        [[1., 2., 3.],\n",
       "         [4., 5., 6.],\n",
       "         [7., 8., 9.]]])"
      ]
     },
     "execution_count": 34,
     "metadata": {},
     "output_type": "execute_result"
    }
   ],
   "source": [
    "tensor_c = torch.vstack([tensor_a, tensor_a, tensor_a]).reshape(3, 3, 3)\n",
    "print(tensor_c.shape)\n",
    "tensor_c"
   ]
  },
  {
   "cell_type": "code",
   "execution_count": 40,
   "metadata": {},
   "outputs": [
    {
     "data": {
      "text/plain": [
       "tensor([4., 5.])"
      ]
     },
     "execution_count": 40,
     "metadata": {},
     "output_type": "execute_result"
    }
   ],
   "source": [
    "# indexing\n",
    "tensor_c[2, 1, 0:2]"
   ]
  },
  {
   "cell_type": "markdown",
   "metadata": {},
   "source": [
    "### Layers"
   ]
  },
  {
   "cell_type": "code",
   "execution_count": 44,
   "metadata": {},
   "outputs": [
    {
     "data": {
      "text/plain": [
       "tensor([[0.2902],\n",
       "        [0.8687],\n",
       "        [1.4472]], grad_fn=<AddmmBackward0>)"
      ]
     },
     "execution_count": 44,
     "metadata": {},
     "output_type": "execute_result"
    }
   ],
   "source": [
    "from torch import nn\n",
    "\n",
    "layer_a = nn.Linear(3, 1)\n",
    "layer_a(tensor_b)"
   ]
  },
  {
   "cell_type": "code",
   "execution_count": null,
   "metadata": {},
   "outputs": [],
   "source": []
  }
 ],
 "metadata": {
  "kernelspec": {
   "display_name": "Python 3",
   "language": "python",
   "name": "python3"
  },
  "language_info": {
   "codemirror_mode": {
    "name": "ipython",
    "version": 3
   },
   "file_extension": ".py",
   "mimetype": "text/x-python",
   "name": "python",
   "nbconvert_exporter": "python",
   "pygments_lexer": "ipython3",
   "version": "3.9.13"
  }
 },
 "nbformat": 4,
 "nbformat_minor": 2
}
