{
 "cells": [
  {
   "cell_type": "markdown",
   "metadata": {},
   "source": [
    "# Black Hat USA Training (Early draft)\n",
    "\n",
    "## Lab 1: Adversarial EXEmple Impact on Manual Heuristics (YARA)\n",
    "\n",
    "We will follow a \"Top-Down\" teaching methodology: We will start with higher level concepts familiar to our students in the cybersecurity domain, for instance, by introducing a specific library and demonstrating its use. Then, we delve deeper into the methods and parameters of these applications. Finally, we explore the underlying fundamentals, such as the specific PE format properties or mathematical concepts at the core of these ideas.\n",
    "\n",
    "**NOTE: This is a raw draft that will be populated with more material (especially visual) and explanations, especially, facilitating AI/ML intuition and more gradual familiriaztion with concepts.**\n",
    "\n",
    "Contents:\n",
    "- When Adversarial EXEmples Help\n",
    "- When Adversarial EXEmples Hurt\n"
   ]
  },
  {
   "cell_type": "markdown",
   "metadata": {},
   "source": [
    "## When Adversarial EXEmples Help"
   ]
  },
  {
   "cell_type": "code",
   "execution_count": 90,
   "metadata": {},
   "outputs": [
    {
     "name": "stdout",
     "output_type": "stream",
     "text": [
      "Requirement already satisfied: yara-python in c:\\users\\dtrizna\\appdata\\local\\packages\\pythonsoftwarefoundation.python.3.9_qbz5n2kfra8p0\\localcache\\local-packages\\python39\\site-packages (4.5.1)\n",
      "Note: you may need to restart the kernel to use updated packages.\n"
     ]
    },
    {
     "name": "stderr",
     "output_type": "stream",
     "text": [
      "\n",
      "[notice] A new release of pip is available: 24.0 -> 24.1.1\n",
      "[notice] To update, run: C:\\Users\\dtrizna\\AppData\\Local\\Microsoft\\WindowsApps\\PythonSoftwareFoundation.Python.3.9_qbz5n2kfra8p0\\python.exe -m pip install --upgrade pip\n"
     ]
    }
   ],
   "source": [
    "# if not installed, install yara-python with pip\n",
    "%pip install yara-python"
   ]
  },
  {
   "cell_type": "code",
   "execution_count": 125,
   "metadata": {},
   "outputs": [],
   "source": [
    "# force reimport of lab_helpers\n",
    "import sys\n",
    "if 'lab_helpers' in sys.modules:\n",
    "    del sys.modules['lab_helpers']\n",
    "\n",
    "from lab_helpers import *\n",
    "yara = YaraWrapper()"
   ]
  },
  {
   "cell_type": "code",
   "execution_count": 39,
   "metadata": {},
   "outputs": [
    {
     "data": {
      "text/plain": [
       "b'MZP\\x00\\x02\\x00\\x00\\x00\\x04\\x00\\x0f\\x00\\xff\\xff\\x00\\x00\\xb8\\x00\\x00\\x00'"
      ]
     },
     "execution_count": 39,
     "metadata": {},
     "output_type": "execute_result"
    }
   ],
   "source": [
    "e430_orig_path = \"http://malware-training.us.to/e430acd25056f7616cee8ce7b399302658a75450077622555376e69fb6aa37ca.orig.7z\"\n",
    "e430_orig_bytez = get_encrypted_archive(e430_orig_path, password=\"infected\")\n",
    "e430_orig_bytez[0:20]"
   ]
  },
  {
   "cell_type": "code",
   "execution_count": 9,
   "metadata": {},
   "outputs": [
    {
     "name": "stdout",
     "output_type": "stream",
     "text": [
      "/* requires YARA 3.8 or higher */\n",
      "import \"pe\"\n",
      "\n",
      "rule SUSP_XORed_URL_In_EXE {\n",
      "   meta:\n",
      "      description = \"Detects an XORed URL in an executable\"\n",
      "      author = \"Florian Roth (Nextron Systems)\"\n",
      "      reference = \"https://twitter.com/stvemillertime/status/1237035794973560834\"\n",
      "      date = \"2020-03-09\"\n",
      "      modified = \"2022-09-16\"\n",
      "      score = 50\n",
      "      id = \"f83991c8-f2d9-5583-845a-d105034783ab\"\n",
      "   strings:\n",
      "      $s1 = \"http://\" xor\n",
      "      $s2 = \"https://\" xor\n",
      "      $f1 = \"http://\" ascii\n",
      "      $f2 = \"https://\" ascii\n",
      "\n",
      "      $fp01 = \"3Com Corporation\" ascii  /* old driver */\n",
      "      $fp02 = \"bootloader.jar\" ascii  /* DeepGit */\n",
      "      $fp03 = \"AVAST Software\" ascii wide\n",
      "      $fp04 = \"smartsvn\" wide ascii fullword\n",
      "      $fp05 = \"Avira Operations GmbH\" wide fullword\n",
      "      $fp06 = \"Perl Dev Kit\" wide fullword\n",
      "      $fp07 = \"Digiread\" wide fullword\n",
      "      $fp08 = \"Avid Editor\" wide fullword\n",
      "      $fp09 = \"Digisign\" wide fullword\n",
      "      $fp10 = \"Microsoft Corporation\" wide fullword\n",
      "      $fp11 = \"Microsoft Code Signing\" ascii wide\n",
      "      $fp12 = \"XtraProxy\" wide fullword\n",
      "      $fp13 = \"A Sophos Company\" wide\n",
      "      $fp14 = \"http://crl3.digicert.com/\" ascii\n",
      "      $fp15 = \"http://crl.sectigo.com/SectigoRSACodeSigningCA.crl\" ascii\n",
      "      $fp16 = \"HitmanPro.Alert\" wide fullword\n",
      "   condition:\n",
      "      uint16(0) == 0x5a4d and\n",
      "      filesize < 2000KB and (\n",
      "         ( $s1 and #s1 > #f1 ) or\n",
      "         ( $s2 and #s2 > #f2 )\n",
      "      )\n",
      "      and not 1 of ($fp*)\n",
      "      and not pe.number_of_signatures > 0\n",
      "}\n",
      "\n",
      "\n"
     ]
    }
   ],
   "source": [
    "import requests\n",
    "\n",
    "xor_rule_url = \"https://raw.githubusercontent.com/Neo23x0/signature-base/6b8e2a00e5aafcfcfc767f3f53ae986cf81f968a/yara/gen_susp_xor.yar\"\n",
    "xor_rule = requests.get(xor_rule_url).text\n",
    "print(xor_rule)"
   ]
  },
  {
   "cell_type": "code",
   "execution_count": 111,
   "metadata": {},
   "outputs": [
    {
     "name": "stdout",
     "output_type": "stream",
     "text": [
      "[+] Match found: [SUSP_XORed_URL_In_EXE]\n",
      "[!] Rule: SUSP_XORed_URL_In_EXE\n",
      "    [+] Matched data: b'iuuq;..' | Offset: 0x68650\n",
      "\t[!] XOR key: 1\n",
      "\t[!] Decoded: b'http://'\n",
      "    [+] Matched data: b'iuuq;..' | Offset: 0x68964\n",
      "\t[!] XOR key: 1\n",
      "\t[!] Decoded: b'http://'\n"
     ]
    }
   ],
   "source": [
    "yara.check_sample(sample_bytes=e430_orig_bytez, rules=xor_rule)\n",
    "yara.pretty_print()"
   ]
  },
  {
   "cell_type": "markdown",
   "metadata": {},
   "source": [
    "<img src=\"img/e430_match_raw.png\" width=500>\n",
    "\n",
    "This:\n",
    "\n",
    "<img src=\"img/e430_enc_url.png\" width=500>"
   ]
  },
  {
   "cell_type": "markdown",
   "metadata": {},
   "source": [
    "### Adversarial EXEmple with Padding Attack"
   ]
  },
  {
   "cell_type": "code",
   "execution_count": 40,
   "metadata": {},
   "outputs": [
    {
     "data": {
      "text/plain": [
       "b'MZP\\x00\\x02\\x00\\x00\\x00\\x04\\x00\\x0f\\x00\\xff\\xff\\x00\\x00\\xb8\\x00\\x00\\x00'"
      ]
     },
     "execution_count": 40,
     "metadata": {},
     "output_type": "execute_result"
    }
   ],
   "source": [
    "e430_adv_path = \"http://malware-training.us.to/e430acd25056f7616cee8ce7b399302658a75450077622555376e69fb6aa37ca.adv.7z\"\n",
    "e430_adv_bytez = get_encrypted_archive(e430_adv_path, password=\"infected\")\n",
    "e430_adv_bytez[0:20]"
   ]
  },
  {
   "cell_type": "code",
   "execution_count": 104,
   "metadata": {},
   "outputs": [
    {
     "name": "stdout",
     "output_type": "stream",
     "text": [
      "[-] No matches found.\n"
     ]
    }
   ],
   "source": [
    "yara.check_sample(sample_bytes=e430_adv_bytez, rules=xor_rule)\n",
    "yara.pretty_print()"
   ]
  },
  {
   "cell_type": "markdown",
   "metadata": {},
   "source": [
    "<img src=\"img/e430_orig_vs_adv.png\" width=400>\n",
    "\n"
   ]
  },
  {
   "cell_type": "code",
   "execution_count": 67,
   "metadata": {},
   "outputs": [
    {
     "name": "stdout",
     "output_type": "stream",
     "text": [
      "Size of orig sample:  0.49 MB\n",
      "Size of adv  sample: 17.15 MB\n"
     ]
    }
   ],
   "source": [
    "print(f\"Size of orig sample: {len(e430_orig_bytez) / 1024 / 1024:^6.2f}MB\")\n",
    "print(f\"Size of adv  sample: {len(e430_adv_bytez) / 1024 / 1024:^6.2f}MB\")"
   ]
  },
  {
   "cell_type": "code",
   "execution_count": 57,
   "metadata": {},
   "outputs": [
    {
     "name": "stdout",
     "output_type": "stream",
     "text": [
      "\n",
      "      uint16(0) == 0x5a4d and\n",
      "      filesize < 2000KB and (\n",
      "         ( $s1 and #s1 > #f1 ) or\n",
      "         ( $s2 and #s2 > #f2 )\n",
      "      )\n",
      "      and not 1 of ($fp*)\n",
      "      and not pe.number_of_signatures > 0\n",
      "}\n",
      "\n",
      "\n"
     ]
    }
   ],
   "source": [
    "print(xor_rule.split(\"condition:\")[1])"
   ]
  },
  {
   "cell_type": "markdown",
   "metadata": {},
   "source": [
    "## When Adversarial EXEmples Hurt\n",
    "\n",
    "### CryptoLocker rule"
   ]
  },
  {
   "cell_type": "code",
   "execution_count": 105,
   "metadata": {},
   "outputs": [
    {
     "name": "stdout",
     "output_type": "stream",
     "text": [
      "rule CryptoLocker_set1\n",
      "{\n",
      "\n",
      "\tmeta:\n",
      "\n",
      "\t\tdescription = \"Detection of Cryptolocker Samples\"\n",
      "\t\tauthor = \"Christiaan Beek, Christiaan_Beek@McAfee.com\"\n",
      "\t\tdate = \"2014-04-13\"\n",
      "\t\trule_version = \"v1\"\n",
      "\t    malware_type = \"ransomware\"\n",
      "\t    malware_family = \"Ransom:W32/Cryptolocker\"\n",
      "\t    actor_type = \"Cybercrime\"\n",
      "\t    actor_group = \"Unknown\"\n",
      "\t\t\n",
      "\t\t\n",
      "\tstrings:\n",
      "\n",
      "\t\t$string0 = \"static\"\n",
      "\t\t$string1 = \" kscdS\"\n",
      "\t\t$string2 = \"Romantic\"\n",
      "\t\t$string3 = \"CompanyName\" wide\n",
      "\t\t$string4 = \"ProductVersion\" wide\n",
      "\t\t$string5 = \"9%9R9f9q9\"\n",
      "\t\t$string6 = \"IDR_VERSION1\" wide\n",
      "\t\t$string7 = \"  </trustInfo>\"\n",
      "\t\t$string8 = \"LookFor\" wide\n",
      "\t\t$string9 = \":n;t;y;\"\n",
      "\t\t$string10 = \"        <requestedExecutionLevel level\"\n",
      "\t\t$string11 = \"VS_VERSION_INFO\" wide\n",
      "\t\t$string12 = \"2.0.1.0\" wide\n",
      "\t\t$string13 = \"<assembly xmlns\"\n",
      "\t\t$string14 = \"  <trustInfo xmlns\"\n",
      "\t\t$string15 = \"srtWd@@\"\n",
      "\t\t$string16 = \"515]5z5\"\n",
      "\t\t$string17 = \"C:\\\\lZbvnoVe.exe\" wide\n",
      "\n",
      "\tcondition:\n",
      "\n",
      "\t\t12 of ($string*)\n",
      "}\n",
      "\n",
      "rule CryptoLocker_rule2\n",
      "{\n",
      "\n",
      "\tmeta:\n",
      "\n",
      "\t\tdescription = \"Detection of CryptoLocker Variants\"\n",
      "\t\tauthor = \"Christiaan Beek, Christiaan_Beek@McAfee.com\"\n",
      "\t\tdate = \"2014-04-14\"\n",
      "\t\trule_version = \"v1\"\n",
      "\t    malware_type = \"ransomware\"\n",
      "\t    malware_family = \"Ransom:W32/Cryptolocker\"\n",
      "\t    actor_type = \"Cybercrime\"\n",
      "\t    actor_group = \"Unknown\"\n",
      "\n",
      "\tstrings:\n",
      "\n",
      "\t\t$string0 = \"2.0.1.7\" wide\n",
      "\t\t$string1 = \"    <security>\"\n",
      "\t\t$string2 = \"Romantic\"\n",
      "\t\t$string3 = \"ProductVersion\" wide\n",
      "\t\t$string4 = \"9%9R9f9q9\"\n",
      "\t\t$string5 = \"IDR_VERSION1\" wide\n",
      "\t\t$string6 = \"button\"\n",
      "\t\t$string7 = \"    </security>\"\n",
      "\t\t$string8 = \"VFileInfo\" wide\n",
      "\t\t$string9 = \"LookFor\" wide\n",
      "\t\t$string10 = \"      </requestedPrivileges>\"\n",
      "\t\t$string11 = \" uiAccess\"\n",
      "\t\t$string12 = \"  <trustInfo xmlns\"\n",
      "\t\t$string13 = \"last.inf\"\n",
      "\t\t$string14 = \" manifestVersion\"\n",
      "\t\t$string15 = \"FFFF04E3\" wide\n",
      "\t\t$string16 = \"3,31363H3P3m3u3z3\"\n",
      "\n",
      "\tcondition:\n",
      "\n",
      "\t\t12 of ($string*)\n",
      "}\n",
      "\n",
      "\n",
      "\n"
     ]
    }
   ],
   "source": [
    "cryptolocker_rule_url = \"https://raw.githubusercontent.com/advanced-threat-research/Yara-Rules/fc51a3fe3b450838614a5a5aa327c6bd8689cbb2/ransomware/RANSOM_Cryptolocker.yar\"\n",
    "cryptolocker_rules = requests.get(cryptolocker_rule_url).text\n",
    "print(cryptolocker_rules)"
   ]
  },
  {
   "cell_type": "code",
   "execution_count": 106,
   "metadata": {},
   "outputs": [
    {
     "data": {
      "text/plain": [
       "b'MZ\\x90\\x00\\x03\\x00\\x00\\x00\\x04\\x00\\x00\\x00\\xff\\xff\\x00\\x00\\xb8\\x00\\x00\\x00'"
      ]
     },
     "execution_count": 106,
     "metadata": {},
     "output_type": "execute_result"
    }
   ],
   "source": [
    "orig_57ed_path = \"http://malware-training.us.to/57edf6f6ca18699cd4667e5d314fd6370d48a3733b266857ed6123d093b064a7.orig.7z\"\n",
    "orig_57ed_bytez = get_encrypted_archive(orig_57ed_path, password=\"infected\")\n",
    "orig_57ed_bytez[0:20]"
   ]
  },
  {
   "cell_type": "code",
   "execution_count": 107,
   "metadata": {},
   "outputs": [
    {
     "name": "stdout",
     "output_type": "stream",
     "text": [
      "[-] No matches found.\n"
     ]
    }
   ],
   "source": [
    "yara.check_sample(sample_bytes=orig_57ed_bytez, rules=cryptolocker_rules)\n",
    "yara.pretty_print()"
   ]
  },
  {
   "cell_type": "markdown",
   "metadata": {},
   "source": [
    "#### Trying with Adversarial EXEmple with Section Injection Attack"
   ]
  },
  {
   "cell_type": "code",
   "execution_count": 108,
   "metadata": {},
   "outputs": [
    {
     "data": {
      "text/plain": [
       "b'MZ\\x90\\x00\\x03\\x00\\x00\\x00\\x04\\x00\\x00\\x00\\xff\\xff\\x00\\x00\\xb8\\x00\\x00\\x00'"
      ]
     },
     "execution_count": 108,
     "metadata": {},
     "output_type": "execute_result"
    }
   ],
   "source": [
    "adv_57ed_path = \"http://malware-training.us.to/57edf6f6ca18699cd4667e5d314fd6370d48a3733b266857ed6123d093b064a7.adv.7z\"\n",
    "adv_57ed_bytez = get_encrypted_archive(adv_57ed_path, password=\"infected\")\n",
    "adv_57ed_bytez[0:20]"
   ]
  },
  {
   "cell_type": "code",
   "execution_count": 126,
   "metadata": {},
   "outputs": [
    {
     "name": "stdout",
     "output_type": "stream",
     "text": [
      "[+] Match found: [CryptoLocker_rule2]\n",
      "[!] Rule: CryptoLocker_rule2\n",
      "    [+] Matched data: b'2\\x00.\\x000\\x00.\\x001\\x00.\\x007\\x00' | Offset: 0x128681c\n",
      "    [+] Matched data: b'    <security>' | Offset: 0xc3a0\n",
      "    [+] Matched data: b'    <security>' | Offset: 0x17cd41\n",
      "    [+] Matched data: b'    <security>' | Offset: 0x21aac8\n",
      "    [+] Matched data: b'    <security>' | Offset: 0x35e576\n",
      "    [+] Matched data: b'    <security>' | Offset: 0x397c5b\n",
      "    [*] ... 9 more\n",
      "\n",
      "    [+] Matched data: b'P\\x00r\\x00o\\x00d\\x00u\\x00c\\x00t\\x00V\\x00e\\x00r\\x00s\\x00i\\x00o\\x00n\\x00' | Offset: 0xc6fa\n",
      "    [+] Matched data: b'P\\x00r\\x00o\\x00d\\x00u\\x00c\\x00t\\x00V\\x00e\\x00r\\x00s\\x00i\\x00o\\x00n\\x00' | Offset: 0x94be2\n",
      "    [+] Matched data: b'P\\x00r\\x00o\\x00d\\x00u\\x00c\\x00t\\x00V\\x00e\\x00r\\x00s\\x00i\\x00o\\x00n\\x00' | Offset: 0x15ef8a\n",
      "    [+] Matched data: b'P\\x00r\\x00o\\x00d\\x00u\\x00c\\x00t\\x00V\\x00e\\x00r\\x00s\\x00i\\x00o\\x00n\\x00' | Offset: 0x17c9a6\n",
      "    [+] Matched data: b'P\\x00r\\x00o\\x00d\\x00u\\x00c\\x00t\\x00V\\x00e\\x00r\\x00s\\x00i\\x00o\\x00n\\x00' | Offset: 0x21a996\n",
      "    [*] ... 9 more\n",
      "\n",
      "    [+] Matched data: b'I\\x00D\\x00R\\x00_\\x00V\\x00E\\x00R\\x00S\\x00I\\x00O\\x00N\\x001\\x00' | Offset: 0x1286752\n",
      "    [+] Matched data: b'    </security>' | Offset: 0xc46a\n",
      "    [+] Matched data: b'    </security>' | Offset: 0x17ce0a\n",
      "    [+] Matched data: b'    </security>' | Offset: 0x21ab5b\n",
      "    [+] Matched data: b'    </security>' | Offset: 0x35e631\n",
      "    [+] Matched data: b'    </security>' | Offset: 0x397d06\n",
      "    [*] ... 9 more\n",
      "\n",
      "    [+] Matched data: b'V\\x00F\\x00i\\x00l\\x00e\\x00I\\x00n\\x00f\\x00o\\x00' | Offset: 0x12868ce\n",
      "\n",
      "  [*] ... 7 more\n"
     ]
    }
   ],
   "source": [
    "yara.check_sample(sample_bytes=adv_57ed_bytez, rules=cryptolocker_rules)\n",
    "yara.pretty_print(print_limit=5)"
   ]
  },
  {
   "cell_type": "markdown",
   "metadata": {},
   "source": [
    "<img src=\"img/57ed_orig_vs_adv.png\" width=400>"
   ]
  },
  {
   "cell_type": "code",
   "execution_count": 122,
   "metadata": {},
   "outputs": [
    {
     "name": "stdout",
     "output_type": "stream",
     "text": [
      "\n",
      "\n",
      "\t\t12 of ($string*)\n"
     ]
    }
   ],
   "source": [
    "print(cryptolocker_rules.split(\"condition:\")[1].split(\"rule\")[0].rstrip(\"} \\n\"))"
   ]
  },
  {
   "cell_type": "markdown",
   "metadata": {},
   "source": [
    "It triggers on meta-data component of PE file: `manifest.xml` that appear many times, instead of appearing only once (like in any regular PE)."
   ]
  },
  {
   "cell_type": "markdown",
   "metadata": {},
   "source": [
    "### ConfuserEx rule"
   ]
  },
  {
   "cell_type": "code",
   "execution_count": 130,
   "metadata": {},
   "outputs": [
    {
     "name": "stdout",
     "output_type": "stream",
     "text": [
      "rule SUSP_NET_NAME_ConfuserEx {\n",
      "    meta:\n",
      "        description = \"Detects ConfuserEx packed file\"\n",
      "        reference = \"https://github.com/yck1509/ConfuserEx\"\n",
      "        license = \"Detection Rule License 1.1 https://github.com/Neo23x0/signature-base/blob/master/LICENSE\"\n",
      "        author = \"Arnim Rupp\"\n",
      "        score = 40\n",
      "        date = \"2021-01-22\"\n",
      "        modified = \"2021-01-25\"\n",
      "        id = \"f1bda14e-c9fe-5341-8962-691a66233eb0\"\n",
      "    strings:\n",
      "        $name = \"ConfuserEx\" ascii wide\n",
      "        $compile = \"AssemblyTitle\" ascii wide\n",
      "    condition:\n",
      "        (uint16(0) == 0x5A4D and uint32(uint32(0x3C)) == 0x00004550) and all of them\n",
      "}\n",
      "\n",
      "\n"
     ]
    }
   ],
   "source": [
    "confuser_ex_rule_url = \"https://raw.githubusercontent.com/Neo23x0/signature-base/6b8e2a00e5aafcfcfc767f3f53ae986cf81f968a/yara/gen_github_net_redteam_tools_names.yar\"\n",
    "confuser_ex_rules = requests.get(confuser_ex_rule_url).text\n",
    "rule_name = \"rule SUSP_NET_NAME_ConfuserEx\"\n",
    "print(rule_name + confuser_ex_rules.split(rule_name)[1].split(\"rule\")[0])"
   ]
  },
  {
   "cell_type": "code",
   "execution_count": 133,
   "metadata": {},
   "outputs": [
    {
     "name": "stdout",
     "output_type": "stream",
     "text": [
      "[-] No matches found.\n"
     ]
    }
   ],
   "source": [
    "yara.check_sample(sample_bytes=orig_57ed_bytez, rules=confuser_ex_rules)\n",
    "yara.pretty_print()"
   ]
  },
  {
   "cell_type": "code",
   "execution_count": 135,
   "metadata": {},
   "outputs": [
    {
     "name": "stdout",
     "output_type": "stream",
     "text": [
      "[+] Match found: [SUSP_NET_NAME_ConfuserEx]\n",
      "[!] Rule: SUSP_NET_NAME_ConfuserEx\n",
      "    [+] Matched data: b'ConfuserEx' | Offset: 0x56ac27\n",
      "    [+] Matched data: b'AssemblyTitle' | Offset: 0x3f59ef\n",
      "    [+] Matched data: b'AssemblyTitle' | Offset: 0x56a90b\n",
      "    [+] Matched data: b'A\\x00s\\x00s\\x00e\\x00m\\x00b\\x00l\\x00y\\x00T\\x00i\\x00t\\x00l\\x00e\\x00' | Offset: 0x11b71ed\n",
      "    [+] Matched data: b'A\\x00s\\x00s\\x00e\\x00m\\x00b\\x00l\\x00y\\x00T\\x00i\\x00t\\x00l\\x00e\\x00' | Offset: 0x11b7252\n"
     ]
    }
   ],
   "source": [
    "yara.check_sample(sample_bytes=adv_57ed_bytez, rules=confuser_ex_rules)\n",
    "yara.pretty_print()"
   ]
  },
  {
   "cell_type": "code",
   "execution_count": 138,
   "metadata": {},
   "outputs": [
    {
     "data": {
      "text/plain": [
       "b'MZ\\x90\\x00\\x03\\x00\\x00\\x00\\x04\\x00\\x00\\x00\\xff\\xff\\x00\\x00\\xb8\\x00\\x00\\x00'"
      ]
     },
     "execution_count": 138,
     "metadata": {},
     "output_type": "execute_result"
    }
   ],
   "source": [
    "adv_57ed_path_no_confuser = \"http://malware-training.us.to/57edf6f6ca18699cd4667e5d314fd6370d48a3733b266857ed6123d093b064a7.adv.no_confuser_section.7z\"\n",
    "adv_57ed_path_no_confuser_bytez = get_encrypted_archive(adv_57ed_path_no_confuser, password=\"infected\")\n",
    "adv_57ed_path_no_confuser_bytez[0:20]"
   ]
  },
  {
   "cell_type": "code",
   "execution_count": 137,
   "metadata": {},
   "outputs": [
    {
     "name": "stdout",
     "output_type": "stream",
     "text": [
      "[+] Match found: [SUSP_NET_NAME_ConfuserEx]\n",
      "[!] Rule: SUSP_NET_NAME_ConfuserEx\n",
      "    [+] Matched data: b'ConfuserEx' | Offset: 0x56ac27\n",
      "    [+] Matched data: b'AssemblyTitle' | Offset: 0x3f59ef\n",
      "    [+] Matched data: b'AssemblyTitle' | Offset: 0x56a90b\n",
      "    [+] Matched data: b'A\\x00s\\x00s\\x00e\\x00m\\x00b\\x00l\\x00y\\x00T\\x00i\\x00t\\x00l\\x00e\\x00' | Offset: 0x11b71ed\n",
      "    [+] Matched data: b'A\\x00s\\x00s\\x00e\\x00m\\x00b\\x00l\\x00y\\x00T\\x00i\\x00t\\x00l\\x00e\\x00' | Offset: 0x11b7252\n"
     ]
    }
   ],
   "source": [
    "yara.check_sample(sample_bytes=adv_57ed_path_no_confuser_bytez, rules=confuser_ex_rules)\n",
    "yara.pretty_print()"
   ]
  },
  {
   "cell_type": "markdown",
   "metadata": {},
   "source": [
    "ConfuserEx is a open-source protector for .NET applications. It is the successor of Confuser project. It's primarily designed to make reverse engineering difficult for applications written in .NET languages like C# and VB.NET. ConfuserEx does this by using a variety of techniques like symbol renaming, control flow obfuscation, and encryption of strings and resources.\n",
    "\n",
    "https://github.com/yck1509/ConfuserEx:\n",
    "\n",
    "<img src=\"img/confuser_repo.png\" width=500>\n",
    "\n",
    "https://www.microsoft.com/en-us/wdsi/threats/malware-encyclopedia-description?Name=Trojan:MSIL/Confuser&ThreatID=2147728476:\n",
    "\n",
    "<img src=\"img/confuser_signature.png\" width=500>"
   ]
  },
  {
   "cell_type": "markdown",
   "metadata": {},
   "source": [
    "#### Evading this rule match\n",
    "\n",
    "We can acknowledge that string is present:\n",
    "\n",
    "<img src=\"img/confuser_bytes.png\" width=500>\n",
    "\n",
    "Section where it is present:\n",
    "\n",
    "<img src=\"img/confuser_section.png\" width=500>\n",
    "\n",
    "It is possible to greedy nullify it:\n",
    "\n",
    "<img src=\"img/confuser_section_clear.png\" width=500>\n",
    "\n",
    "Let's do more clever approach:"
   ]
  },
  {
   "cell_type": "code",
   "execution_count": 159,
   "metadata": {},
   "outputs": [
    {
     "name": "stdout",
     "output_type": "stream",
     "text": [
      "[+] Found b'ConfuserEx' in section b'ooJOnATr'\n",
      "\t[!] File offset 0x56ac27\n",
      "\t[!] Overwritten 10 bytes\n"
     ]
    }
   ],
   "source": [
    "# parse pe file and get the section names\n",
    "import pefile\n",
    "from copy import deepcopy\n",
    "\n",
    "adv_57ed_bytez_mutable = bytearray(deepcopy(adv_57ed_bytez))\n",
    "\n",
    "pe = pefile.PE(data=adv_57ed_bytez)\n",
    "substring = b\"ConfuserEx\"\n",
    "for section in pe.sections:\n",
    "    section_data = section.get_data()\n",
    "    if substring in section_data:\n",
    "        # print(section.Name)\n",
    "        print(f\"[+] Found {substring} in section {section.Name}\")\n",
    "        \n",
    "        # nullify the substring\n",
    "        start_index = section_data.find(substring)\n",
    "        end_index = start_index + len(substring)\n",
    "\n",
    "        file_offset = section.PointerToRawData + start_index\n",
    "        print(f\"\\t[!] File offset 0x{file_offset:x}\")\n",
    "\n",
    "        # nullify the substring\n",
    "        adv_57ed_bytez_mutable[file_offset:file_offset + len(substring)] = b'\\x00' * len(substring)\n",
    "\n",
    "        print(f\"\\t[!] Overwritten {len(substring)} bytes\")\n",
    "\n",
    "adv_57ed_bytez_no_confuser = bytes(adv_57ed_bytez_mutable)"
   ]
  },
  {
   "cell_type": "code",
   "execution_count": 161,
   "metadata": {},
   "outputs": [
    {
     "name": "stdout",
     "output_type": "stream",
     "text": [
      "[-] No matches found.\n"
     ]
    }
   ],
   "source": [
    "yara.check_sample(sample_bytes=adv_57ed_bytez_no_confuser, rules=confuser_ex_rules)\n",
    "yara.pretty_print()"
   ]
  },
  {
   "cell_type": "markdown",
   "metadata": {},
   "source": [
    "### Resources\n",
    "\n",
    "https://github.com/Neo23x0/YARA-Performance-Guidelines\n",
    "\n",
    "https://yara.readthedocs.io/en/stable/writingrules.html"
   ]
  },
  {
   "cell_type": "markdown",
   "metadata": {},
   "source": []
  }
 ],
 "metadata": {
  "kernelspec": {
   "display_name": "Python 3",
   "language": "python",
   "name": "python3"
  },
  "language_info": {
   "codemirror_mode": {
    "name": "ipython",
    "version": 3
   },
   "file_extension": ".py",
   "mimetype": "text/x-python",
   "name": "python",
   "nbconvert_exporter": "python",
   "pygments_lexer": "ipython3",
   "version": "3.9.13"
  }
 },
 "nbformat": 4,
 "nbformat_minor": 2
}
