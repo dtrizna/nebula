{
 "cells": [
  {
   "cell_type": "markdown",
   "metadata": {},
   "source": [
    "# Black Hat USA Training (Early draft)\n",
    "\n",
    "## Lab 3: Dynamic Malware Detection using Transformer Neural Networks\n",
    "\n",
    "We will follow a \"Top-Down\" teaching methodology: We will start with higher level concepts familiar to our students in the cybersecurity domain, for instance, by introducing a specific library and demonstrating its use. Then, we delve deeper into the methods and parameters of these applications. Finally, we explore the underlying fundamentals, such as the specific PE format properties or mathematical concepts at the core of these ideas.\n",
    "\n",
    "**NOTE: This is a raw draft that will be populated with more material (especially visual) and explanations, especially, facilitating more gradual AI/ML concept introduction.**\n",
    "\n",
    "Contents:\n",
    "\n",
    "- Download PlugX Sample\n",
    "- Machine Learning with Dynamic Malware Analysis \n",
    "- Speakeasy Emulator\n",
    "- PyTorch Introduction"
   ]
  },
  {
   "cell_type": "code",
   "execution_count": 1,
   "metadata": {},
   "outputs": [
    {
     "name": "stdout",
     "output_type": "stream",
     "text": [
      "Collecting git+https://github.com/dtrizna/nebula\n",
      "  Cloning https://github.com/dtrizna/nebula to c:\\users\\dtrizna\\appdata\\local\\temp\\pip-req-build-he1tlgtr\n",
      "  Resolved https://github.com/dtrizna/nebula to commit b9a0d38cf51c158eef1d64def5d26f9da595b1ec\n",
      "  Preparing metadata (setup.py): started\n",
      "  Preparing metadata (setup.py): finished with status 'done'\n",
      "Requirement already satisfied: speakeasy-emulator>=1.5.11 in c:\\users\\dtrizna\\appdata\\local\\packages\\pythonsoftwarefoundation.python.3.9_qbz5n2kfra8p0\\localcache\\local-packages\\python39\\site-packages (from nebula==0.0.6) (1.5.11)\n",
      "Requirement already satisfied: torch>=1.13.1 in c:\\users\\dtrizna\\appdata\\local\\packages\\pythonsoftwarefoundation.python.3.9_qbz5n2kfra8p0\\localcache\\local-packages\\python39\\site-packages (from nebula==0.0.6) (2.0.1+cu117)\n",
      "Requirement already satisfied: pandas>=1.4.2 in c:\\users\\dtrizna\\appdata\\local\\packages\\pythonsoftwarefoundation.python.3.9_qbz5n2kfra8p0\\localcache\\local-packages\\python39\\site-packages (from nebula==0.0.6) (1.4.2)\n",
      "Requirement already satisfied: numpy>=1.22.4 in c:\\users\\dtrizna\\appdata\\local\\packages\\pythonsoftwarefoundation.python.3.9_qbz5n2kfra8p0\\localcache\\local-packages\\python39\\site-packages (from nebula==0.0.6) (1.24.3)\n",
      "Requirement already satisfied: lief==0.12.3 in c:\\users\\dtrizna\\appdata\\local\\packages\\pythonsoftwarefoundation.python.3.9_qbz5n2kfra8p0\\localcache\\local-packages\\python39\\site-packages (from nebula==0.0.6) (0.12.3)\n",
      "Requirement already satisfied: tqdm>=4.64.0 in c:\\users\\dtrizna\\appdata\\local\\packages\\pythonsoftwarefoundation.python.3.9_qbz5n2kfra8p0\\localcache\\local-packages\\python39\\site-packages (from nebula==0.0.6) (4.64.0)\n",
      "Requirement already satisfied: nltk>=3.7 in c:\\users\\dtrizna\\appdata\\local\\packages\\pythonsoftwarefoundation.python.3.9_qbz5n2kfra8p0\\localcache\\local-packages\\python39\\site-packages (from nebula==0.0.6) (3.7)\n",
      "Requirement already satisfied: matplotlib>=3.5.2 in c:\\users\\dtrizna\\appdata\\local\\packages\\pythonsoftwarefoundation.python.3.9_qbz5n2kfra8p0\\localcache\\local-packages\\python39\\site-packages (from nebula==0.0.6) (3.5.2)\n",
      "Requirement already satisfied: seaborn>=0.11.2 in c:\\users\\dtrizna\\appdata\\local\\packages\\pythonsoftwarefoundation.python.3.9_qbz5n2kfra8p0\\localcache\\local-packages\\python39\\site-packages (from nebula==0.0.6) (0.11.2)\n",
      "Requirement already satisfied: scikit-learn>=1.1.1 in c:\\users\\dtrizna\\appdata\\local\\packages\\pythonsoftwarefoundation.python.3.9_qbz5n2kfra8p0\\localcache\\local-packages\\python39\\site-packages (from nebula==0.0.6) (1.1.1)\n",
      "Requirement already satisfied: sentencepiece in c:\\users\\dtrizna\\appdata\\local\\packages\\pythonsoftwarefoundation.python.3.9_qbz5n2kfra8p0\\localcache\\local-packages\\python39\\site-packages (from nebula==0.0.6) (0.1.97)\n",
      "Requirement already satisfied: orjson in c:\\users\\dtrizna\\appdata\\local\\packages\\pythonsoftwarefoundation.python.3.9_qbz5n2kfra8p0\\localcache\\local-packages\\python39\\site-packages (from nebula==0.0.6) (3.8.1)\n",
      "Requirement already satisfied: shap in c:\\users\\dtrizna\\appdata\\local\\packages\\pythonsoftwarefoundation.python.3.9_qbz5n2kfra8p0\\localcache\\local-packages\\python39\\site-packages (from nebula==0.0.6) (0.41.0)\n",
      "Requirement already satisfied: cycler>=0.10 in c:\\users\\dtrizna\\appdata\\local\\packages\\pythonsoftwarefoundation.python.3.9_qbz5n2kfra8p0\\localcache\\local-packages\\python39\\site-packages (from matplotlib>=3.5.2->nebula==0.0.6) (0.11.0)\n",
      "Requirement already satisfied: fonttools>=4.22.0 in c:\\users\\dtrizna\\appdata\\local\\packages\\pythonsoftwarefoundation.python.3.9_qbz5n2kfra8p0\\localcache\\local-packages\\python39\\site-packages (from matplotlib>=3.5.2->nebula==0.0.6) (4.33.3)\n",
      "Requirement already satisfied: kiwisolver>=1.0.1 in c:\\users\\dtrizna\\appdata\\local\\packages\\pythonsoftwarefoundation.python.3.9_qbz5n2kfra8p0\\localcache\\local-packages\\python39\\site-packages (from matplotlib>=3.5.2->nebula==0.0.6) (1.4.3)\n",
      "Requirement already satisfied: packaging>=20.0 in c:\\users\\dtrizna\\appdata\\local\\packages\\pythonsoftwarefoundation.python.3.9_qbz5n2kfra8p0\\localcache\\local-packages\\python39\\site-packages (from matplotlib>=3.5.2->nebula==0.0.6) (23.1)\n",
      "Requirement already satisfied: pillow>=6.2.0 in c:\\users\\dtrizna\\appdata\\local\\packages\\pythonsoftwarefoundation.python.3.9_qbz5n2kfra8p0\\localcache\\local-packages\\python39\\site-packages (from matplotlib>=3.5.2->nebula==0.0.6) (9.1.1)\n",
      "Requirement already satisfied: pyparsing>=2.2.1 in c:\\users\\dtrizna\\appdata\\local\\packages\\pythonsoftwarefoundation.python.3.9_qbz5n2kfra8p0\\localcache\\local-packages\\python39\\site-packages (from matplotlib>=3.5.2->nebula==0.0.6) (2.4.7)\n",
      "Requirement already satisfied: python-dateutil>=2.7 in c:\\users\\dtrizna\\appdata\\local\\packages\\pythonsoftwarefoundation.python.3.9_qbz5n2kfra8p0\\localcache\\local-packages\\python39\\site-packages (from matplotlib>=3.5.2->nebula==0.0.6) (2.8.2)\n",
      "Requirement already satisfied: click in c:\\users\\dtrizna\\appdata\\local\\packages\\pythonsoftwarefoundation.python.3.9_qbz5n2kfra8p0\\localcache\\local-packages\\python39\\site-packages (from nltk>=3.7->nebula==0.0.6) (8.1.3)\n",
      "Requirement already satisfied: joblib in c:\\users\\dtrizna\\appdata\\local\\packages\\pythonsoftwarefoundation.python.3.9_qbz5n2kfra8p0\\localcache\\local-packages\\python39\\site-packages (from nltk>=3.7->nebula==0.0.6) (1.1.0)\n",
      "Requirement already satisfied: regex>=2021.8.3 in c:\\users\\dtrizna\\appdata\\local\\packages\\pythonsoftwarefoundation.python.3.9_qbz5n2kfra8p0\\localcache\\local-packages\\python39\\site-packages (from nltk>=3.7->nebula==0.0.6) (2022.9.11)\n",
      "Requirement already satisfied: pytz>=2020.1 in c:\\users\\dtrizna\\appdata\\local\\packages\\pythonsoftwarefoundation.python.3.9_qbz5n2kfra8p0\\localcache\\local-packages\\python39\\site-packages (from pandas>=1.4.2->nebula==0.0.6) (2023.3)\n",
      "Requirement already satisfied: scipy>=1.3.2 in c:\\users\\dtrizna\\appdata\\local\\packages\\pythonsoftwarefoundation.python.3.9_qbz5n2kfra8p0\\localcache\\local-packages\\python39\\site-packages (from scikit-learn>=1.1.1->nebula==0.0.6) (1.8.1)\n",
      "Requirement already satisfied: threadpoolctl>=2.0.0 in c:\\users\\dtrizna\\appdata\\local\\packages\\pythonsoftwarefoundation.python.3.9_qbz5n2kfra8p0\\localcache\\local-packages\\python39\\site-packages (from scikit-learn>=1.1.1->nebula==0.0.6) (3.1.0)\n",
      "Requirement already satisfied: pefile in c:\\users\\dtrizna\\appdata\\local\\packages\\pythonsoftwarefoundation.python.3.9_qbz5n2kfra8p0\\localcache\\local-packages\\python39\\site-packages (from speakeasy-emulator>=1.5.11->nebula==0.0.6) (2022.5.30)\n",
      "Requirement already satisfied: capstone in c:\\users\\dtrizna\\appdata\\local\\packages\\pythonsoftwarefoundation.python.3.9_qbz5n2kfra8p0\\localcache\\local-packages\\python39\\site-packages (from speakeasy-emulator>=1.5.11->nebula==0.0.6) (4.0.2)\n",
      "Requirement already satisfied: lznt1 in c:\\users\\dtrizna\\appdata\\local\\packages\\pythonsoftwarefoundation.python.3.9_qbz5n2kfra8p0\\localcache\\local-packages\\python39\\site-packages (from speakeasy-emulator>=1.5.11->nebula==0.0.6) (0.2)\n",
      "Requirement already satisfied: unicorn==1.0.2 in c:\\users\\dtrizna\\appdata\\local\\packages\\pythonsoftwarefoundation.python.3.9_qbz5n2kfra8p0\\localcache\\local-packages\\python39\\site-packages (from speakeasy-emulator>=1.5.11->nebula==0.0.6) (1.0.2)\n",
      "Requirement already satisfied: jsonschema in c:\\users\\dtrizna\\appdata\\local\\packages\\pythonsoftwarefoundation.python.3.9_qbz5n2kfra8p0\\localcache\\local-packages\\python39\\site-packages (from speakeasy-emulator>=1.5.11->nebula==0.0.6) (4.6.0)\n",
      "Requirement already satisfied: pycryptodome in c:\\users\\dtrizna\\appdata\\local\\packages\\pythonsoftwarefoundation.python.3.9_qbz5n2kfra8p0\\localcache\\local-packages\\python39\\site-packages (from speakeasy-emulator>=1.5.11->nebula==0.0.6) (3.15.0)\n",
      "Requirement already satisfied: filelock in c:\\users\\dtrizna\\appdata\\local\\packages\\pythonsoftwarefoundation.python.3.9_qbz5n2kfra8p0\\localcache\\local-packages\\python39\\site-packages (from torch>=1.13.1->nebula==0.0.6) (3.8.2)\n",
      "Requirement already satisfied: typing-extensions in c:\\users\\dtrizna\\appdata\\local\\packages\\pythonsoftwarefoundation.python.3.9_qbz5n2kfra8p0\\localcache\\local-packages\\python39\\site-packages (from torch>=1.13.1->nebula==0.0.6) (4.7.1)\n",
      "Requirement already satisfied: sympy in c:\\users\\dtrizna\\appdata\\local\\packages\\pythonsoftwarefoundation.python.3.9_qbz5n2kfra8p0\\localcache\\local-packages\\python39\\site-packages (from torch>=1.13.1->nebula==0.0.6) (1.11.1)\n",
      "Requirement already satisfied: networkx in c:\\users\\dtrizna\\appdata\\local\\packages\\pythonsoftwarefoundation.python.3.9_qbz5n2kfra8p0\\localcache\\local-packages\\python39\\site-packages (from torch>=1.13.1->nebula==0.0.6) (3.1)\n",
      "Requirement already satisfied: jinja2 in c:\\users\\dtrizna\\appdata\\local\\packages\\pythonsoftwarefoundation.python.3.9_qbz5n2kfra8p0\\localcache\\local-packages\\python39\\site-packages (from torch>=1.13.1->nebula==0.0.6) (3.1.2)\n",
      "Requirement already satisfied: colorama in c:\\users\\dtrizna\\appdata\\local\\packages\\pythonsoftwarefoundation.python.3.9_qbz5n2kfra8p0\\localcache\\local-packages\\python39\\site-packages (from tqdm>=4.64.0->nebula==0.0.6) (0.4.4)\n",
      "Requirement already satisfied: slicer==0.0.7 in c:\\users\\dtrizna\\appdata\\local\\packages\\pythonsoftwarefoundation.python.3.9_qbz5n2kfra8p0\\localcache\\local-packages\\python39\\site-packages (from shap->nebula==0.0.6) (0.0.7)\n",
      "Requirement already satisfied: numba in c:\\users\\dtrizna\\appdata\\local\\packages\\pythonsoftwarefoundation.python.3.9_qbz5n2kfra8p0\\localcache\\local-packages\\python39\\site-packages (from shap->nebula==0.0.6) (0.57.0)\n",
      "Requirement already satisfied: cloudpickle in c:\\users\\dtrizna\\appdata\\local\\packages\\pythonsoftwarefoundation.python.3.9_qbz5n2kfra8p0\\localcache\\local-packages\\python39\\site-packages (from shap->nebula==0.0.6) (2.2.1)\n",
      "Requirement already satisfied: six>=1.5 in c:\\users\\dtrizna\\appdata\\local\\packages\\pythonsoftwarefoundation.python.3.9_qbz5n2kfra8p0\\localcache\\local-packages\\python39\\site-packages (from python-dateutil>=2.7->matplotlib>=3.5.2->nebula==0.0.6) (1.16.0)\n",
      "Requirement already satisfied: MarkupSafe>=2.0 in c:\\users\\dtrizna\\appdata\\local\\packages\\pythonsoftwarefoundation.python.3.9_qbz5n2kfra8p0\\localcache\\local-packages\\python39\\site-packages (from jinja2->torch>=1.13.1->nebula==0.0.6) (2.1.1)\n",
      "Requirement already satisfied: attrs>=17.4.0 in c:\\users\\dtrizna\\appdata\\local\\packages\\pythonsoftwarefoundation.python.3.9_qbz5n2kfra8p0\\localcache\\local-packages\\python39\\site-packages (from jsonschema->speakeasy-emulator>=1.5.11->nebula==0.0.6) (21.4.0)\n",
      "Requirement already satisfied: pyrsistent!=0.17.0,!=0.17.1,!=0.17.2,>=0.14.0 in c:\\users\\dtrizna\\appdata\\local\\packages\\pythonsoftwarefoundation.python.3.9_qbz5n2kfra8p0\\localcache\\local-packages\\python39\\site-packages (from jsonschema->speakeasy-emulator>=1.5.11->nebula==0.0.6) (0.18.1)\n",
      "Requirement already satisfied: llvmlite<0.41,>=0.40.0dev0 in c:\\users\\dtrizna\\appdata\\local\\packages\\pythonsoftwarefoundation.python.3.9_qbz5n2kfra8p0\\localcache\\local-packages\\python39\\site-packages (from numba->shap->nebula==0.0.6) (0.40.0)\n",
      "Requirement already satisfied: future in c:\\users\\dtrizna\\appdata\\local\\packages\\pythonsoftwarefoundation.python.3.9_qbz5n2kfra8p0\\localcache\\local-packages\\python39\\site-packages (from pefile->speakeasy-emulator>=1.5.11->nebula==0.0.6) (0.18.2)\n",
      "Requirement already satisfied: mpmath>=0.19 in c:\\users\\dtrizna\\appdata\\local\\packages\\pythonsoftwarefoundation.python.3.9_qbz5n2kfra8p0\\localcache\\local-packages\\python39\\site-packages (from sympy->torch>=1.13.1->nebula==0.0.6) (1.2.1)\n",
      "Note: you may need to restart the kernel to use updated packages.\n"
     ]
    },
    {
     "name": "stderr",
     "output_type": "stream",
     "text": [
      "  Running command git clone --filter=blob:none --quiet https://github.com/dtrizna/nebula 'C:\\Users\\dtrizna\\AppData\\Local\\Temp\\pip-req-build-he1tlgtr'\n",
      "\n",
      "[notice] A new release of pip is available: 24.0 -> 24.1.1\n",
      "[notice] To update, run: C:\\Users\\dtrizna\\AppData\\Local\\Microsoft\\WindowsApps\\PythonSoftwareFoundation.Python.3.9_qbz5n2kfra8p0\\python.exe -m pip install --upgrade pip\n"
     ]
    }
   ],
   "source": [
    "%pip install git+https://github.com/dtrizna/nebula"
   ]
  },
  {
   "cell_type": "code",
   "execution_count": 2,
   "metadata": {},
   "outputs": [],
   "source": [
    "# force reimport of lab_helpers\n",
    "import sys\n",
    "if 'lab_helpers' in sys.modules:\n",
    "    del sys.modules['lab_helpers']\n",
    "\n",
    "from lab_helpers import *"
   ]
  },
  {
   "cell_type": "markdown",
   "metadata": {},
   "source": [
    "## Download PlugX Sample\n",
    "\n",
    "<img src=\"img/plugx_vt.png\" width=600>"
   ]
  },
  {
   "cell_type": "code",
   "execution_count": 8,
   "metadata": {},
   "outputs": [
    {
     "name": "stdout",
     "output_type": "stream",
     "text": [
      "b'MZP\\x00\\x02\\x00\\x00\\x00\\x04\\x00\\x0f\\x00\\xff\\xff\\x00\\x00\\xb8\\x00\\x00\\x00'\n"
     ]
    }
   ],
   "source": [
    "# NOTE: for some reason download from vx-underground is denied by the server \n",
    "# works from browser, but not if using requests.get, user-agent browser mimic does not help\n",
    "vx_link = \"https://samples.vx-underground.org/Samples/Families/PlugX/0D219AA54B1D417DA61BD4AED5EEB53D6CBA91B3287D53186B21FED450248215.7z\"\n",
    "# using a private hosted copy\n",
    "plugx_rat_path = \"http://malware-training.us.to/0d219aa54b1d417da61bd4aed5eeb53d6cba91b3287d53186b21fed450248215.7z\"\n",
    "plugx_rat_bytez = get_encrypted_archive(plugx_rat_path, password=\"infected\")\n",
    "print(plugx_rat_bytez[0:20])"
   ]
  },
  {
   "cell_type": "markdown",
   "metadata": {},
   "source": [
    "## Machine Learning Model with Dynamic Malware Analysis "
   ]
  },
  {
   "cell_type": "code",
   "execution_count": 10,
   "metadata": {},
   "outputs": [
    {
     "name": "stdout",
     "output_type": "stream",
     "text": [
      "[!] First 5 API calls invoked by PlugX RAT:\n",
      "\n",
      "{'api_name': 'kernel32.GetModuleHandleA', 'args': ['0x0'], 'ret_val': '0x400000'}\n",
      "{'api_name': 'user32.GetKeyboardType', 'args': ['0x0'], 'ret_val': '0x4'}\n",
      "{'api_name': 'kernel32.GetCommandLineA', 'args': [], 'ret_val': '0x45f0'}\n",
      "{'api_name': 'kernel32.GetStartupInfoA', 'args': ['0x1211f30'], 'ret_val': None}\n",
      "{'api_name': 'kernel32.GetVersion', 'args': [], 'ret_val': '0x1db10106'}\n"
     ]
    }
   ],
   "source": [
    "import nebula\n",
    "\n",
    "nebula_transformer = nebula.Nebula(tokenizer='bpe')\n",
    "plugx_rat_report = nebula_transformer.dynamic_analysis_pe_file(plugx_rat_bytez)\n",
    "\n",
    "print(\"[!] First 5 API calls invoked by PlugX RAT:\\n\")\n",
    "_ = [print(val) for val in plugx_rat_report['apis'][0:5]]"
   ]
  },
  {
   "cell_type": "code",
   "execution_count": 11,
   "metadata": {},
   "outputs": [
    {
     "name": "stdout",
     "output_type": "stream",
     "text": [
      "[!] Shape of dynamic features: (1, 512)\n",
      "\n",
      "[!] First 5 dynamic features:\n",
      "\n",
      "[ 2235  1036   530  1203   778  1078   125  1103 15492 49966   932   530\n",
      "  1203   778   560  1176  1103 15492 49966   932]\n"
     ]
    }
   ],
   "source": [
    "plugx_dynamic_features = nebula_transformer.preprocess(plugx_rat_report)\n",
    "\n",
    "print(f\"[!] Shape of dynamic features: {plugx_dynamic_features.shape}\\n\")\n",
    "\n",
    "print(f\"[!] First 5 dynamic features:\\n\\n{plugx_dynamic_features[0, 0:20]}\")"
   ]
  },
  {
   "cell_type": "code",
   "execution_count": 12,
   "metadata": {},
   "outputs": [
    {
     "name": "stdout",
     "output_type": "stream",
     "text": [
      "[!] Probability malware: 93.04% | File: 0d219aa54b1d417da61bd4aed5eeb53d6cba91b3287d53186b21fed450248215\n",
      "[!] Probability malware:  0.74% | File: calc.exe\n"
     ]
    }
   ],
   "source": [
    "import torch\n",
    "torch.manual_seed(0)\n",
    "prob = nebula_transformer.predict_proba(plugx_dynamic_features)\n",
    "\n",
    "hhash = vx_link.split(\"/\")[-1].split(\".\")[0].lower()\n",
    "print(f\"[!] Probability malware: {prob*100:>5.2f}% | File: {hhash}\")\n",
    "\n",
    "if os.path.exists(r\"C:\\windows\\system32\\calc.exe\"):\n",
    "    with open (r\"C:\\windows\\system32\\calc.exe\", \"rb\") as f:\n",
    "        calc_bytez = f.read()\n",
    "\n",
    "    report = nebula_transformer.dynamic_analysis_pe_file(calc_bytez)\n",
    "    dynamic_features = nebula_transformer.preprocess(report)\n",
    "    \n",
    "    prob = nebula_transformer.predict_proba(dynamic_features)\n",
    "    print(f\"[!] Probability malware: {prob*100:>5.2f}% | File: calc.exe\")"
   ]
  },
  {
   "cell_type": "markdown",
   "metadata": {},
   "source": [
    "## Speakeasy Emulator\n",
    "\n",
    "How this is achieved under the hood?\n",
    "\n",
    "Speakeasy is a Python-based emulator build and actively maintained by Mandiant.\n",
    "\n",
    "It is built on top of the Unicorn emulator framework, and emulated x86 architecture solely with a focus on malware analysis.\n"
   ]
  },
  {
   "cell_type": "code",
   "execution_count": 13,
   "metadata": {},
   "outputs": [],
   "source": [
    "import speakeasy\n",
    "emulator = speakeasy.Speakeasy()\n",
    "\n",
    "module = emulator.load_module(data=plugx_rat_bytez)\n",
    "emulator.run_module(module)\n",
    "report = emulator.get_report()\n",
    "\n",
    "# drop report to disk\n",
    "import json\n",
    "with open(\"plugx_report.json\", \"w\") as f:\n",
    "    json.dump(report, f, indent=4)"
   ]
  },
  {
   "cell_type": "markdown",
   "metadata": {},
   "source": [
    "Observe `plugx_report.json` file."
   ]
  },
  {
   "cell_type": "code",
   "execution_count": 14,
   "metadata": {},
   "outputs": [
    {
     "name": "stdout",
     "output_type": "stream",
     "text": [
      "Number of API calls invoked by PlugX RAT: 197\n"
     ]
    }
   ],
   "source": [
    "api_nr = len(report['entry_points'][0]['apis'])\n",
    "print(f\"Number of API calls invoked by PlugX RAT: {api_nr}\")"
   ]
  },
  {
   "cell_type": "code",
   "execution_count": 15,
   "metadata": {},
   "outputs": [
    {
     "name": "stdout",
     "output_type": "stream",
     "text": [
      "{'pc': '0x4069ad', 'api_name': 'kernel32.GetModuleHandleA', 'args': ['0x0'], 'ret_val': '0x400000'}\n",
      "{'pc': '0x40398a', 'api_name': 'user32.GetKeyboardType', 'args': ['0x0'], 'ret_val': '0x4'}\n",
      "{'pc': '0x406870', 'api_name': 'kernel32.GetCommandLineA', 'args': [], 'ret_val': '0x45f0'}\n",
      "{'pc': '0x401333', 'api_name': 'kernel32.GetStartupInfoA', 'args': ['0x1211f30'], 'ret_val': None}\n",
      "{'pc': '0x406884', 'api_name': 'kernel32.GetVersion', 'args': [], 'ret_val': '0x1db10106'}\n"
     ]
    }
   ],
   "source": [
    "_ = [print(val) for val in report['entry_points'][0]['apis'][0:5]]"
   ]
  },
  {
   "cell_type": "code",
   "execution_count": 16,
   "metadata": {},
   "outputs": [
    {
     "name": "stdout",
     "output_type": "stream",
     "text": [
      "Error type: unsupported_api | API: 'gdi32.GetSystemPaletteEntries'\n"
     ]
    }
   ],
   "source": [
    "error_type = report['entry_points'][0]['error']['type']\n",
    "api = report['entry_points'][0]['error']['api_name']\n",
    "print(f\"Error type: {error_type} | API: '{api}'\")"
   ]
  },
  {
   "cell_type": "markdown",
   "metadata": {},
   "source": [
    "We got the same values as the ones we got from the `nebula` analysis above. In reality, Speakeasy has extra fields that are a potential source of information for our model."
   ]
  },
  {
   "cell_type": "code",
   "execution_count": 17,
   "metadata": {},
   "outputs": [
    {
     "data": {
      "text/plain": [
       "[{'event': 'open_key',\n",
       "  'path': 'HKEY_CURRENT_USER\\\\Software\\\\Borland\\\\Locales'},\n",
       " {'event': 'open_key',\n",
       "  'path': 'HKEY_LOCAL_MACHINE\\\\Software\\\\Borland\\\\Locales'},\n",
       " {'event': 'open_key',\n",
       "  'path': 'HKEY_CURRENT_USER\\\\Software\\\\Borland\\\\Delphi\\\\Locales'}]"
      ]
     },
     "execution_count": 17,
     "metadata": {},
     "output_type": "execute_result"
    }
   ],
   "source": [
    "report['entry_points'][0]['registry_access']"
   ]
  },
  {
   "cell_type": "markdown",
   "metadata": {},
   "source": [
    "Speakeasy is adjustable tool and supports a variety of configurations, for instance, it is possible to modify environment variables, user and domain information, simulate network state, and more."
   ]
  },
  {
   "cell_type": "code",
   "execution_count": 18,
   "metadata": {},
   "outputs": [
    {
     "data": {
      "text/plain": [
       "{'comspec': 'C:\\\\Windows\\\\system32\\\\cmd.exe',\n",
       " 'systemroot': 'C:\\\\Windows',\n",
       " 'windir': 'C:\\\\Windows',\n",
       " 'temp': 'C:\\\\Windows\\\\temp\\\\',\n",
       " 'userprofile': 'C:\\\\Users\\\\dtrizna',\n",
       " 'systemdrive': 'C:',\n",
       " 'allusersprofile': 'C:\\\\ProgramData',\n",
       " 'programfiles': 'C:\\\\Program Files'}"
      ]
     },
     "execution_count": 18,
     "metadata": {},
     "output_type": "execute_result"
    }
   ],
   "source": [
    "speakeasy_config = os.path.join(os.path.dirname(nebula.__file__), \"objects\", \"speakeasy_config.json\")\n",
    "\n",
    "with open(speakeasy_config, \"r\") as f:\n",
    "    speakeasy_config = json.load(f)\n",
    "\n",
    "speakeasy_config['env']"
   ]
  },
  {
   "cell_type": "code",
   "execution_count": 19,
   "metadata": {},
   "outputs": [
    {
     "name": "stdout",
     "output_type": "stream",
     "text": [
      "foo.bar\n",
      "{'name': 'dtrizna', 'is_admin': True}\n"
     ]
    }
   ],
   "source": [
    "print(speakeasy_config['domain'])\n",
    "print(speakeasy_config['user'])"
   ]
  },
  {
   "cell_type": "code",
   "execution_count": 20,
   "metadata": {},
   "outputs": [
    {
     "data": {
      "text/plain": [
       "{'dns': {'names': {'work.foo.bar': '127.0.0.1',\n",
       "   'foo.bar': '10.1.2.3',\n",
       "   'default': '10.1.2.3',\n",
       "   'google.com': '8.8.8.8',\n",
       "   'localhost': '127.0.0.1'},\n",
       "  'txt': [{'name': 'default', 'path': '$ROOT$/resources/web/default.bin'}]},\n",
       " 'http': {'responses': [{'verb': 'GET',\n",
       "    'files': [{'mode': 'default', 'path': '$ROOT$/resources/web/default.bin'},\n",
       "     {'mode': 'by_ext',\n",
       "      'ext': 'gif',\n",
       "      'path': '$ROOT$/resources/web/decoy.gif'},\n",
       "     {'mode': 'by_ext',\n",
       "      'ext': 'jpg',\n",
       "      'path': '$ROOT$/resources/web/decoy.jpg'}]}]},\n",
       " 'winsock': {'responses': [{'mode': 'default',\n",
       "    'path': '$ROOT$/resources/web/stager.bin'}]}}"
      ]
     },
     "execution_count": 20,
     "metadata": {},
     "output_type": "execute_result"
    }
   ],
   "source": [
    "speakeasy_config['network']"
   ]
  },
  {
   "cell_type": "code",
   "execution_count": 21,
   "metadata": {},
   "outputs": [],
   "source": [
    "# force reimport of lab_helpers\n",
    "import sys\n",
    "if 'lab_helpers' in sys.modules:\n",
    "    del sys.modules['lab_helpers']\n",
    "\n",
    "from lab_helpers import *"
   ]
  },
  {
   "cell_type": "markdown",
   "metadata": {},
   "source": [
    "## Transformer Model\n",
    "\n",
    "Nebula uses Transformer model to classify malware, the same architecture used in GPT. Transformer is a deep learning model that is based on the attention mechanism."
   ]
  },
  {
   "cell_type": "code",
   "execution_count": 22,
   "metadata": {},
   "outputs": [
    {
     "data": {
      "text/plain": [
       "TransformerEncoderChunks(\n",
       "  (encoder): Embedding(50001, 64)\n",
       "  (pos_encoder): PositionalEncoding(\n",
       "    (dropout): Dropout(p=0.3, inplace=False)\n",
       "  )\n",
       "  (transformer_encoder): TransformerEncoder(\n",
       "    (layers): ModuleList(\n",
       "      (0-1): 2 x TransformerEncoderLayer(\n",
       "        (self_attn): MultiheadAttention(\n",
       "          (out_proj): NonDynamicallyQuantizableLinear(in_features=64, out_features=64, bias=True)\n",
       "        )\n",
       "        (linear1): Linear(in_features=64, out_features=256, bias=True)\n",
       "        (dropout): Dropout(p=0.3, inplace=False)\n",
       "        (linear2): Linear(in_features=256, out_features=64, bias=True)\n",
       "        (norm1): LayerNorm((64,), eps=1e-05, elementwise_affine=True)\n",
       "        (norm2): LayerNorm((64,), eps=1e-05, elementwise_affine=True)\n",
       "        (dropout1): Dropout(p=0.3, inplace=False)\n",
       "        (dropout2): Dropout(p=0.3, inplace=False)\n",
       "      )\n",
       "    )\n",
       "  )\n",
       "  (classifier_head): Sequential(\n",
       "    (0): Sequential(\n",
       "      (0): Linear(in_features=32768, out_features=64, bias=True)\n",
       "      (1): ReLU()\n",
       "      (2): Dropout(p=0.3, inplace=False)\n",
       "    )\n",
       "    (1): Linear(in_features=64, out_features=1, bias=True)\n",
       "  )\n",
       ")"
      ]
     },
     "execution_count": 22,
     "metadata": {},
     "output_type": "execute_result"
    }
   ],
   "source": [
    "nebula_transformer.model"
   ]
  },
  {
   "cell_type": "markdown",
   "metadata": {},
   "source": [
    "You can see that in the core of the `transformer_encoder` there is `self_attn` layer based on `MultiheadAttention` class.\n",
    "\n",
    "### Self-attention\n",
    "\n",
    "<img src=\"img/self_attn.gif\" width=600>\n",
    "\n",
    "[[Image Source]](https://medium.com/analytics-vidhya/intuitive-understanding-of-seq2seq-model-attention-mechanism-in-deep-learning-1c1c24aace1e)"
   ]
  },
  {
   "cell_type": "markdown",
   "metadata": {},
   "source": [
    "### TODO"
   ]
  },
  {
   "cell_type": "code",
   "execution_count": null,
   "metadata": {},
   "outputs": [],
   "source": [
    "# TODO"
   ]
  },
  {
   "cell_type": "markdown",
   "metadata": {},
   "source": [
    "# Bonus: Emulation Quality Analysis"
   ]
  },
  {
   "cell_type": "code",
   "execution_count": 23,
   "metadata": {},
   "outputs": [
    {
     "name": "stdout",
     "output_type": "stream",
     "text": [
      "[!] Number of archives: 18\n"
     ]
    },
    {
     "name": "stderr",
     "output_type": "stream",
     "text": [
      "[*] Decrypting:   0%|          | 0/18 [00:00<?, ?it/s]"
     ]
    },
    {
     "name": "stderr",
     "output_type": "stream",
     "text": [
      "[*] Decrypting: 100%|██████████| 18/18 [00:15<00:00,  1.14it/s]"
     ]
    },
    {
     "name": "stdout",
     "output_type": "stream",
     "text": [
      "[!] Number of files in archives: 33\n"
     ]
    },
    {
     "name": "stderr",
     "output_type": "stream",
     "text": [
      "\n"
     ]
    }
   ],
   "source": [
    "import os\n",
    "from tqdm import tqdm\n",
    "if not os.path.exists(\"Ransomware-Samples\"):\n",
    "    !git clone https://github.com/kh4sh3i/Ransomware-Samples\n",
    "\n",
    "ransomware_samples = []\n",
    "for root, dirs, files in os.walk(\"Ransomware-Samples\"):\n",
    "    for d in dirs:\n",
    "        files = os.listdir(os.path.join(root, d))\n",
    "        for f in files:\n",
    "            if f.endswith(\".zip\"):\n",
    "                ransomware_samples.append(os.path.join(root, d, f))\n",
    "\n",
    "print(f\"[!] Number of archives: {len(ransomware_samples)}\")\n",
    "\n",
    "ransomware_bytez = {}\n",
    "for ransomware in tqdm(ransomware_samples, desc=\"[*] Decrypting\"):\n",
    "    bytez = get_encrypted_archive(ransomware, password=\"infected\")\n",
    "    ransomware_bytez.update(bytez)\n",
    "\n",
    "l = len(ransomware_bytez)\n",
    "print(f\"[!] Number of files in archives: {l}\")"
   ]
  },
  {
   "cell_type": "code",
   "execution_count": 24,
   "metadata": {},
   "outputs": [
    {
     "name": "stdout",
     "output_type": "stream",
     "text": [
      "[0/33] Emulating cerber.exe\n",
      "\t[+] Succeeded. Emulation time: 5.54 sec\n",
      "[1/33] Emulating cryptowall.bin\n",
      "\t[+] Succeeded. Emulation time: 23.51 sec\n",
      "[2/33] Emulating jigsaw\n",
      "\t[-] Skipping... Error: .NET assemblies are not currently supported\n",
      "[3/33] Emulating Locky\n",
      "\t[+] Succeeded. Emulation time: 0.51 sec\n",
      "[4/33] Emulating 131.exe\n",
      "\t[+] Succeeded. Emulation time: 0.87 sec\n",
      "[5/33] Emulating Matsnu-MBRwipingRansomware_1B2D2A4B97C7C2727D571BBF9376F54F_Inkasso Rechnung vom 27.05.2013 .com_\n",
      "\t[+] Succeeded. Emulation time: 0.35 sec\n",
      "[6/33] Emulating ee29b9c01318a1e23836b949942db14d4811246fdae2f41df9f0dcd922c63bc6.bin.gz\n",
      "[7/33] Emulating fe2e5d0543b4c8769e401ec216d78a5a3547dfd426fd47e097df04a5f7d6d206_OFkNP1kKL9.bin.gz\n",
      "[8/33] Emulating myguy.hta\n",
      "\t[-] Error: Target file is not a PE | Length: 13893 bytes: b'PK\\x03\\x04\\x14 \\x06 \\x08   ! \\xdd\\xfc\\x957f\\x01'...\n",
      "[9/33] Emulating svchost.exe\n",
      "\t[-] Skipping... Error: .NET assemblies are not currently supported\n",
      "[10/33] Emulating 027cc450ef5f8c5f653329641ec1fed9.exe\n",
      "\t[+] Succeeded. Emulation time: 0.25 sec\n",
      "[11/33] Emulating 027cc450ef5f8c5f653329641ec1fed91f694e0d229928963b30f6b0d7d3a745_98STJd8lju.bin.gz\n",
      "[12/33] Emulating 4c1dc737915d76b7ce579abddaba74ead6fdb5b519a1ea45308b8c49b950655c.bin\n",
      "\t[+] Succeeded. Emulation time: 60.83 sec\n",
      "[13/33] Emulating 26b4699a7b9eeb16e76305d843d4ab05e94d43f3201436927e13b3ebafa90739.bin\n",
      "\t[+] Succeeded. Emulation time: 60.38 sec\n",
      "[14/33] Emulating Supplementary Agreement 26_01_2016.zip.ViR\n",
      "\t[-] Error: Target file is not a PE | Length: 38464 bytes: b'PK\\x03\\x04\\x14\\x00\\x00\\x00\\x08\\x00M\\x1d6C\\xe5\\xff\\x8e\\xfa\\x92\\x95'...\n",
      "[15/33] Emulating DUMP_00A10000-00A1D000.exe.ViR\n",
      "\t[+] Succeeded. Emulation time: 0.22 sec\n",
      "[16/33] Emulating 1001a8c7f33185217e6e1bdbb8dba9780d475da944684fb4bf1fc04809525887\n",
      "\t[+] Succeeded. Emulation time: 0.45 sec\n",
      "[17/33] Emulating WTEpZSFwgb\n",
      "\t[-] Error: Target file is not a PE | Length: 7629344 bytes: b'\\x7fELF\\x01\\x01\\x01\\x00\\x00\\x00\\x00\\x00\\x00\\x00\\x00\\x00\\x02\\x00\\x03\\x00'...\n",
      "[18/33] Emulating 683a09da219918258c58a7f61f7dc4161a3a7a377cf82a31b840baabfb9a4a96.bin\n",
      "\t[+] Succeeded. Emulation time: 0.14 sec\n",
      "[19/33] Emulating unpacked.mem\n",
      "\t[+] Succeeded. Emulation time: 0.16 sec\n",
      "[20/33] Emulating E906FA3D51E86A61741B3499145A114E9BFB7C56\n",
      "\t[+] Succeeded. Emulation time: 0.20 sec\n",
      "[21/33] Emulating 51B4EF5DC9D26B7A26E214CEE90598631E2EAA67\n",
      "\t[+] Succeeded. Emulation time: 0.22 sec\n",
      "[22/33] Emulating 3372c1edab46837f1e973164fa2d726c5c5e17bcb888828ccd7c4dfcc234a370\n",
      "\t[+] Succeeded. Emulation time: 0.33 sec\n",
      "[23/33] Emulating 58bfb9fa8889550d13f42473956dc2a7ec4f3abb18fd3faeaa38089d513c171f\n",
      "\t[-] Skipping... Error: .NET assemblies are not currently supported\n",
      "[24/33] Emulating 5d40615701c48a122e44f831e7c8643d07765629a83b15d090587f469c77693d\n",
      "\t[-] Skipping... Error: .NET assemblies are not currently supported\n",
      "[25/33] Emulating ae66e009e16f0fad3b70ad20801f48f2edb904fa5341a89e126a26fd3fc80f75\n",
      "\t[+] Succeeded. Emulation time: 0.14 sec\n",
      "[26/33] Emulating c460fc0d4fdaf5c68623e18de106f1c3601d7bd6ba80ddad86c10fd6ea123850\n",
      "\t[-] Skipping... Error: .NET assemblies are not currently supported\n",
      "[27/33] Emulating Ransomware.Unnamed_0.exe\n",
      "\t[-] Skipping... Error: .NET assemblies are not currently supported\n",
      "[28/33] Emulating 0442cfabb3212644c4b894a7e4a7e84c00fd23489cc4f96490f9988e6074b6ab\n",
      "\t[+] Succeeded. Emulation time: 0.87 sec\n",
      "[29/33] Emulating c0cf40b8830d666a24bdd4febdc162e95aa30ed968fa3675e26ad97b2e88e03a\n",
      "\t[+] Succeeded. Emulation time: 0.82 sec\n",
      "[30/33] Emulating e49778d20a2f9b1f8b00ddd24b6bcee81af381ed02cfe0a3c9ab3111cda5f573\n",
      "\t[+] Succeeded. Emulation time: 0.47 sec\n",
      "[31/33] Emulating ed01ebfbc9eb5bbea545af4d01bf5f1071661840480439c6e5babe8e080e41aa.exe\n",
      "\t[+] Succeeded. Emulation time: 0.87 sec\n",
      "[32/33] Emulating Win32.Wannacry.exe\n",
      "\t[+] Succeeded. Emulation time: 0.93 sec\n"
     ]
    }
   ],
   "source": [
    "import time\n",
    "import speakeasy.errors\n",
    "\n",
    "emulation_times = []\n",
    "ransomware_reports = []\n",
    "for i, (name, bytez) in enumerate(ransomware_bytez.items()):\n",
    "    print(f\"[{i}/{l}] Emulating {name}\")\n",
    "    if name.endswith(\".gz\"):\n",
    "        # if gz, then next file in archive is decompressed, so skipping this\n",
    "        continue\n",
    "        \n",
    "    start = time.time()\n",
    "    try:\n",
    "        module = emulator.load_module(data=bytez)\n",
    "        emulator.run_module(module)\n",
    "        report = emulator.get_report()\n",
    "    except speakeasy.errors.NotSupportedError as e:\n",
    "        print(f\"\\t[-] Skipping... Error: {e}\")\n",
    "        continue # .NET binaries are not supported\n",
    "    except speakeasy.errors.SpeakeasyError as e:\n",
    "        print(f\"\\t[-] Error: {e} | Length: {len(bytez)} bytes: {bytez[0:20]}...\")\n",
    "        continue # not a PE file\n",
    "    end = time.time()\n",
    "\n",
    "    emulation_times.append(end-start)\n",
    "    ransomware_reports.append(report)\n",
    "    print(f\"\\t[+] Succeeded. Emulation time: {end-start:.2f} sec\")"
   ]
  },
  {
   "cell_type": "code",
   "execution_count": 25,
   "metadata": {},
   "outputs": [
    {
     "name": "stdout",
     "output_type": "stream",
     "text": [
      "[!] Average emulation time: 7.53s\n",
      "[!] Min emulation time: 0.14s\n",
      "[!] Max emulation time: 60.83s\n"
     ]
    },
    {
     "data": {
      "image/png": "[encoded data removed]",
      "text/plain": [
       "<Figure size 720x360 with 1 Axes>"
      ]
     },
     "metadata": {
      "needs_background": "light"
     },
     "output_type": "display_data"
    }
   ],
   "source": [
    "# report emulation times\n",
    "print(f\"[!] Average emulation time: {sum(emulation_times)/len(emulation_times):.2f}s\")\n",
    "# min and max emulation time\n",
    "print(f\"[!] Min emulation time: {min(emulation_times):.2f}s\")\n",
    "print(f\"[!] Max emulation time: {max(emulation_times):.2f}s\")\n",
    "\n",
    "import matplotlib.pyplot as plt\n",
    "fig, ax = plt.subplots(figsize=(10, 5))\n",
    "ax.set_ylabel(\"Frequency\")\n",
    "ax.set_xlabel(\"Emulation time [s]\")\n",
    "_ = ax.hist(emulation_times, bins=500)"
   ]
  },
  {
   "cell_type": "code",
   "execution_count": 26,
   "metadata": {},
   "outputs": [
    {
     "name": "stdout",
     "output_type": "stream",
     "text": [
      "[!] Average number of API calls: 608.05\n",
      "[!] Min number of API calls: 0\n",
      "[!] Max number of API calls: 10001\n"
     ]
    },
    {
     "data": {
      "image/png": "[encoded data removed]",
      "text/plain": [
       "<Figure size 720x360 with 1 Axes>"
      ]
     },
     "metadata": {
      "needs_background": "light"
     },
     "output_type": "display_data"
    }
   ],
   "source": [
    "# show stats about api calls\n",
    "api_calls = []\n",
    "for report in ransomware_reports:\n",
    "    api_calls.append(len(report['entry_points'][0]['apis']))\n",
    "\n",
    "print(f\"[!] Average number of API calls: {sum(api_calls)/len(api_calls):.2f}\")\n",
    "print(f\"[!] Min number of API calls: {min(api_calls)}\")\n",
    "print(f\"[!] Max number of API calls: {max(api_calls)}\")\n",
    "\n",
    "fig, ax = plt.subplots(figsize=(10, 5))\n",
    "ax.set_ylabel(\"Frequency\")\n",
    "ax.set_xlabel(\"Number of API calls\")\n",
    "_ = ax.hist(api_calls, bins=500)"
   ]
  },
  {
   "cell_type": "code",
   "execution_count": 27,
   "metadata": {},
   "outputs": [
    {
     "name": "stdout",
     "output_type": "stream",
     "text": [
      "Error: max_api_count\n",
      "Error 'unsupported_api' with: KERNEL32.SetProcessPriorityBoost | Extracted API length: 460\n",
      "Error: Invalid memory fetch (UC_ERR_FETCH_UNMAPPED)\n",
      "Error 'unsupported_api' with: SHLWAPI.PathFileExistsW | Extracted API length: 229\n",
      "Error 'unsupported_api' with: KERNEL32.MoveFileA | Extracted API length: 375\n",
      "Error: {}\n",
      "Error: {}\n",
      "Error: {}\n",
      "Error 'unsupported_api' with: msvcrt.__p__environ | Extracted API length: 117\n",
      "Error: {}\n",
      "Error 'unsupported_api' with: ntdll.vsprintf | Extracted API length: 0\n",
      "Error 'unsupported_api' with: ntdll._chkstk | Extracted API length: 0\n",
      "Error: {}\n",
      "Error: {}\n",
      "Error: Invalid memory read (UC_ERR_READ_UNMAPPED)\n",
      "Error: invalid_fetch\n",
      "Error 'unsupported_api' with: gdi32.GetSystemPaletteEntries | Extracted API length: 189\n",
      "Error 'unsupported_api' with: gdi32.GetSystemPaletteEntries | Extracted API length: 189\n",
      "Error 'unsupported_api' with: gdi32.GetSystemPaletteEntries | Extracted API length: 189\n",
      "Error: Invalid memory write (UC_ERR_WRITE_UNMAPPED)\n",
      "Error: {}\n"
     ]
    }
   ],
   "source": [
    "for report in ransomware_reports:\n",
    "    if 'error' in report['entry_points'][0]:\n",
    "        if 'type' in report['entry_points'][0]['error']:\n",
    "            if 'api_name' in report['entry_points'][0]['error']:\n",
    "                print(f\"Error 'unsupported_api' with: {report['entry_points'][0]['error']['api_name']} | Extracted API length: {len(report['entry_points'][0]['apis'])}\")\n",
    "            else:\n",
    "                print(f\"Error: {report['entry_points'][0]['error']['type']}\")\n",
    "        else:\n",
    "            print(f\"Error: {report['entry_points'][0]['error']}\")"
   ]
  }
 ],
 "metadata": {
  "kernelspec": {
   "display_name": "Python 3",
   "language": "python",
   "name": "python3"
  },
  "language_info": {
   "codemirror_mode": {
    "name": "ipython",
    "version": 3
   },
   "file_extension": ".py",
   "mimetype": "text/x-python",
   "name": "python",
   "nbconvert_exporter": "python",
   "pygments_lexer": "ipython3",
   "version": "3.9.13"
  }
 },
 "nbformat": 4,
 "nbformat_minor": 2
}
